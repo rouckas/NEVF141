{
 "cells": [
  {
   "cell_type": "markdown",
   "metadata": {},
   "source": [
    "## Exercise 2"
   ]
  },
  {
   "cell_type": "markdown",
   "metadata": {
    "execution": {
     "iopub.execute_input": "2024-10-15T09:51:58.775441Z",
     "iopub.status.busy": "2024-10-15T09:51:58.774816Z",
     "iopub.status.idle": "2024-10-15T09:51:58.783906Z",
     "shell.execute_reply": "2024-10-15T09:51:58.783384Z",
     "shell.execute_reply.started": "2024-10-15T09:51:58.775360Z"
    }
   },
   "source": [
    "# Root finding\n",
    "Program a method for root finding by bisection (interval halving)\n",
    "\n",
    "Find the root of sin(x) between 3 and 4 by the bisection method"
   ]
  },
  {
   "cell_type": "code",
   "execution_count": 1,
   "metadata": {
    "execution": {
     "iopub.execute_input": "2025-10-21T08:26:13.725143Z",
     "iopub.status.busy": "2025-10-21T08:26:13.724918Z",
     "iopub.status.idle": "2025-10-21T08:26:13.778425Z",
     "shell.execute_reply": "2025-10-21T08:26:13.776969Z",
     "shell.execute_reply.started": "2025-10-21T08:26:13.725126Z"
    }
   },
   "outputs": [],
   "source": [
    "import numpy as np\n",
    "a, b = 3, 4\n",
    "def f(x): return np.sin(x)"
   ]
  },
  {
   "cell_type": "code",
   "execution_count": 2,
   "metadata": {
    "execution": {
     "iopub.execute_input": "2025-10-21T08:26:13.779224Z",
     "iopub.status.busy": "2025-10-21T08:26:13.779043Z",
     "iopub.status.idle": "2025-10-21T08:26:13.784087Z",
     "shell.execute_reply": "2025-10-21T08:26:13.783490Z",
     "shell.execute_reply.started": "2025-10-21T08:26:13.779211Z"
    }
   },
   "outputs": [],
   "source": [
    "def bisect(f, a, b, maxiter=53):\n",
    "    # task: define the body of this function\n",
    "    if np.sign(f(a))*np.sign(f(b)) >= 0:\n",
    "        raise(ValueError(\"Function sign must differ at a and b\"))\n",
    "    \n",
    "    for i in range(maxiter):\n",
    "        m = (a+b)/2.\n",
    "        fm = f(m)\n",
    "        if m in [a, b] or fm == 0:\n",
    "            # floating point tolerance reached or exact solution found\n",
    "            return m, i\n",
    "        \n",
    "        if fm*np.sign(f(a)) < 0:\n",
    "            b = m\n",
    "        elif fm*np.sign(f(b)) < 0:\n",
    "            a = m\n",
    "    \n",
    "    return m, i"
   ]
  },
  {
   "cell_type": "code",
   "execution_count": 3,
   "metadata": {
    "execution": {
     "iopub.execute_input": "2025-10-21T08:26:13.785691Z",
     "iopub.status.busy": "2025-10-21T08:26:13.785240Z",
     "iopub.status.idle": "2025-10-21T08:26:13.797890Z",
     "shell.execute_reply": "2025-10-21T08:26:13.797564Z",
     "shell.execute_reply.started": "2025-10-21T08:26:13.785618Z"
    }
   },
   "outputs": [
    {
     "data": {
      "text/plain": [
       "(3.141592653589793, 51)"
      ]
     },
     "execution_count": 3,
     "metadata": {},
     "output_type": "execute_result"
    }
   ],
   "source": [
    "bisect(f, 3, 4)"
   ]
  },
  {
   "cell_type": "code",
   "execution_count": 4,
   "metadata": {
    "execution": {
     "iopub.execute_input": "2025-10-21T08:26:13.798716Z",
     "iopub.status.busy": "2025-10-21T08:26:13.798592Z",
     "iopub.status.idle": "2025-10-21T08:26:13.802354Z",
     "shell.execute_reply": "2025-10-21T08:26:13.800883Z",
     "shell.execute_reply.started": "2025-10-21T08:26:13.798705Z"
    }
   },
   "outputs": [
    {
     "data": {
      "text/plain": [
       "3.141592653589793"
      ]
     },
     "execution_count": 4,
     "metadata": {},
     "output_type": "execute_result"
    }
   ],
   "source": [
    "np.pi"
   ]
  },
  {
   "cell_type": "markdown",
   "metadata": {},
   "source": [
    "### Newton's method\n",
    "\n",
    "Function $f(x)$ can be approximated by Taylor series in the vicinity of point $x_n$ as \n",
    "$$ f(x) \\approx f(x_{n}) + f'(x_n)(x - x_n)$$\n",
    "Solving for $f(x)=0$ gives\n",
    "$$x = x_{n}-\\frac{f(x_n)}{f'(x_n)}$$"
   ]
  },
  {
   "cell_type": "code",
   "execution_count": 5,
   "metadata": {
    "execution": {
     "iopub.execute_input": "2025-10-21T08:26:13.803018Z",
     "iopub.status.busy": "2025-10-21T08:26:13.802832Z",
     "iopub.status.idle": "2025-10-21T08:26:13.804916Z",
     "shell.execute_reply": "2025-10-21T08:26:13.804636Z",
     "shell.execute_reply.started": "2025-10-21T08:26:13.803006Z"
    }
   },
   "outputs": [],
   "source": [
    "# given\n",
    "def f(x): return np.sin(x)\n",
    "def df(x): return np.cos(x)"
   ]
  },
  {
   "cell_type": "code",
   "execution_count": 6,
   "metadata": {
    "execution": {
     "iopub.execute_input": "2025-10-21T08:26:13.805530Z",
     "iopub.status.busy": "2025-10-21T08:26:13.805396Z",
     "iopub.status.idle": "2025-10-21T08:26:13.807937Z",
     "shell.execute_reply": "2025-10-21T08:26:13.807576Z",
     "shell.execute_reply.started": "2025-10-21T08:26:13.805518Z"
    }
   },
   "outputs": [],
   "source": [
    "# implement the Newton's method\n",
    "def newton(f, df, a, maxiter=10):\n",
    "    for i in range(maxiter):\n",
    "        a_new = a - f(a)/df(a)\n",
    "        if a_new == a:\n",
    "            return a, i\n",
    "        a = a_new\n",
    "    return a, i"
   ]
  },
  {
   "cell_type": "code",
   "execution_count": 7,
   "metadata": {
    "execution": {
     "iopub.execute_input": "2025-10-21T08:26:13.808728Z",
     "iopub.status.busy": "2025-10-21T08:26:13.808518Z",
     "iopub.status.idle": "2025-10-21T08:26:13.811348Z",
     "shell.execute_reply": "2025-10-21T08:26:13.811026Z",
     "shell.execute_reply.started": "2025-10-21T08:26:13.808715Z"
    }
   },
   "outputs": [
    {
     "data": {
      "text/plain": [
       "(3.141592653589793, 4)"
      ]
     },
     "execution_count": 7,
     "metadata": {},
     "output_type": "execute_result"
    }
   ],
   "source": [
    "newton(f, df, 4.)"
   ]
  },
  {
   "cell_type": "code",
   "execution_count": 8,
   "metadata": {
    "execution": {
     "iopub.execute_input": "2025-10-21T08:26:13.812559Z",
     "iopub.status.busy": "2025-10-21T08:26:13.812241Z",
     "iopub.status.idle": "2025-10-21T08:26:13.816301Z",
     "shell.execute_reply": "2025-10-21T08:26:13.815915Z",
     "shell.execute_reply.started": "2025-10-21T08:26:13.812545Z"
    }
   },
   "outputs": [
    {
     "data": {
      "text/plain": [
       "(15.707963267948966, 5)"
      ]
     },
     "execution_count": 8,
     "metadata": {},
     "output_type": "execute_result"
    }
   ],
   "source": [
    "newton(f, df, 4.8) # the method may be unstable"
   ]
  },
  {
   "cell_type": "markdown",
   "metadata": {},
   "source": [
    "### Optimization"
   ]
  },
  {
   "cell_type": "code",
   "execution_count": 9,
   "metadata": {
    "execution": {
     "iopub.execute_input": "2025-10-21T08:26:13.817091Z",
     "iopub.status.busy": "2025-10-21T08:26:13.816865Z",
     "iopub.status.idle": "2025-10-21T08:26:20.645278Z",
     "shell.execute_reply": "2025-10-21T08:26:20.644899Z",
     "shell.execute_reply.started": "2025-10-21T08:26:13.817079Z"
    }
   },
   "outputs": [
    {
     "name": "stdout",
     "output_type": "stream",
     "text": [
      "83.4 µs ± 1.31 µs per loop (mean ± std. dev. of 7 runs, 10,000 loops each)\n"
     ]
    }
   ],
   "source": [
    "%%timeit\n",
    "bisect(f, 3, 4)"
   ]
  },
  {
   "cell_type": "code",
   "execution_count": 10,
   "metadata": {
    "execution": {
     "iopub.execute_input": "2025-10-21T08:26:20.646338Z",
     "iopub.status.busy": "2025-10-21T08:26:20.646192Z",
     "iopub.status.idle": "2025-10-21T08:26:24.185313Z",
     "shell.execute_reply": "2025-10-21T08:26:24.184826Z",
     "shell.execute_reply.started": "2025-10-21T08:26:20.646328Z"
    }
   },
   "outputs": [
    {
     "name": "stdout",
     "output_type": "stream",
     "text": [
      "4.35 µs ± 16 ns per loop (mean ± std. dev. of 7 runs, 100,000 loops each)\n"
     ]
    }
   ],
   "source": [
    "%%timeit\n",
    "newton(f, df, 4.)"
   ]
  },
  {
   "cell_type": "code",
   "execution_count": 11,
   "metadata": {
    "execution": {
     "iopub.execute_input": "2025-10-21T08:26:24.185826Z",
     "iopub.status.busy": "2025-10-21T08:26:24.185729Z",
     "iopub.status.idle": "2025-10-21T08:26:24.276110Z",
     "shell.execute_reply": "2025-10-21T08:26:24.275853Z",
     "shell.execute_reply.started": "2025-10-21T08:26:24.185817Z"
    }
   },
   "outputs": [],
   "source": [
    "\n",
    "from numba import njit"
   ]
  },
  {
   "cell_type": "code",
   "execution_count": 12,
   "metadata": {
    "execution": {
     "iopub.execute_input": "2025-10-21T08:26:24.277682Z",
     "iopub.status.busy": "2025-10-21T08:26:24.277386Z",
     "iopub.status.idle": "2025-10-21T08:26:24.284213Z",
     "shell.execute_reply": "2025-10-21T08:26:24.283982Z",
     "shell.execute_reply.started": "2025-10-21T08:26:24.277668Z"
    }
   },
   "outputs": [],
   "source": [
    "# implement the Newton's method\n",
    "@njit\n",
    "def jitnewton(f, df, a, maxiter=10):\n",
    "    for i in range(maxiter):\n",
    "        a_new = a - f(a)/df(a)\n",
    "        if a_new == a:\n",
    "            return a, i\n",
    "        a = a_new\n",
    "    return a, i\n",
    "# given\n",
    "@njit\n",
    "def f(x): return np.sin(x)\n",
    "\n",
    "@njit\n",
    "def df(x): return np.cos(x)\n"
   ]
  },
  {
   "cell_type": "code",
   "execution_count": 13,
   "metadata": {
    "execution": {
     "iopub.execute_input": "2025-10-21T08:26:24.284634Z",
     "iopub.status.busy": "2025-10-21T08:26:24.284538Z",
     "iopub.status.idle": "2025-10-21T08:26:24.287161Z",
     "shell.execute_reply": "2025-10-21T08:26:24.286712Z",
     "shell.execute_reply.started": "2025-10-21T08:26:24.284625Z"
    }
   },
   "outputs": [],
   "source": [
    "@njit\n",
    "def jitbisect(f, a, b, maxiter=53):\n",
    "    # task: define the body of this function\n",
    "    if np.sign(f(a))*np.sign(f(b)) >= 0:\n",
    "        raise(ValueError(\"Function sign must differ at a and b\"))\n",
    "    \n",
    "    for i in range(maxiter):\n",
    "        m = (a+b)/2.\n",
    "        fm = f(m)\n",
    "        if m in [a, b] or fm == 0:\n",
    "            # floating point tolerance reached or exact solution found\n",
    "            return m, i\n",
    "        \n",
    "        if fm*np.sign(f(a)) < 0:\n",
    "            b = m\n",
    "        elif fm*np.sign(f(b)) < 0:\n",
    "            a = m\n",
    "    \n",
    "    return m, i"
   ]
  },
  {
   "cell_type": "code",
   "execution_count": 14,
   "metadata": {
    "execution": {
     "iopub.execute_input": "2025-10-21T08:26:24.287804Z",
     "iopub.status.busy": "2025-10-21T08:26:24.287706Z",
     "iopub.status.idle": "2025-10-21T08:26:24.648722Z",
     "shell.execute_reply": "2025-10-21T08:26:24.648484Z",
     "shell.execute_reply.started": "2025-10-21T08:26:24.287795Z"
    }
   },
   "outputs": [
    {
     "data": {
      "text/plain": [
       "((3.141592653589793, 4), (3.141592653589793, 51))"
      ]
     },
     "execution_count": 14,
     "metadata": {},
     "output_type": "execute_result"
    }
   ],
   "source": [
    "jitnewton(f, df, 4.), jitbisect(f, 3, 4)"
   ]
  },
  {
   "cell_type": "code",
   "execution_count": 15,
   "metadata": {
    "execution": {
     "iopub.execute_input": "2025-10-21T08:26:24.649234Z",
     "iopub.status.busy": "2025-10-21T08:26:24.649118Z",
     "iopub.status.idle": "2025-10-21T08:26:26.461019Z",
     "shell.execute_reply": "2025-10-21T08:26:26.460748Z",
     "shell.execute_reply.started": "2025-10-21T08:26:24.649225Z"
    }
   },
   "outputs": [
    {
     "name": "stdout",
     "output_type": "stream",
     "text": [
      "21.5 µs ± 278 ns per loop (mean ± std. dev. of 7 runs, 10,000 loops each)\n"
     ]
    }
   ],
   "source": [
    "%%timeit\n",
    "jitbisect(f, 3., 4.)"
   ]
  },
  {
   "cell_type": "code",
   "execution_count": 16,
   "metadata": {
    "execution": {
     "iopub.execute_input": "2025-10-21T08:26:26.461569Z",
     "iopub.status.busy": "2025-10-21T08:26:26.461435Z",
     "iopub.status.idle": "2025-10-21T08:26:31.715481Z",
     "shell.execute_reply": "2025-10-21T08:26:31.715105Z",
     "shell.execute_reply.started": "2025-10-21T08:26:26.461560Z"
    }
   },
   "outputs": [
    {
     "name": "stdout",
     "output_type": "stream",
     "text": [
      "6.48 µs ± 46.8 ns per loop (mean ± std. dev. of 7 runs, 100,000 loops each)\n"
     ]
    }
   ],
   "source": [
    "%%timeit\n",
    "jitnewton(f, df, 4.)"
   ]
  },
  {
   "cell_type": "code",
   "execution_count": 17,
   "metadata": {
    "execution": {
     "iopub.execute_input": "2025-10-21T08:26:31.715981Z",
     "iopub.status.busy": "2025-10-21T08:26:31.715886Z",
     "iopub.status.idle": "2025-10-21T08:26:31.718285Z",
     "shell.execute_reply": "2025-10-21T08:26:31.717986Z",
     "shell.execute_reply.started": "2025-10-21T08:26:31.715973Z"
    }
   },
   "outputs": [],
   "source": [
    "# Side note\n",
    "# simple iteration may also work, but only if the sequence has a fixed point\n",
    "def simple(f, a, maxiter=10):\n",
    "    for i in range(maxiter):\n",
    "        a_new = a + f(a)\n",
    "        if a_new == a:\n",
    "            return a, i\n",
    "        a = a_new\n",
    "    return a, i"
   ]
  },
  {
   "cell_type": "code",
   "execution_count": 18,
   "metadata": {
    "execution": {
     "iopub.execute_input": "2025-10-21T08:26:31.718761Z",
     "iopub.status.busy": "2025-10-21T08:26:31.718671Z",
     "iopub.status.idle": "2025-10-21T08:26:31.721810Z",
     "shell.execute_reply": "2025-10-21T08:26:31.721561Z",
     "shell.execute_reply.started": "2025-10-21T08:26:31.718753Z"
    }
   },
   "outputs": [
    {
     "data": {
      "text/plain": [
       "((3.141592653589793, 5),\n",
       " (3.141592653589793, 4),\n",
       " (3.141592653589793, 9),\n",
       " (-9.42477796076938, 3),\n",
       " (9.42477796076938, 3))"
      ]
     },
     "execution_count": 18,
     "metadata": {},
     "output_type": "execute_result"
    }
   ],
   "source": [
    "simple(f, 4.8), simple(f, 4.), simple(f, 0.1), simple(f, -10), simple(f, 10)"
   ]
  },
  {
   "cell_type": "code",
   "execution_count": 19,
   "metadata": {
    "execution": {
     "iopub.execute_input": "2025-10-21T08:26:31.722371Z",
     "iopub.status.busy": "2025-10-21T08:26:31.722235Z",
     "iopub.status.idle": "2025-10-21T08:26:31.724895Z",
     "shell.execute_reply": "2025-10-21T08:26:31.724578Z",
     "shell.execute_reply.started": "2025-10-21T08:26:31.722362Z"
    }
   },
   "outputs": [],
   "source": [
    "def f2(x): return np.sin(2*x)"
   ]
  },
  {
   "cell_type": "code",
   "execution_count": 20,
   "metadata": {
    "execution": {
     "iopub.execute_input": "2025-10-21T08:26:31.725743Z",
     "iopub.status.busy": "2025-10-21T08:26:31.725542Z",
     "iopub.status.idle": "2025-10-21T08:26:31.729508Z",
     "shell.execute_reply": "2025-10-21T08:26:31.729186Z",
     "shell.execute_reply.started": "2025-10-21T08:26:31.725727Z"
    }
   },
   "outputs": [
    {
     "data": {
      "text/plain": [
       "((4.762453305025968, 99), (4.652917097469903, 99), (1.5107353427801722, 99))"
      ]
     },
     "execution_count": 20,
     "metadata": {},
     "output_type": "execute_result"
    }
   ],
   "source": [
    "maxiter =  100\n",
    "simple(f2, 4.8, maxiter), simple(f2, 4., maxiter), simple(f2, 0.1, maxiter)"
   ]
  }
 ],
 "metadata": {
  "kernelspec": {
   "display_name": "sysenv",
   "language": "python",
   "name": "sysenv"
  },
  "language_info": {
   "codemirror_mode": {
    "name": "ipython",
    "version": 3
   },
   "file_extension": ".py",
   "mimetype": "text/x-python",
   "name": "python",
   "nbconvert_exporter": "python",
   "pygments_lexer": "ipython3",
   "version": "3.12.3"
  }
 },
 "nbformat": 4,
 "nbformat_minor": 4
}
