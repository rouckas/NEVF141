{
 "cells": [
  {
   "cell_type": "markdown",
   "id": "8bd25c22-40d3-4de3-9101-e630fc76089f",
   "metadata": {},
   "source": [
    "# Exercise 01"
   ]
  },
  {
   "cell_type": "markdown",
   "id": "aa4c6934-4cf6-4265-8769-9008a0e48784",
   "metadata": {
    "execution": {
     "iopub.execute_input": "2024-10-15T08:11:06.834546Z",
     "iopub.status.busy": "2024-10-15T08:11:06.834366Z",
     "iopub.status.idle": "2024-10-15T08:11:06.836955Z",
     "shell.execute_reply": "2024-10-15T08:11:06.836608Z",
     "shell.execute_reply.started": "2024-10-15T08:11:06.834535Z"
    }
   },
   "source": [
    "## Credit conditions\n",
    "\n",
    "Making of 2 credit programs.\n",
    "\n",
    "## Study materials\n",
    "\n",
    "https://github.com/rouckas/NEVF141/tree/main/2025\n",
    "Will be updated"
   ]
  },
  {
   "cell_type": "markdown",
   "id": "66040eb9-d5f5-4678-816c-7886fa0e0b63",
   "metadata": {},
   "source": [
    "## Floating point arithmetic\n",
    "print float 0.1 with 19 decimal places precision"
   ]
  },
  {
   "cell_type": "code",
   "execution_count": 1,
   "id": "4a66b53a-195d-4c88-aa03-598484e1700d",
   "metadata": {
    "execution": {
     "iopub.execute_input": "2025-10-07T12:12:07.640911Z",
     "iopub.status.busy": "2025-10-07T12:12:07.640811Z",
     "iopub.status.idle": "2025-10-07T12:12:07.643295Z",
     "shell.execute_reply": "2025-10-07T12:12:07.643113Z",
     "shell.execute_reply.started": "2025-10-07T12:12:07.640900Z"
    }
   },
   "outputs": [
    {
     "name": "stdout",
     "output_type": "stream",
     "text": [
      "3.12.3 (main, Aug 14 2025, 17:47:21) [GCC 13.3.0]\n"
     ]
    }
   ],
   "source": [
    "import sys\n",
    "print(sys.version)"
   ]
  },
  {
   "cell_type": "code",
   "execution_count": 2,
   "id": "3b11166a-a0aa-4343-bec9-f085db55552e",
   "metadata": {
    "execution": {
     "iopub.execute_input": "2025-10-07T12:12:07.643665Z",
     "iopub.status.busy": "2025-10-07T12:12:07.643581Z",
     "iopub.status.idle": "2025-10-07T12:12:07.772918Z",
     "shell.execute_reply": "2025-10-07T12:12:07.772359Z",
     "shell.execute_reply.started": "2025-10-07T12:12:07.643657Z"
    }
   },
   "outputs": [],
   "source": [
    "import numpy as np"
   ]
  },
  {
   "cell_type": "code",
   "execution_count": 3,
   "id": "2804da4d-8891-4be6-b8ca-32ff3be50fd0",
   "metadata": {
    "execution": {
     "iopub.execute_input": "2025-10-07T12:12:07.774984Z",
     "iopub.status.busy": "2025-10-07T12:12:07.773562Z",
     "iopub.status.idle": "2025-10-07T12:12:07.779859Z",
     "shell.execute_reply": "2025-10-07T12:12:07.779438Z",
     "shell.execute_reply.started": "2025-10-07T12:12:07.774966Z"
    }
   },
   "outputs": [
    {
     "data": {
      "text/plain": [
       "'0.1000000000000000056'"
      ]
     },
     "execution_count": 3,
     "metadata": {},
     "output_type": "execute_result"
    }
   ],
   "source": [
    "\"%.19f\"%0.1"
   ]
  },
  {
   "cell_type": "code",
   "execution_count": 4,
   "id": "455fb3b3-27ea-40b8-a80d-d141aad7291b",
   "metadata": {
    "execution": {
     "iopub.execute_input": "2025-10-07T12:12:07.781044Z",
     "iopub.status.busy": "2025-10-07T12:12:07.780430Z",
     "iopub.status.idle": "2025-10-07T12:12:07.785788Z",
     "shell.execute_reply": "2025-10-07T12:12:07.785203Z",
     "shell.execute_reply.started": "2025-10-07T12:12:07.781029Z"
    }
   },
   "outputs": [
    {
     "data": {
      "text/plain": [
       "'0.1000000000000000056'"
      ]
     },
     "execution_count": 4,
     "metadata": {},
     "output_type": "execute_result"
    }
   ],
   "source": [
    "f\"{0.1:.19f}\""
   ]
  },
  {
   "cell_type": "code",
   "execution_count": 5,
   "id": "713d62b7-0744-46e0-a9b8-bc64d68e7657",
   "metadata": {
    "execution": {
     "iopub.execute_input": "2025-10-07T12:12:07.786627Z",
     "iopub.status.busy": "2025-10-07T12:12:07.786478Z",
     "iopub.status.idle": "2025-10-07T12:12:07.791368Z",
     "shell.execute_reply": "2025-10-07T12:12:07.790716Z",
     "shell.execute_reply.started": "2025-10-07T12:12:07.786613Z"
    }
   },
   "outputs": [
    {
     "data": {
      "text/plain": [
       "'0.1000000000000000056'"
      ]
     },
     "execution_count": 5,
     "metadata": {},
     "output_type": "execute_result"
    }
   ],
   "source": [
    "\"{:.19f}\".format(0.1)"
   ]
  },
  {
   "cell_type": "markdown",
   "id": "bb7e5397-4f99-47bf-85c1-581c00ab50ab",
   "metadata": {},
   "source": [
    "calculate $1+10^{-15}$ a $1+10^{-16}$"
   ]
  },
  {
   "cell_type": "code",
   "execution_count": 6,
   "id": "c9c46b66-b04e-4be9-9d98-5ceee97c5f3b",
   "metadata": {
    "execution": {
     "iopub.execute_input": "2025-10-07T12:12:07.794330Z",
     "iopub.status.busy": "2025-10-07T12:12:07.794161Z",
     "iopub.status.idle": "2025-10-07T12:12:07.799091Z",
     "shell.execute_reply": "2025-10-07T12:12:07.798533Z",
     "shell.execute_reply.started": "2025-10-07T12:12:07.794316Z"
    }
   },
   "outputs": [
    {
     "data": {
      "text/plain": [
       "1.000000000000001"
      ]
     },
     "execution_count": 6,
     "metadata": {},
     "output_type": "execute_result"
    }
   ],
   "source": [
    "1+1e-15"
   ]
  },
  {
   "cell_type": "code",
   "execution_count": 7,
   "id": "83d97cf8-47a8-45ff-952b-184d47d7295d",
   "metadata": {
    "execution": {
     "iopub.execute_input": "2025-10-07T12:12:07.799923Z",
     "iopub.status.busy": "2025-10-07T12:12:07.799776Z",
     "iopub.status.idle": "2025-10-07T12:12:07.802299Z",
     "shell.execute_reply": "2025-10-07T12:12:07.802015Z",
     "shell.execute_reply.started": "2025-10-07T12:12:07.799909Z"
    }
   },
   "outputs": [
    {
     "data": {
      "text/plain": [
       "1.0"
      ]
     },
     "execution_count": 7,
     "metadata": {},
     "output_type": "execute_result"
    }
   ],
   "source": [
    "1+1e-16"
   ]
  },
  {
   "cell_type": "markdown",
   "id": "750ccde9-1c3b-4868-a836-7c4cb2adbb75",
   "metadata": {},
   "source": [
    "What is the relative accuracy of a float64 with 53-bit mantissa?"
   ]
  },
  {
   "cell_type": "code",
   "execution_count": 8,
   "id": "7a85fb1a-966b-4aba-9198-833f5531a9c1",
   "metadata": {
    "execution": {
     "iopub.execute_input": "2025-10-07T12:12:07.802751Z",
     "iopub.status.busy": "2025-10-07T12:12:07.802661Z",
     "iopub.status.idle": "2025-10-07T12:12:07.805040Z",
     "shell.execute_reply": "2025-10-07T12:12:07.804754Z",
     "shell.execute_reply.started": "2025-10-07T12:12:07.802743Z"
    }
   },
   "outputs": [
    {
     "data": {
      "text/plain": [
       "1.1102230246251565e-16"
      ]
     },
     "execution_count": 8,
     "metadata": {},
     "output_type": "execute_result"
    }
   ],
   "source": [
    "1/2**53"
   ]
  },
  {
   "cell_type": "markdown",
   "id": "84bd84af-e6eb-4501-b49a-3d90366ddd5a",
   "metadata": {},
   "source": [
    "That's how many decimal places?"
   ]
  },
  {
   "cell_type": "code",
   "execution_count": 9,
   "id": "a0114532-b17f-4d09-adfb-a67b5b0c9a50",
   "metadata": {
    "execution": {
     "iopub.execute_input": "2025-10-07T12:12:07.805624Z",
     "iopub.status.busy": "2025-10-07T12:12:07.805483Z",
     "iopub.status.idle": "2025-10-07T12:12:07.808074Z",
     "shell.execute_reply": "2025-10-07T12:12:07.807843Z",
     "shell.execute_reply.started": "2025-10-07T12:12:07.805611Z"
    }
   },
   "outputs": [
    {
     "data": {
      "text/plain": [
       "16.255619765854984"
      ]
     },
     "execution_count": 9,
     "metadata": {},
     "output_type": "execute_result"
    }
   ],
   "source": [
    "-np.log10(1/2**(53+1))"
   ]
  },
  {
   "cell_type": "markdown",
   "id": "7ab7c817-f4ae-44ed-bf67-fa3c1f261e2f",
   "metadata": {},
   "source": [
    "Calculate $1.001-1$"
   ]
  },
  {
   "cell_type": "code",
   "execution_count": 10,
   "id": "0316e11a-1aec-42e4-ba53-f75c85707c1e",
   "metadata": {
    "ExecuteTime": {
     "end_time": "2023-11-02T20:44:44.865351Z",
     "start_time": "2023-11-02T20:44:44.860870Z"
    },
    "execution": {
     "iopub.execute_input": "2025-10-07T12:12:07.808514Z",
     "iopub.status.busy": "2025-10-07T12:12:07.808428Z",
     "iopub.status.idle": "2025-10-07T12:12:07.810536Z",
     "shell.execute_reply": "2025-10-07T12:12:07.810213Z",
     "shell.execute_reply.started": "2025-10-07T12:12:07.808506Z"
    }
   },
   "outputs": [
    {
     "data": {
      "text/plain": [
       "0.0009999999999998899"
      ]
     },
     "execution_count": 10,
     "metadata": {},
     "output_type": "execute_result"
    }
   ],
   "source": [
    "1.001-1"
   ]
  },
  {
   "cell_type": "markdown",
   "id": "d215f4b9-92c6-4b80-b649-ea87964de2cf",
   "metadata": {},
   "source": [
    "Order of operations matters - calculate $10^{-15}+1-1$ and $1-1+10^{-15}$"
   ]
  },
  {
   "cell_type": "code",
   "execution_count": 11,
   "id": "7d9e1b7d-286f-4a8d-a5a7-bb8be652094e",
   "metadata": {
    "ExecuteTime": {
     "end_time": "2023-11-02T20:44:51.814448Z",
     "start_time": "2023-11-02T20:44:51.809935Z"
    },
    "execution": {
     "iopub.execute_input": "2025-10-07T12:12:07.811187Z",
     "iopub.status.busy": "2025-10-07T12:12:07.811031Z",
     "iopub.status.idle": "2025-10-07T12:12:07.813494Z",
     "shell.execute_reply": "2025-10-07T12:12:07.813302Z",
     "shell.execute_reply.started": "2025-10-07T12:12:07.811173Z"
    }
   },
   "outputs": [
    {
     "data": {
      "text/plain": [
       "1.1102230246251565e-15"
      ]
     },
     "execution_count": 11,
     "metadata": {},
     "output_type": "execute_result"
    }
   ],
   "source": [
    "1e-15+1-1"
   ]
  },
  {
   "cell_type": "code",
   "execution_count": 12,
   "id": "1957b82e-7059-403c-a3ed-0e4b6a663126",
   "metadata": {
    "ExecuteTime": {
     "end_time": "2023-11-02T20:44:52.806122Z",
     "start_time": "2023-11-02T20:44:52.801208Z"
    },
    "execution": {
     "iopub.execute_input": "2025-10-07T12:12:07.813849Z",
     "iopub.status.busy": "2025-10-07T12:12:07.813766Z",
     "iopub.status.idle": "2025-10-07T12:12:07.815545Z",
     "shell.execute_reply": "2025-10-07T12:12:07.815375Z",
     "shell.execute_reply.started": "2025-10-07T12:12:07.813842Z"
    }
   },
   "outputs": [
    {
     "data": {
      "text/plain": [
       "1e-15"
      ]
     },
     "execution_count": 12,
     "metadata": {},
     "output_type": "execute_result"
    }
   ],
   "source": [
    "1-1+1e-15"
   ]
  },
  {
   "cell_type": "markdown",
   "id": "dd4cd588-fbc3-4740-8bb7-d324ab06ec49",
   "metadata": {},
   "source": [
    "Error amplification: Calculate the terms  of the following sequence for $j=1\\ldots10$:\n",
    "\n",
    "$$x_0 = 1$$\n",
    "$$x_j = (1.01 - x_{j-1})\\cdot 100$$\n",
    "\n",
    "and compare with hand calculation..."
   ]
  },
  {
   "cell_type": "code",
   "execution_count": 13,
   "id": "803481f8-8828-4f5a-9d31-16a76dfcedba",
   "metadata": {
    "ExecuteTime": {
     "end_time": "2023-11-02T20:45:01.932279Z",
     "start_time": "2023-11-02T20:45:01.929308Z"
    },
    "execution": {
     "iopub.execute_input": "2025-10-07T12:12:07.815897Z",
     "iopub.status.busy": "2025-10-07T12:12:07.815817Z",
     "iopub.status.idle": "2025-10-07T12:12:07.817624Z",
     "shell.execute_reply": "2025-10-07T12:12:07.817421Z",
     "shell.execute_reply.started": "2025-10-07T12:12:07.815890Z"
    }
   },
   "outputs": [
    {
     "name": "stdout",
     "output_type": "stream",
     "text": [
      "1 1.0000000000000009\n",
      "2 0.9999999999999121\n",
      "3 1.0000000000087939\n",
      "4 0.9999999991206154\n",
      "5 1.0000000879384574\n",
      "6 0.9999912061542604\n",
      "7 1.0008793845739605\n",
      "8 0.912061542603948\n",
      "9 9.7938457396052\n",
      "10 -878.38457396052\n"
     ]
    }
   ],
   "source": [
    "x = 1\n",
    "# task 1\n",
    "for j in range(1, 11):\n",
    "    x = (1.01-x)*100\n",
    "    print(j, x)"
   ]
  },
  {
   "cell_type": "markdown",
   "id": "def09e1c-b123-41ad-ac9d-7aeb35681ea3",
   "metadata": {},
   "source": [
    "Can we improve accuracy with np.float128?"
   ]
  },
  {
   "cell_type": "code",
   "execution_count": 14,
   "id": "6ce7569e-a5bc-4949-bdab-dac5294f7f5d",
   "metadata": {
    "ExecuteTime": {
     "end_time": "2023-11-02T20:45:02.719974Z",
     "start_time": "2023-11-02T20:45:02.647045Z"
    },
    "execution": {
     "iopub.execute_input": "2025-10-07T12:12:07.818067Z",
     "iopub.status.busy": "2025-10-07T12:12:07.817977Z",
     "iopub.status.idle": "2025-10-07T12:12:07.819937Z",
     "shell.execute_reply": "2025-10-07T12:12:07.819664Z",
     "shell.execute_reply.started": "2025-10-07T12:12:07.818058Z"
    }
   },
   "outputs": [],
   "source": [
    "import numpy as np"
   ]
  },
  {
   "cell_type": "code",
   "execution_count": 15,
   "id": "a6949d4d-bf0e-47b2-ad98-5ed78c0db907",
   "metadata": {
    "ExecuteTime": {
     "end_time": "2023-11-02T20:45:03.313164Z",
     "start_time": "2023-11-02T20:45:03.310660Z"
    },
    "execution": {
     "iopub.execute_input": "2025-10-07T12:12:07.820383Z",
     "iopub.status.busy": "2025-10-07T12:12:07.820296Z",
     "iopub.status.idle": "2025-10-07T12:12:07.822322Z",
     "shell.execute_reply": "2025-10-07T12:12:07.822122Z",
     "shell.execute_reply.started": "2025-10-07T12:12:07.820374Z"
    }
   },
   "outputs": [
    {
     "name": "stdout",
     "output_type": "stream",
     "text": [
      "1 0.99999999999999999913\n",
      "2 1.0000000000000000859\n",
      "3 0.99999999999999141225\n",
      "4 1.000000000000858774\n",
      "5 0.9999999999141226002\n",
      "6 1.0000000085877399801\n",
      "7 0.99999914122600199167\n",
      "8 1.000085877399800832\n",
      "9 0.99141226001991679655\n",
      "10 1.8587739980083203438\n"
     ]
    }
   ],
   "source": [
    "x = 1\n",
    "y = np.float128(101)/100\n",
    "for j in range(1, 11):\n",
    "    x = (y-x)*100\n",
    "    print(j, x)"
   ]
  },
  {
   "cell_type": "markdown",
   "id": "168c2674-fc08-437b-a44c-e92b34c7663e",
   "metadata": {},
   "source": [
    "Yes, but not by much, as float64 is actually just 80 bit on most machines"
   ]
  },
  {
   "cell_type": "code",
   "execution_count": 16,
   "id": "1072fd27-5fd2-4691-b743-9912c45a08d5",
   "metadata": {
    "ExecuteTime": {
     "end_time": "2023-11-02T20:45:03.932775Z",
     "start_time": "2023-11-02T20:45:03.927757Z"
    },
    "execution": {
     "iopub.execute_input": "2025-10-07T12:12:07.822762Z",
     "iopub.status.busy": "2025-10-07T12:12:07.822616Z",
     "iopub.status.idle": "2025-10-07T12:12:07.825138Z",
     "shell.execute_reply": "2025-10-07T12:12:07.824943Z",
     "shell.execute_reply.started": "2025-10-07T12:12:07.822754Z"
    }
   },
   "outputs": [
    {
     "data": {
      "text/plain": [
       "(1.0100000000000000089, 1.01)"
      ]
     },
     "execution_count": 16,
     "metadata": {},
     "output_type": "execute_result"
    }
   ],
   "source": [
    "np.float128(1.01), np.float128(101)/100"
   ]
  },
  {
   "cell_type": "markdown",
   "id": "8953842c-5e90-4415-b827-6dc80d23b3ab",
   "metadata": {},
   "source": [
    "We may use arbitrary precision floats from the mpmath library"
   ]
  },
  {
   "cell_type": "code",
   "execution_count": 17,
   "id": "619e495d-2658-47b4-a47f-5284f608906d",
   "metadata": {
    "ExecuteTime": {
     "end_time": "2023-11-02T20:45:04.621982Z",
     "start_time": "2023-11-02T20:45:04.575938Z"
    },
    "execution": {
     "iopub.execute_input": "2025-10-07T12:12:07.825657Z",
     "iopub.status.busy": "2025-10-07T12:12:07.825557Z",
     "iopub.status.idle": "2025-10-07T12:12:07.856582Z",
     "shell.execute_reply": "2025-10-07T12:12:07.856160Z",
     "shell.execute_reply.started": "2025-10-07T12:12:07.825648Z"
    }
   },
   "outputs": [
    {
     "name": "stdout",
     "output_type": "stream",
     "text": [
      "1 0.99999999999999999999999999999998\n",
      "2 1.0000000000000000000000000000018\n",
      "3 0.99999999999999999999999999981694\n",
      "4 1.0000000000000000000000000183059\n",
      "5 0.99999999999999999999999816941312\n",
      "6 1.0000000000000000000001830586878\n",
      "7 0.99999999999999999998169413122167\n",
      "8 1.0000000000000000018305868778334\n",
      "9 0.99999999999999981694131221665877\n",
      "10 1.000000000000018305868778334123\n"
     ]
    }
   ],
   "source": [
    "from mpmath import mp\n",
    "mp.dps = 32 # pracujeme na 32 desetinnych mist\n",
    "x = 1\n",
    "y = mp.mpf(\"1.01\")\n",
    "for j in range(1, 11):\n",
    "    x = (y-x)*100\n",
    "    print(j, x)"
   ]
  },
  {
   "cell_type": "code",
   "execution_count": 18,
   "id": "90b1d3d1-c38c-44a5-8926-cce1b2606d85",
   "metadata": {
    "execution": {
     "iopub.execute_input": "2025-10-07T12:12:07.857360Z",
     "iopub.status.busy": "2025-10-07T12:12:07.857152Z",
     "iopub.status.idle": "2025-10-07T12:12:07.860969Z",
     "shell.execute_reply": "2025-10-07T12:12:07.860668Z",
     "shell.execute_reply.started": "2025-10-07T12:12:07.857345Z"
    }
   },
   "outputs": [
    {
     "name": "stdout",
     "output_type": "stream",
     "text": [
      "1 [0.999999999999998112621, 1.00000000000000088818] True\n",
      "2 [0.999999999999909294779, 1.00000000000018962609] True\n",
      "3 [0.99999999998103550336, 1.00000000000907141029] True\n",
      "4 [0.99999999909285708366, 1.00000000189645055215] True\n",
      "5 [0.999999810354942897384, 1.00000009071429252216] True\n",
      "6 [0.999990928570745896131, 1.00001896450571114983] True\n",
      "7 [0.998103549428883130012, 1.00090714292541127506] True\n",
      "8 [0.909285707458870606779, 1.18964505711168788693] True\n",
      "9 [-17.9645057111687909135, 10.0714292541129402103] True\n",
      "10 [-906.142925411294044125, 1897.45057111687913221] True\n"
     ]
    }
   ],
   "source": [
    "# use interval arithmetics to obtain rigorous error bounds\n",
    "from mpmath import mp, iv\n",
    "iv.dps = 16 # 16 decimal digits to compare with float64 calculation\n",
    "x = 1\n",
    "y = iv.mpf(\"1.01\")\n",
    "for j in range(1, 11):\n",
    "    x = (y-x)*100\n",
    "    print(j, x, 1 in x) # on every step, check that the true solution is within the calculated interval"
   ]
  },
  {
   "cell_type": "markdown",
   "id": "d1beb459-aa48-4711-a2a9-770be50ce60f",
   "metadata": {},
   "source": [
    "## Series summation\n",
    "Calculate \n",
    "\n",
    "$$y = \\sum_{i=0}^{1000} \\frac{1}{10^{-6} + i}$$\n",
    "\n",
    " - in order\n",
    " - in reverse order\n",
    " - using the builtin `sum` and `math.fsum`\n",
    "\n",
    "and compare the results"
   ]
  },
  {
   "cell_type": "code",
   "execution_count": 19,
   "id": "a3dda1c3-9bc1-4d47-9d61-f9c3af2d9a7a",
   "metadata": {
    "ExecuteTime": {
     "end_time": "2023-11-02T20:45:07.319971Z",
     "start_time": "2023-11-02T20:45:07.317842Z"
    },
    "execution": {
     "iopub.execute_input": "2025-10-07T12:12:07.861831Z",
     "iopub.status.busy": "2025-10-07T12:12:07.861524Z",
     "iopub.status.idle": "2025-10-07T12:12:07.863928Z",
     "shell.execute_reply": "2025-10-07T12:12:07.863567Z",
     "shell.execute_reply.started": "2025-10-07T12:12:07.861815Z"
    }
   },
   "outputs": [],
   "source": [
    "x = np.arange(1001)\n",
    "y = 1/(1e-6 + x)"
   ]
  },
  {
   "cell_type": "markdown",
   "id": "7777fc1b-4997-4e6f-b775-a466f081e1e3",
   "metadata": {},
   "source": [
    "In order"
   ]
  },
  {
   "cell_type": "code",
   "execution_count": 20,
   "id": "0b98abcb-3a46-40f0-8192-f62215a0f10a",
   "metadata": {
    "ExecuteTime": {
     "end_time": "2023-11-02T20:45:13.377604Z",
     "start_time": "2023-11-02T20:45:13.368921Z"
    },
    "execution": {
     "iopub.execute_input": "2025-10-07T12:12:07.864609Z",
     "iopub.status.busy": "2025-10-07T12:12:07.864455Z",
     "iopub.status.idle": "2025-10-07T12:12:07.867803Z",
     "shell.execute_reply": "2025-10-07T12:12:07.867378Z",
     "shell.execute_reply.started": "2025-10-07T12:12:07.864596Z"
    }
   },
   "outputs": [
    {
     "data": {
      "text/plain": [
       "1000007.4854692194"
      ]
     },
     "execution_count": 20,
     "metadata": {},
     "output_type": "execute_result"
    }
   ],
   "source": [
    "s = 0\n",
    "for i in y: s += i\n",
    "s"
   ]
  },
  {
   "cell_type": "markdown",
   "id": "e4370d14-0834-43a0-b8a1-270adc1a620a",
   "metadata": {},
   "source": [
    "Reverse order"
   ]
  },
  {
   "cell_type": "code",
   "execution_count": 21,
   "id": "fc9c6b40-0a0b-4ba4-9cac-101bc81d6b53",
   "metadata": {
    "ExecuteTime": {
     "end_time": "2023-11-02T20:45:14.019877Z",
     "start_time": "2023-11-02T20:45:14.012530Z"
    },
    "execution": {
     "iopub.execute_input": "2025-10-07T12:12:07.870132Z",
     "iopub.status.busy": "2025-10-07T12:12:07.869843Z",
     "iopub.status.idle": "2025-10-07T12:12:07.873262Z",
     "shell.execute_reply": "2025-10-07T12:12:07.872872Z",
     "shell.execute_reply.started": "2025-10-07T12:12:07.870113Z"
    }
   },
   "outputs": [
    {
     "data": {
      "text/plain": [
       "1000007.4854692166"
      ]
     },
     "execution_count": 21,
     "metadata": {},
     "output_type": "execute_result"
    }
   ],
   "source": [
    "s = 0\n",
    "for i in y[::-1]: s += i\n",
    "s"
   ]
  },
  {
   "cell_type": "markdown",
   "id": "05ee8b33-8721-4659-942a-2959cc363209",
   "metadata": {},
   "source": [
    "Builtin sum just adds everything in order (until Python 3.12, when they switched to Neumaier sum)"
   ]
  },
  {
   "cell_type": "code",
   "execution_count": 22,
   "id": "e3bfbb62-3fbd-4c3c-891a-dcb724bd58bc",
   "metadata": {
    "ExecuteTime": {
     "end_time": "2023-11-02T20:45:14.740337Z",
     "start_time": "2023-11-02T20:45:14.734602Z"
    },
    "execution": {
     "iopub.execute_input": "2025-10-07T12:12:07.873888Z",
     "iopub.status.busy": "2025-10-07T12:12:07.873747Z",
     "iopub.status.idle": "2025-10-07T12:12:07.876513Z",
     "shell.execute_reply": "2025-10-07T12:12:07.876154Z",
     "shell.execute_reply.started": "2025-10-07T12:12:07.873875Z"
    }
   },
   "outputs": [
    {
     "data": {
      "text/plain": [
       "1000007.4854692194"
      ]
     },
     "execution_count": 22,
     "metadata": {},
     "output_type": "execute_result"
    }
   ],
   "source": [
    "sum(y)\n",
    "# note: builtin sum behavior has changed as of Python 3.12 \n",
    "# https://docs.python.org/3/library/functions.html#sum"
   ]
  },
  {
   "cell_type": "markdown",
   "id": "e86e7262-e8aa-4eb2-9041-fb7e458148b8",
   "metadata": {},
   "source": [
    "math.fsum is \"almost\" guaranteed to be exact, see https://docs.python.org/3/library/math.html#math.fsum , https://code.activestate.com/recipes/393090-binary-floating-point-summation-accurate-to-full-p/"
   ]
  },
  {
   "cell_type": "code",
   "execution_count": 23,
   "id": "a680ebab-2ec3-49ed-81eb-c9243d05dd30",
   "metadata": {
    "ExecuteTime": {
     "end_time": "2023-11-02T20:45:15.386391Z",
     "start_time": "2023-11-02T20:45:15.378699Z"
    },
    "execution": {
     "iopub.execute_input": "2025-10-07T12:12:07.877091Z",
     "iopub.status.busy": "2025-10-07T12:12:07.876962Z",
     "iopub.status.idle": "2025-10-07T12:12:07.879571Z",
     "shell.execute_reply": "2025-10-07T12:12:07.879215Z",
     "shell.execute_reply.started": "2025-10-07T12:12:07.877079Z"
    }
   },
   "outputs": [
    {
     "data": {
      "text/plain": [
       "1000007.4854692166"
      ]
     },
     "execution_count": 23,
     "metadata": {},
     "output_type": "execute_result"
    }
   ],
   "source": [
    "import math\n",
    "math.fsum(y)"
   ]
  },
  {
   "cell_type": "markdown",
   "id": "6fa82882-9fb2-4f21-b2a8-38998eac0bb9",
   "metadata": {},
   "source": [
    "As a compromise between speed and accuracy, numpy.sum may use partial pairwise summation https://numpy.org/doc/2.3/reference/generated/numpy.sum.html"
   ]
  },
  {
   "cell_type": "code",
   "execution_count": 24,
   "id": "ca1f28c5-00a6-4f9c-89fe-a985d956b959",
   "metadata": {
    "ExecuteTime": {
     "end_time": "2023-11-02T20:45:18.609899Z",
     "start_time": "2023-11-02T20:45:18.604395Z"
    },
    "execution": {
     "iopub.execute_input": "2025-10-07T12:12:07.880149Z",
     "iopub.status.busy": "2025-10-07T12:12:07.880025Z",
     "iopub.status.idle": "2025-10-07T12:12:07.882734Z",
     "shell.execute_reply": "2025-10-07T12:12:07.882389Z",
     "shell.execute_reply.started": "2025-10-07T12:12:07.880137Z"
    }
   },
   "outputs": [
    {
     "data": {
      "text/plain": [
       "1000007.4854692165"
      ]
     },
     "execution_count": 24,
     "metadata": {},
     "output_type": "execute_result"
    }
   ],
   "source": [
    "np.sum(y)"
   ]
  },
  {
   "cell_type": "markdown",
   "id": "e66a8009-96e8-4f36-abdc-de2523e80472",
   "metadata": {},
   "source": [
    "Which answer is correct? Check with Sympy"
   ]
  },
  {
   "cell_type": "code",
   "execution_count": 25,
   "id": "e4261e3b-14d7-4d1f-b9f6-d2dff69a211e",
   "metadata": {
    "ExecuteTime": {
     "end_time": "2023-11-02T20:45:19.646898Z",
     "start_time": "2023-11-02T20:45:19.113514Z"
    },
    "execution": {
     "iopub.execute_input": "2025-10-07T12:12:07.883302Z",
     "iopub.status.busy": "2025-10-07T12:12:07.883168Z",
     "iopub.status.idle": "2025-10-07T12:12:08.162437Z",
     "shell.execute_reply": "2025-10-07T12:12:08.162216Z",
     "shell.execute_reply.started": "2025-10-07T12:12:07.883291Z"
    }
   },
   "outputs": [
    {
     "data": {
      "text/latex": [
       "$\\displaystyle \\sum_{si=0}^{1000} \\frac{1}{si + \\frac{1}{1000000}}$"
      ],
      "text/plain": [
       "Sum(1/(si + 1/1000000), (si, 0, 1000))"
      ]
     },
     "execution_count": 25,
     "metadata": {},
     "output_type": "execute_result"
    }
   ],
   "source": [
    "import sympy as sp\n",
    "si = sp.Symbol(\"si\")\n",
    "series = sp.Sum(1/(sp.S(10)**(-6) + si), (si, 0, 1000))\n",
    "series"
   ]
  },
  {
   "cell_type": "code",
   "execution_count": 26,
   "id": "18172d07-2a96-43d7-9378-ac8189b6ec08",
   "metadata": {
    "ExecuteTime": {
     "end_time": "2023-11-02T20:45:20.870190Z",
     "start_time": "2023-11-02T20:45:20.740806Z"
    },
    "execution": {
     "iopub.execute_input": "2025-10-07T12:12:08.162909Z",
     "iopub.status.busy": "2025-10-07T12:12:08.162781Z",
     "iopub.status.idle": "2025-10-07T12:12:08.226410Z",
     "shell.execute_reply": "2025-10-07T12:12:08.226026Z",
     "shell.execute_reply.started": "2025-10-07T12:12:08.162899Z"
    }
   },
   "outputs": [
    {
     "data": {
      "text/latex": [
       "$\\displaystyle 1000007.48546921661698028641805$"
      ],
      "text/plain": [
       "1000007.48546921661698028641805"
      ]
     },
     "execution_count": 26,
     "metadata": {},
     "output_type": "execute_result"
    }
   ],
   "source": [
    "series.evalf(30)"
   ]
  },
  {
   "cell_type": "markdown",
   "id": "d65c66b7-4767-4f44-8f8f-3b4d67e0cf99",
   "metadata": {},
   "source": [
    "## Number comparison\n",
    "\n",
    "Number comparison: check equality of:\n",
    "\n",
    "$1+ 10^{-16}$ and $1$;\n",
    "\n",
    "$(1.01-1)\\cdot100$ and $1$"
   ]
  },
  {
   "cell_type": "code",
   "execution_count": 27,
   "id": "9f3b1c52-8594-4e5a-a87b-f161e5457124",
   "metadata": {
    "ExecuteTime": {
     "end_time": "2023-11-02T20:45:26.324771Z",
     "start_time": "2023-11-02T20:45:26.321442Z"
    },
    "execution": {
     "iopub.execute_input": "2025-10-07T12:12:08.226773Z",
     "iopub.status.busy": "2025-10-07T12:12:08.226683Z",
     "iopub.status.idle": "2025-10-07T12:12:08.228753Z",
     "shell.execute_reply": "2025-10-07T12:12:08.228566Z",
     "shell.execute_reply.started": "2025-10-07T12:12:08.226765Z"
    }
   },
   "outputs": [
    {
     "data": {
      "text/plain": [
       "True"
      ]
     },
     "execution_count": 27,
     "metadata": {},
     "output_type": "execute_result"
    }
   ],
   "source": [
    "1+1e-16 == 1"
   ]
  },
  {
   "cell_type": "code",
   "execution_count": 28,
   "id": "5e24e5b3-458f-4959-b092-c9f75fe7a097",
   "metadata": {
    "ExecuteTime": {
     "end_time": "2023-11-02T20:45:27.669982Z",
     "start_time": "2023-11-02T20:45:27.666677Z"
    },
    "execution": {
     "iopub.execute_input": "2025-10-07T12:12:08.229114Z",
     "iopub.status.busy": "2025-10-07T12:12:08.229031Z",
     "iopub.status.idle": "2025-10-07T12:12:08.231044Z",
     "shell.execute_reply": "2025-10-07T12:12:08.230701Z",
     "shell.execute_reply.started": "2025-10-07T12:12:08.229106Z"
    }
   },
   "outputs": [
    {
     "data": {
      "text/plain": [
       "False"
      ]
     },
     "execution_count": 28,
     "metadata": {},
     "output_type": "execute_result"
    }
   ],
   "source": [
    "1 == (1.01 - 1)*100"
   ]
  },
  {
   "cell_type": "markdown",
   "id": "897d30b4-f63d-412b-90ab-581a2d214435",
   "metadata": {},
   "source": [
    "Due to roundoff error, equality comparisons are complicated. Better to check equality with limited relative and absolute error, e.g., `isclose`"
   ]
  },
  {
   "cell_type": "code",
   "execution_count": 29,
   "id": "1c78ad5e-20b6-4ed5-b676-e0e05781ae29",
   "metadata": {
    "ExecuteTime": {
     "end_time": "2023-11-02T20:50:40.514482Z",
     "start_time": "2023-11-02T20:50:40.511282Z"
    },
    "execution": {
     "iopub.execute_input": "2025-10-07T12:12:08.231584Z",
     "iopub.status.busy": "2025-10-07T12:12:08.231438Z",
     "iopub.status.idle": "2025-10-07T12:12:08.237557Z",
     "shell.execute_reply": "2025-10-07T12:12:08.237351Z",
     "shell.execute_reply.started": "2025-10-07T12:12:08.231576Z"
    }
   },
   "outputs": [],
   "source": [
    "def isclose(a, b, rel_tol=1e-9, abs_tol=0.0):\n",
    "    return abs(a-b) <= max(rel_tol * max(abs(a), abs(b)), abs_tol)"
   ]
  },
  {
   "cell_type": "code",
   "execution_count": 30,
   "id": "9ba5a343-289d-4ec4-bd9f-a388afbe0c6a",
   "metadata": {
    "ExecuteTime": {
     "end_time": "2023-11-02T20:50:40.802805Z",
     "start_time": "2023-11-02T20:50:40.799659Z"
    },
    "execution": {
     "iopub.execute_input": "2025-10-07T12:12:08.237951Z",
     "iopub.status.busy": "2025-10-07T12:12:08.237859Z",
     "iopub.status.idle": "2025-10-07T12:12:08.240873Z",
     "shell.execute_reply": "2025-10-07T12:12:08.240552Z",
     "shell.execute_reply.started": "2025-10-07T12:12:08.237943Z"
    }
   },
   "outputs": [
    {
     "data": {
      "text/plain": [
       "True"
      ]
     },
     "execution_count": 30,
     "metadata": {},
     "output_type": "execute_result"
    }
   ],
   "source": [
    "isclose(1, (1.01 - 1)*100)"
   ]
  },
  {
   "cell_type": "markdown",
   "id": "9006ade7-29d6-40c0-8186-606a973a08c9",
   "metadata": {},
   "source": [
    "Or better use the library functions `np.isclose` or `math.isclose`, that guarrantee correct behavior with inf or NaN..."
   ]
  },
  {
   "cell_type": "code",
   "execution_count": 31,
   "id": "9997f771-4a53-4c08-9362-d14f8eb1eb81",
   "metadata": {
    "ExecuteTime": {
     "end_time": "2023-11-02T20:50:44.440358Z",
     "start_time": "2023-11-02T20:50:44.429951Z"
    },
    "execution": {
     "iopub.execute_input": "2025-10-07T12:12:08.241293Z",
     "iopub.status.busy": "2025-10-07T12:12:08.241209Z",
     "iopub.status.idle": "2025-10-07T12:12:08.243352Z",
     "shell.execute_reply": "2025-10-07T12:12:08.243152Z",
     "shell.execute_reply.started": "2025-10-07T12:12:08.241284Z"
    }
   },
   "outputs": [
    {
     "data": {
      "text/plain": [
       "True"
      ]
     },
     "execution_count": 31,
     "metadata": {},
     "output_type": "execute_result"
    }
   ],
   "source": [
    "np.isclose(1, (1.01 - 1)*100)"
   ]
  },
  {
   "cell_type": "markdown",
   "id": "34dee3b2-af8d-4f47-ad58-b4440e059415",
   "metadata": {},
   "source": [
    "## \"Special\" numbers: zero, infinity, NaN"
   ]
  },
  {
   "cell_type": "markdown",
   "id": "ef72e266-79e3-4c16-bc5a-dd8e6c536160",
   "metadata": {},
   "source": [
    "Python is dynamically typed - name is not bound to a data type, like in C/C++. The variable type can be queried with `type` function."
   ]
  },
  {
   "cell_type": "code",
   "execution_count": 32,
   "id": "6d294bbc-c3db-4aa0-8c63-a93a19a5a856",
   "metadata": {
    "ExecuteTime": {
     "end_time": "2023-11-02T20:52:29.766852Z",
     "start_time": "2023-11-02T20:52:29.764181Z"
    },
    "execution": {
     "iopub.execute_input": "2025-10-07T12:12:08.243709Z",
     "iopub.status.busy": "2025-10-07T12:12:08.243627Z",
     "iopub.status.idle": "2025-10-07T12:12:08.245385Z",
     "shell.execute_reply": "2025-10-07T12:12:08.245205Z",
     "shell.execute_reply.started": "2025-10-07T12:12:08.243702Z"
    }
   },
   "outputs": [
    {
     "data": {
      "text/plain": [
       "int"
      ]
     },
     "execution_count": 32,
     "metadata": {},
     "output_type": "execute_result"
    }
   ],
   "source": [
    "x = 0\n",
    "type(x)"
   ]
  },
  {
   "cell_type": "code",
   "execution_count": 33,
   "id": "14e6bf79-35e0-43c6-a351-968599dd91d9",
   "metadata": {
    "ExecuteTime": {
     "end_time": "2023-11-02T20:52:31.358772Z",
     "start_time": "2023-11-02T20:52:31.356089Z"
    },
    "execution": {
     "iopub.execute_input": "2025-10-07T12:12:08.245814Z",
     "iopub.status.busy": "2025-10-07T12:12:08.245720Z",
     "iopub.status.idle": "2025-10-07T12:12:08.247601Z",
     "shell.execute_reply": "2025-10-07T12:12:08.247396Z",
     "shell.execute_reply.started": "2025-10-07T12:12:08.245805Z"
    }
   },
   "outputs": [
    {
     "data": {
      "text/plain": [
       "float"
      ]
     },
     "execution_count": 33,
     "metadata": {},
     "output_type": "execute_result"
    }
   ],
   "source": [
    "x = 0.0\n",
    "type(x)"
   ]
  },
  {
   "cell_type": "markdown",
   "id": "de8d5863-161d-4ce9-a5ac-da8e2fc3d20b",
   "metadata": {},
   "source": [
    "A note about number types in Python: calculate `1/0`, `1/0.0` and `1/np.sin(0)`. Why do the results differ?"
   ]
  },
  {
   "cell_type": "code",
   "execution_count": 34,
   "id": "fc11b4a3-236d-41cd-923d-17a62049a8bc",
   "metadata": {
    "ExecuteTime": {
     "end_time": "2023-11-02T20:52:34.299243Z",
     "start_time": "2023-11-02T20:52:34.022720Z"
    },
    "execution": {
     "iopub.execute_input": "2025-10-07T12:12:08.248097Z",
     "iopub.status.busy": "2025-10-07T12:12:08.247989Z",
     "iopub.status.idle": "2025-10-07T12:12:08.324356Z",
     "shell.execute_reply": "2025-10-07T12:12:08.324001Z",
     "shell.execute_reply.started": "2025-10-07T12:12:08.248087Z"
    }
   },
   "outputs": [
    {
     "ename": "ZeroDivisionError",
     "evalue": "division by zero",
     "output_type": "error",
     "traceback": [
      "\u001b[0;31m---------------------------------------------------------------------------\u001b[0m",
      "\u001b[0;31mZeroDivisionError\u001b[0m                         Traceback (most recent call last)",
      "Cell \u001b[0;32mIn[34], line 1\u001b[0m\n\u001b[0;32m----> 1\u001b[0m \u001b[38;5;241;43m1\u001b[39;49m\u001b[38;5;241;43m/\u001b[39;49m\u001b[38;5;241;43m0\u001b[39;49m\n",
      "\u001b[0;31mZeroDivisionError\u001b[0m: division by zero"
     ]
    }
   ],
   "source": [
    "1/0"
   ]
  },
  {
   "cell_type": "code",
   "execution_count": 35,
   "id": "aa497485-b599-482f-bc19-630ed13d5bb0",
   "metadata": {
    "ExecuteTime": {
     "end_time": "2023-11-02T20:52:40.924071Z",
     "start_time": "2023-11-02T20:52:40.912083Z"
    },
    "execution": {
     "iopub.execute_input": "2025-10-07T12:12:20.069435Z",
     "iopub.status.busy": "2025-10-07T12:12:20.069074Z",
     "iopub.status.idle": "2025-10-07T12:12:20.079363Z",
     "shell.execute_reply": "2025-10-07T12:12:20.078738Z",
     "shell.execute_reply.started": "2025-10-07T12:12:20.069419Z"
    }
   },
   "outputs": [
    {
     "ename": "ZeroDivisionError",
     "evalue": "float division by zero",
     "output_type": "error",
     "traceback": [
      "\u001b[0;31m---------------------------------------------------------------------------\u001b[0m",
      "\u001b[0;31mZeroDivisionError\u001b[0m                         Traceback (most recent call last)",
      "Cell \u001b[0;32mIn[35], line 1\u001b[0m\n\u001b[0;32m----> 1\u001b[0m \u001b[38;5;241;43m1\u001b[39;49m\u001b[38;5;241;43m/\u001b[39;49m\u001b[38;5;241;43m0.0\u001b[39;49m\n",
      "\u001b[0;31mZeroDivisionError\u001b[0m: float division by zero"
     ]
    }
   ],
   "source": [
    "1/0.0"
   ]
  },
  {
   "cell_type": "code",
   "execution_count": 36,
   "id": "b3d98ce1-a539-4560-a96f-930813a7ac58",
   "metadata": {
    "ExecuteTime": {
     "end_time": "2023-11-02T20:52:41.820588Z",
     "start_time": "2023-11-02T20:52:41.816797Z"
    },
    "execution": {
     "iopub.execute_input": "2025-10-07T12:12:21.613124Z",
     "iopub.status.busy": "2025-10-07T12:12:21.612362Z",
     "iopub.status.idle": "2025-10-07T12:12:21.621081Z",
     "shell.execute_reply": "2025-10-07T12:12:21.620513Z",
     "shell.execute_reply.started": "2025-10-07T12:12:21.613062Z"
    }
   },
   "outputs": [
    {
     "name": "stderr",
     "output_type": "stream",
     "text": [
      "/tmp/ipykernel_900128/1905035236.py:1: RuntimeWarning: divide by zero encountered in scalar divide\n",
      "  1/np.sin(0)\n"
     ]
    },
    {
     "data": {
      "text/plain": [
       "inf"
      ]
     },
     "execution_count": 36,
     "metadata": {},
     "output_type": "execute_result"
    }
   ],
   "source": [
    "1/np.sin(0)"
   ]
  },
  {
   "cell_type": "markdown",
   "id": "dd8017ec-8c6b-4cd9-9ec6-c61a322391f7",
   "metadata": {},
   "source": [
    "The problem lies in different floating point number types. Numpy float allows division by zero - it will just emit warning and correctly return inf. This numpy behavior can be modified."
   ]
  },
  {
   "cell_type": "markdown",
   "id": "41b49b2f-a5af-4a22-b8e1-1289a2c7f2c8",
   "metadata": {},
   "source": [
    "64-bit numpy zero float is created as `np.float64(0)`. This data type can also represent Nan (not a number, undefined expression), +inf, -inf (infinities), +0, -0 (signed zero)."
   ]
  },
  {
   "cell_type": "code",
   "execution_count": 37,
   "id": "e3069f39-4312-49a4-90af-33ac46045f19",
   "metadata": {
    "ExecuteTime": {
     "end_time": "2023-11-02T20:52:44.642898Z",
     "start_time": "2023-11-02T20:52:44.635886Z"
    },
    "execution": {
     "iopub.execute_input": "2025-10-07T12:12:23.418791Z",
     "iopub.status.busy": "2025-10-07T12:12:23.417650Z",
     "iopub.status.idle": "2025-10-07T12:12:23.424815Z",
     "shell.execute_reply": "2025-10-07T12:12:23.424225Z",
     "shell.execute_reply.started": "2025-10-07T12:12:23.418732Z"
    }
   },
   "outputs": [
    {
     "data": {
      "text/plain": [
       "(-0.0, nan, -inf, inf)"
      ]
     },
     "execution_count": 37,
     "metadata": {},
     "output_type": "execute_result"
    }
   ],
   "source": [
    "-np.float64(0), np.nan, -np.inf, np.inf"
   ]
  },
  {
   "cell_type": "markdown",
   "id": "2fea751f-7585-4823-b4b5-7d78bf3978ae",
   "metadata": {},
   "source": [
    "Some sample NaN calculations:"
   ]
  },
  {
   "cell_type": "code",
   "execution_count": 38,
   "id": "660e490a-49a9-4387-8450-cec51cf7680e",
   "metadata": {
    "ExecuteTime": {
     "end_time": "2023-11-02T20:52:45.393316Z",
     "start_time": "2023-11-02T20:52:45.389004Z"
    },
    "execution": {
     "iopub.execute_input": "2025-10-07T12:12:25.431827Z",
     "iopub.status.busy": "2025-10-07T12:12:25.430975Z",
     "iopub.status.idle": "2025-10-07T12:12:25.438285Z",
     "shell.execute_reply": "2025-10-07T12:12:25.437155Z",
     "shell.execute_reply.started": "2025-10-07T12:12:25.431787Z"
    }
   },
   "outputs": [
    {
     "name": "stderr",
     "output_type": "stream",
     "text": [
      "/tmp/ipykernel_900128/3417162462.py:1: RuntimeWarning: divide by zero encountered in scalar divide\n",
      "  1/np.float64(0), 1/(-np.float64(0))\n"
     ]
    },
    {
     "data": {
      "text/plain": [
       "(inf, -inf)"
      ]
     },
     "execution_count": 38,
     "metadata": {},
     "output_type": "execute_result"
    }
   ],
   "source": [
    "1/np.float64(0), 1/(-np.float64(0))"
   ]
  },
  {
   "cell_type": "code",
   "execution_count": 39,
   "id": "08eeae1c-71da-438a-93c7-e5a398afb805",
   "metadata": {
    "ExecuteTime": {
     "end_time": "2023-11-02T20:52:45.922976Z",
     "start_time": "2023-11-02T20:52:45.915870Z"
    },
    "execution": {
     "iopub.execute_input": "2025-10-07T12:12:25.653630Z",
     "iopub.status.busy": "2025-10-07T12:12:25.653131Z",
     "iopub.status.idle": "2025-10-07T12:12:25.656716Z",
     "shell.execute_reply": "2025-10-07T12:12:25.656298Z",
     "shell.execute_reply.started": "2025-10-07T12:12:25.653612Z"
    }
   },
   "outputs": [
    {
     "name": "stderr",
     "output_type": "stream",
     "text": [
      "/tmp/ipykernel_900128/608735182.py:1: RuntimeWarning: invalid value encountered in scalar divide\n",
      "  0/np.float64(0)\n"
     ]
    },
    {
     "data": {
      "text/plain": [
       "nan"
      ]
     },
     "execution_count": 39,
     "metadata": {},
     "output_type": "execute_result"
    }
   ],
   "source": [
    "0/np.float64(0)"
   ]
  },
  {
   "cell_type": "markdown",
   "id": "5bb95b83-90bc-4328-8177-fffb74315647",
   "metadata": {},
   "source": [
    "All comparisons with NaN are false."
   ]
  },
  {
   "cell_type": "code",
   "execution_count": 40,
   "id": "a8f0d6de-566c-4353-a285-3ef4b52f71f2",
   "metadata": {
    "ExecuteTime": {
     "end_time": "2023-11-02T20:52:46.637111Z",
     "start_time": "2023-11-02T20:52:46.627283Z"
    },
    "execution": {
     "iopub.execute_input": "2025-10-07T12:12:26.858760Z",
     "iopub.status.busy": "2025-10-07T12:12:26.858392Z",
     "iopub.status.idle": "2025-10-07T12:12:26.862644Z",
     "shell.execute_reply": "2025-10-07T12:12:26.861816Z",
     "shell.execute_reply.started": "2025-10-07T12:12:26.858740Z"
    }
   },
   "outputs": [
    {
     "data": {
      "text/plain": [
       "(False, False, False)"
      ]
     },
     "execution_count": 40,
     "metadata": {},
     "output_type": "execute_result"
    }
   ],
   "source": [
    "np.nan > 3, np.nan <= 3, np.nan == np.nan"
   ]
  },
  {
   "cell_type": "code",
   "execution_count": 41,
   "id": "72aa4568-3d69-455f-8559-9cdb2fef5c01",
   "metadata": {
    "ExecuteTime": {
     "end_time": "2023-11-02T20:52:46.825493Z",
     "start_time": "2023-11-02T20:52:46.819651Z"
    },
    "execution": {
     "iopub.execute_input": "2025-10-07T12:12:27.159103Z",
     "iopub.status.busy": "2025-10-07T12:12:27.158792Z",
     "iopub.status.idle": "2025-10-07T12:12:27.162161Z",
     "shell.execute_reply": "2025-10-07T12:12:27.161800Z",
     "shell.execute_reply.started": "2025-10-07T12:12:27.159086Z"
    }
   },
   "outputs": [
    {
     "data": {
      "text/plain": [
       "True"
      ]
     },
     "execution_count": 41,
     "metadata": {},
     "output_type": "execute_result"
    }
   ],
   "source": [
    "np.inf == np.inf"
   ]
  },
  {
   "cell_type": "code",
   "execution_count": 42,
   "id": "eb77acaf-89ad-4261-a1a5-135270a13f45",
   "metadata": {
    "ExecuteTime": {
     "end_time": "2023-11-02T20:52:47.201334Z",
     "start_time": "2023-11-02T20:52:47.191961Z"
    },
    "execution": {
     "iopub.execute_input": "2025-10-07T12:12:27.467566Z",
     "iopub.status.busy": "2025-10-07T12:12:27.466640Z",
     "iopub.status.idle": "2025-10-07T12:12:27.474363Z",
     "shell.execute_reply": "2025-10-07T12:12:27.473308Z",
     "shell.execute_reply.started": "2025-10-07T12:12:27.467506Z"
    }
   },
   "outputs": [
    {
     "data": {
      "text/plain": [
       "True"
      ]
     },
     "execution_count": 42,
     "metadata": {},
     "output_type": "execute_result"
    }
   ],
   "source": [
    "-np.float64(0) == np.float64(0)"
   ]
  },
  {
   "cell_type": "code",
   "execution_count": 43,
   "id": "9682cb8d-d30d-4a37-9440-350bf83b8087",
   "metadata": {
    "ExecuteTime": {
     "end_time": "2023-11-02T20:52:47.420200Z",
     "start_time": "2023-11-02T20:52:47.413045Z"
    },
    "execution": {
     "iopub.execute_input": "2025-10-07T12:12:27.700613Z",
     "iopub.status.busy": "2025-10-07T12:12:27.700331Z",
     "iopub.status.idle": "2025-10-07T12:12:27.704164Z",
     "shell.execute_reply": "2025-10-07T12:12:27.703839Z",
     "shell.execute_reply.started": "2025-10-07T12:12:27.700593Z"
    }
   },
   "outputs": [
    {
     "data": {
      "text/plain": [
       "0.5"
      ]
     },
     "execution_count": 43,
     "metadata": {},
     "output_type": "execute_result"
    }
   ],
   "source": [
    "np.arctan(np.inf)/np.pi"
   ]
  },
  {
   "cell_type": "code",
   "execution_count": 44,
   "id": "1926d9ae-b57f-4c92-90a6-e29c86755614",
   "metadata": {
    "ExecuteTime": {
     "end_time": "2023-11-02T20:52:48.330740Z",
     "start_time": "2023-11-02T20:52:48.320981Z"
    },
    "execution": {
     "iopub.execute_input": "2025-10-07T12:12:28.201622Z",
     "iopub.status.busy": "2025-10-07T12:12:28.201029Z",
     "iopub.status.idle": "2025-10-07T12:12:28.208566Z",
     "shell.execute_reply": "2025-10-07T12:12:28.207923Z",
     "shell.execute_reply.started": "2025-10-07T12:12:28.201573Z"
    }
   },
   "outputs": [
    {
     "data": {
      "text/plain": [
       "False"
      ]
     },
     "execution_count": 44,
     "metadata": {},
     "output_type": "execute_result"
    }
   ],
   "source": [
    "np.inf > -np.nan"
   ]
  }
 ],
 "metadata": {
  "kernelspec": {
   "display_name": "sysenv",
   "language": "python",
   "name": "sysenv"
  },
  "language_info": {
   "codemirror_mode": {
    "name": "ipython",
    "version": 3
   },
   "file_extension": ".py",
   "mimetype": "text/x-python",
   "name": "python",
   "nbconvert_exporter": "python",
   "pygments_lexer": "ipython3",
   "version": "3.12.3"
  }
 },
 "nbformat": 4,
 "nbformat_minor": 5
}
