{
 "cells": [
  {
   "cell_type": "code",
   "execution_count": null,
   "metadata": {},
   "outputs": [],
   "source": [
    "import numpy as np\n",
    "import matplotlib.pyplot as plt"
   ]
  },
  {
   "cell_type": "markdown",
   "metadata": {},
   "source": [
    "### Derivace\n",
    "Vypočtěte derivaci funkce `sin(x)` v bodě `x=1` metodou dopředných diferencí\n",
    "$$\n",
    "\\frac{{\\rm d}f}{{\\rm d}x}\\approx {\\rm D_{FD}}(f, h)(x) = \\frac{f(x+h) - f(x)}{h}\n",
    "$$\n",
    "Porovnejte s analyticky vypočtenou derivací. Jaká je relativní chyba v závislosti na volbě $h$ (v rozsahu $10^{-16} - 10^0$, vykreslete velikost chyby v log-log grafu). Dokážete vysvětlit pozorované chování?"
   ]
  },
  {
   "cell_type": "code",
   "execution_count": null,
   "metadata": {},
   "outputs": [],
   "source": [
    "def f(x): return np.sin(x)\n",
    "def dfdx(x): return np.cos(x)"
   ]
  },
  {
   "cell_type": "code",
   "execution_count": null,
   "metadata": {},
   "outputs": [],
   "source": [
    "# dopredne diference (forward differences)\n",
    "def diff_FD(f, x, dx): return # ukol 1"
   ]
  },
  {
   "cell_type": "code",
   "execution_count": null,
   "metadata": {},
   "outputs": [],
   "source": [
    "# vypoctete derivaci pro x0=1. v zavislosti na dx\n",
    "x0 = 1.0\n",
    "dx = np.logspace(-16, 0, 500)"
   ]
  },
  {
   "cell_type": "code",
   "execution_count": null,
   "metadata": {
    "scrolled": false
   },
   "outputs": [],
   "source": [
    "rel_err_FD = np.abs((diff_FD(f, x0, dx) - dfdx(x0))/dfdx(x0))\n",
    "plt.loglog(dx, rel_err_FD)\n",
    "\n",
    "plt.grid()\n",
    "from matplotlib.ticker import LogLocator\n",
    "plt.ylim([1e-13, 1e1])\n",
    "plt.gca().xaxis.set_major_locator(LogLocator(base=100., numticks=20))"
   ]
  },
  {
   "cell_type": "markdown",
   "metadata": {},
   "source": [
    "Porovnejte s výpočtem metodou centrovaných diferencí"
   ]
  },
  {
   "cell_type": "code",
   "execution_count": null,
   "metadata": {},
   "outputs": [],
   "source": [
    "# centrovane diference (central differences)\n",
    "def diff_CD(f, x, dx): return # ukol 2"
   ]
  },
  {
   "cell_type": "code",
   "execution_count": null,
   "metadata": {},
   "outputs": [],
   "source": [
    "rel_err_CD = np.abs((diff_CD(f, x0, dx) - dfdx(x0))/dfdx(x0))\n",
    "plt.loglog(dx, rel_err_FD)\n",
    "plt.loglog(dx, rel_err_CD)\n",
    "\n",
    "plt.grid()\n",
    "from matplotlib.ticker import LogLocator\n",
    "plt.ylim([1e-13, 1e1])\n",
    "plt.gca().xaxis.set_major_locator(LogLocator(base=100., numticks=20))"
   ]
  },
  {
   "cell_type": "markdown",
   "metadata": {},
   "source": [
    "## Integrace\n",
    "Vypočtěte integrál funkce `4/(1+x**2)` na intervalu `[0,1]` obdélníkovou metodou s dělením na 100 intervalů, $n=100$:\n",
    "$$ s\n",
    "I^{\\rm OP} = \\sum_{i=0}^{n-1} f(x_i + \\xi h)h\n",
    "$$\n",
    "$$\n",
    "x_i = a + i\\frac{b-a}{n}\n",
    "$$\n",
    "Ověřte, jak přesnost výpočtu závisí na parametru $\\xi\\in[0, 1]$."
   ]
  },
  {
   "cell_type": "code",
   "execution_count": null,
   "metadata": {},
   "outputs": [],
   "source": [
    "def quad_rectangle(f, a, b, N, pos=0.5):\n",
    "    # ukol 3"
   ]
  },
  {
   "cell_type": "code",
   "execution_count": null,
   "metadata": {},
   "outputs": [],
   "source": [
    "def f(x): return 4/(1+x**2)"
   ]
  },
  {
   "cell_type": "code",
   "execution_count": null,
   "metadata": {},
   "outputs": [],
   "source": [
    "xis = np.linspace(0, 1, 11)\n",
    "ints = np.array([quad_rectangle(f, 0, 1, 100, xi) for xi in xis])"
   ]
  },
  {
   "cell_type": "code",
   "execution_count": null,
   "metadata": {},
   "outputs": [],
   "source": [
    "plt.plot(xis, np.abs(ints-np.pi))\n",
    "plt.grid()"
   ]
  },
  {
   "cell_type": "markdown",
   "metadata": {},
   "source": [
    "Optimální volba je $\\xi=0.5$, dostáváme tak \"midpoint rule\" druhého řádu přesnosti"
   ]
  },
  {
   "cell_type": "markdown",
   "metadata": {},
   "source": [
    "### Richardsonova extrapolace\n",
    "Řekněme, že hledaný integrál $I$ aproximujeme numericky vypočítanou hodnotou $\\hat I(h)$ s chybou $E(h)$:\n",
    "$$\\hat I(h)  = I + E(h).$$\n",
    "\n",
    "Pokud lze chybu metody $E$ vyjádřit jako polynom v závislosti na velikosti integračního kroku\n",
    "$$\n",
    "E = A_1h^{p_1} + A_2h^{p_2} + A_3h^{p_3} + \\ldots,\n",
    "$$\n",
    "můžeme eliminovat dominantní člen rozvoje\n",
    "$$\n",
    "\\hat I^{(1)} = \\frac{2^{p_1} \\hat I(h) - \\hat I(2h)}{2^{p_1} - 1} = I + A'_2h^{p_2} + A'_3h^{p_3} + \\ldots\n",
    "$$\n"
   ]
  },
  {
   "cell_type": "markdown",
   "metadata": {},
   "source": [
    "Vypočtěte integrál z předchozí úlohy lichoběžníkovou metodou s dělením na 10 a 5 intervalů. Využijte tyto aproximace k redukci chyby Richardsonovou metodou. Porovnejte chyby."
   ]
  },
  {
   "cell_type": "code",
   "execution_count": null,
   "metadata": {},
   "outputs": [],
   "source": [
    "def quad_trapezoid(f, a, b, N):\n",
    "    # ukol 4"
   ]
  },
  {
   "cell_type": "code",
   "execution_count": null,
   "metadata": {},
   "outputs": [],
   "source": [
    "N = 10"
   ]
  },
  {
   "cell_type": "code",
   "execution_count": null,
   "metadata": {},
   "outputs": [],
   "source": [
    "print(quad_trapezoid(f, 0, 1, N//2)-np.pi)\n",
    "print(quad_trapezoid(f, 0, 1, 10)-np.pi)\n"
   ]
  },
  {
   "cell_type": "code",
   "execution_count": null,
   "metadata": {},
   "outputs": [],
   "source": [
    "def richardson(f, N0, p):\n",
    "    # ukol 5"
   ]
  },
  {
   "cell_type": "code",
   "execution_count": null,
   "metadata": {},
   "outputs": [],
   "source": [
    "richardson(lambda N:quad_trapezoid(f, 0, 1, N), 10, 2) - np.pi"
   ]
  },
  {
   "cell_type": "markdown",
   "metadata": {},
   "source": [
    "### Rombergova integrace\n",
    "Opakovanou aplikací Richardsonovy extrapolace lze postupně eliminovat další členy chybového rozvoje. Pokud použijeme lichoběžníkovou metodu k výpočtu integrálu s dělením na $2^N$ intervalů, můžeme extrapolovat $N$-krát, čímž dostaneme metodou řádu $2(N+1)$."
   ]
  },
  {
   "cell_type": "code",
   "execution_count": null,
   "metadata": {},
   "outputs": [],
   "source": [
    "def romberg(f, a, b, N):\n",
    "    dx = (b-a)\n",
    "    a = [0.5*dx*(f(a) + f(b))]\n",
    "    for i in range(1, N):\n",
    "        dx *= 0.5\n",
    "        x = (np.arange(0, 2**(i), 2) + 1)*dx\n",
    "        a.append(a[-1]*0.5 + np.sum(f(x))*dx)\n",
    "\n",
    "    b = [np.array(a)]\n",
    "    for j in range(1, N):\n",
    "        b.append((2**(2*j) * b[-1][1:] - b[-1][:-1])/(2**(2*j) - 1))\n",
    "    \n",
    "    #for l in b:\n",
    "    #    print(l-np.pi)\n",
    "    return b[-1][0]"
   ]
  },
  {
   "cell_type": "code",
   "execution_count": null,
   "metadata": {},
   "outputs": [],
   "source": [
    "romberg(f, 0, 1, 5)"
   ]
  },
  {
   "cell_type": "code",
   "execution_count": null,
   "metadata": {},
   "outputs": [],
   "source": [
    "N = np.arange(1, 9)\n",
    "I = np.array([romberg(f, 0, 1, n) for n in N])\n",
    "I_trapezoid = np.array([quad_trapezoid(f, 0, 1, 2**(n-1)) for n in N])\n",
    "h = 1/2**(N)"
   ]
  },
  {
   "cell_type": "code",
   "execution_count": null,
   "metadata": {},
   "outputs": [],
   "source": [
    "plt.semilogy(N, np.abs(I-np.pi), label=\"Romberg\")\n",
    "plt.semilogy(N, np.abs(I_trapezoid-np.pi), label=\"trapezoid\")\n",
    "plt.legend()\n",
    "plt.ylabel(\"error\")\n",
    "plt.xlabel(\"romberg N\")\n",
    "plt.grid()"
   ]
  },
  {
   "cell_type": "code",
   "execution_count": null,
   "metadata": {},
   "outputs": [],
   "source": [
    "romberg(f, 0, 1, 9)"
   ]
  },
  {
   "cell_type": "code",
   "execution_count": null,
   "metadata": {},
   "outputs": [],
   "source": [
    "np.pi"
   ]
  },
  {
   "cell_type": "code",
   "execution_count": null,
   "metadata": {},
   "outputs": [],
   "source": [
    "plt.loglog(h, np.abs(I-np.pi), label=\"Romberg\")\n",
    "plt.loglog(h, np.abs(I_trapezoid-np.pi), label=\"trapezoid\")\n",
    "plt.legend()\n",
    "plt.ylabel(\"error\")\n",
    "plt.xlabel(\"h\")\n",
    "plt.grid()"
   ]
  },
  {
   "cell_type": "code",
   "execution_count": null,
   "metadata": {},
   "outputs": [],
   "source": []
  }
 ],
 "metadata": {
  "kernelspec": {
   "display_name": "Python 3",
   "language": "python",
   "name": "python3"
  },
  "language_info": {
   "codemirror_mode": {
    "name": "ipython",
    "version": 3
   },
   "file_extension": ".py",
   "mimetype": "text/x-python",
   "name": "python",
   "nbconvert_exporter": "python",
   "pygments_lexer": "ipython3",
   "version": "3.8.5"
  }
 },
 "nbformat": 4,
 "nbformat_minor": 4
}
