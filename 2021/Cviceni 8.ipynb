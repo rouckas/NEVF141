{
 "cells": [
  {
   "cell_type": "code",
   "execution_count": 3,
   "metadata": {
    "ExecuteTime": {
     "end_time": "2021-12-06T22:11:12.622868Z",
     "start_time": "2021-12-06T22:11:12.340704Z"
    }
   },
   "outputs": [],
   "source": [
    "import numpy as np\n",
    "import matplotlib.pyplot as plt\n",
    "from numpy.random import uniform"
   ]
  },
  {
   "cell_type": "markdown",
   "metadata": {},
   "source": [
    "## MC přenos chyb\n",
    "\n",
    "Máme $x = 0.1 \\pm 0.1$, jaká je chyba $y = \\sqrt[3]{x}$? Předpokládejme normální rozdělení $x$. Vypočtěte 95% interval spolehlivostni ($\\pm 2\\sigma$ pro normální rozdělení)."
   ]
  },
  {
   "cell_type": "code",
   "execution_count": 4,
   "metadata": {
    "ExecuteTime": {
     "end_time": "2021-12-06T22:11:13.473243Z",
     "start_time": "2021-12-06T22:11:13.467274Z"
    }
   },
   "outputs": [],
   "source": [
    "x_mean = 0.1\n",
    "x_std = 0.1\n",
    "def f(x): return np.cbrt(x)"
   ]
  },
  {
   "cell_type": "code",
   "execution_count": 5,
   "metadata": {
    "ExecuteTime": {
     "end_time": "2021-12-06T22:11:13.808155Z",
     "start_time": "2021-12-06T22:11:13.670794Z"
    }
   },
   "outputs": [
    {
     "data": {
      "image/png": "[encoded data removed]",
      "text/plain": [
       "<Figure size 432x288 with 1 Axes>"
      ]
     },
     "metadata": {
      "needs_background": "light"
     },
     "output_type": "display_data"
    }
   ],
   "source": [
    "x = np.linspace(-.5, .5)\n",
    "plt.plot(x, f(x))\n",
    "plt.grid()"
   ]
  },
  {
   "cell_type": "code",
   "execution_count": 6,
   "metadata": {
    "ExecuteTime": {
     "end_time": "2021-12-06T22:11:14.392799Z",
     "start_time": "2021-12-06T22:11:14.388770Z"
    }
   },
   "outputs": [],
   "source": [
    "from numpy.random import normal"
   ]
  },
  {
   "cell_type": "code",
   "execution_count": 7,
   "metadata": {
    "ExecuteTime": {
     "end_time": "2021-12-06T22:11:16.546325Z",
     "start_time": "2021-12-06T22:11:16.537710Z"
    }
   },
   "outputs": [],
   "source": [
    "nsampl = 10000\n",
    "xsampl = normal(x_mean, x_std, nsampl)\n",
    "ysampl = f(xsampl)"
   ]
  },
  {
   "cell_type": "code",
   "execution_count": 8,
   "metadata": {
    "ExecuteTime": {
     "end_time": "2021-12-06T22:11:17.566586Z",
     "start_time": "2021-12-06T22:11:17.358388Z"
    }
   },
   "outputs": [
    {
     "data": {
      "image/png": "[encoded data removed]",
      "text/plain": [
       "<Figure size 432x288 with 1 Axes>"
      ]
     },
     "metadata": {
      "needs_background": "light"
     },
     "output_type": "display_data"
    }
   ],
   "source": [
    "plt.hist(ysampl, bins=100);"
   ]
  },
  {
   "cell_type": "code",
   "execution_count": 12,
   "metadata": {
    "ExecuteTime": {
     "end_time": "2021-12-07T09:01:41.912171Z",
     "start_time": "2021-12-07T09:01:41.908238Z"
    }
   },
   "outputs": [
    {
     "name": "stdout",
     "output_type": "stream",
     "text": [
      "y = 0.46, CI = (-0.45, 0.67)\n"
     ]
    }
   ],
   "source": [
    "Q0, Q1, Q2 = np.quantile(ysampl,[0.025, 0.5, 0.975])\n",
    "print(\"y = %.2f, CI = (%.2f, %.2f)\"%(Q1, Q0, Q2))"
   ]
  },
  {
   "cell_type": "markdown",
   "metadata": {},
   "source": [
    "Porovnejme s analytickým výpočtem"
   ]
  },
  {
   "cell_type": "code",
   "execution_count": 10,
   "metadata": {
    "ExecuteTime": {
     "end_time": "2021-12-06T22:13:34.886735Z",
     "start_time": "2021-12-06T22:13:34.882358Z"
    }
   },
   "outputs": [],
   "source": [
    "def dfdx(x): return x**(-2/3)*1/3\n",
    "# y_std = dfdx(x_mean) * x_std\n",
    "y_std = dfdx(x_mean) * x_std\n",
    "y_mean = f(x_mean)"
   ]
  },
  {
   "cell_type": "code",
   "execution_count": 13,
   "metadata": {
    "ExecuteTime": {
     "end_time": "2021-12-07T09:05:19.282265Z",
     "start_time": "2021-12-07T09:05:19.278086Z"
    }
   },
   "outputs": [
    {
     "name": "stdout",
     "output_type": "stream",
     "text": [
      "y = 0.46, CI = (0.15, 0.77)\n"
     ]
    }
   ],
   "source": [
    "G0, G1, G2 = y_mean - 2*y_std,y_mean, y_mean + 2*y_std\n",
    "print(\"y = %.2f, CI = (%.2f, %.2f)\"%(G1, G0, G2))"
   ]
  },
  {
   "cell_type": "code",
   "execution_count": 38,
   "metadata": {
    "ExecuteTime": {
     "end_time": "2021-11-30T09:38:37.097673Z",
     "start_time": "2021-11-30T09:38:37.094003Z"
    }
   },
   "outputs": [
    {
     "data": {
      "text/plain": [
       "(0.15471962778709264, 0.7735981389354631)"
      ]
     },
     "execution_count": 38,
     "metadata": {},
     "output_type": "execute_result"
    }
   ],
   "source": [
    "y_mean - 2*y_std, y_mean + 2*y_std"
   ]
  },
  {
   "cell_type": "code",
   "execution_count": 17,
   "metadata": {
    "ExecuteTime": {
     "end_time": "2021-12-07T09:09:01.025561Z",
     "start_time": "2021-12-07T09:09:00.895801Z"
    }
   },
   "outputs": [
    {
     "data": {
      "text/plain": [
       "<matplotlib.legend.Legend at 0x7f58fd4001c0>"
      ]
     },
     "execution_count": 17,
     "metadata": {},
     "output_type": "execute_result"
    },
    {
     "data": {
      "image/png": "[encoded data removed]",
      "text/plain": [
       "<Figure size 432x288 with 1 Axes>"
      ]
     },
     "metadata": {
      "needs_background": "light"
     },
     "output_type": "display_data"
    }
   ],
   "source": [
    "plt.errorbar([Q1], 1, xerr=np.array([[Q1-Q0], [Q2-Q1]]), fmt=\"D\", label=\"MC estimate\")\n",
    "plt.errorbar([G1], 2, xerr=np.array([[G1-G0], [G2-G1]]), fmt=\"o\", label=\"linearized\")\n",
    "plt.hist(ysampl, bins=100, density=True, histtype=\"step\");\n",
    "plt.legend(loc=\"upper left\")"
   ]
  },
  {
   "cell_type": "markdown",
   "metadata": {},
   "source": [
    "## Modelování srážkových procesů\n",
    "- generuje náhodnou proměnnou z exponenciálního rozdělení"
   ]
  },
  {
   "cell_type": "code",
   "execution_count": 18,
   "metadata": {
    "ExecuteTime": {
     "end_time": "2021-12-07T09:10:11.106991Z",
     "start_time": "2021-12-07T09:10:11.103792Z"
    }
   },
   "outputs": [],
   "source": [
    "mfp = 10.\n",
    "a = 1.\n",
    "\n",
    "def fp_sample(mfp, size=None):\n",
    "    g = uniform(size=size)\n",
    "    return -mfp*np.log(g)"
   ]
  },
  {
   "cell_type": "code",
   "execution_count": 22,
   "metadata": {
    "ExecuteTime": {
     "end_time": "2021-12-07T09:54:46.934915Z",
     "start_time": "2021-12-07T09:54:46.931946Z"
    }
   },
   "outputs": [],
   "source": [
    "from numpy.random import exponential"
   ]
  },
  {
   "cell_type": "code",
   "execution_count": 28,
   "metadata": {
    "ExecuteTime": {
     "end_time": "2021-12-07T10:00:58.939514Z",
     "start_time": "2021-12-07T10:00:58.837929Z"
    }
   },
   "outputs": [
    {
     "data": {
      "text/plain": [
       "[<matplotlib.lines.Line2D at 0x7f58fc41c9d0>]"
      ]
     },
     "execution_count": 28,
     "metadata": {},
     "output_type": "execute_result"
    },
    {
     "data": {
      "image/png": "[encoded data removed]",
      "text/plain": [
       "<Figure size 432x288 with 1 Axes>"
      ]
     },
     "metadata": {
      "needs_background": "light"
     },
     "output_type": "display_data"
    }
   ],
   "source": [
    "plt.hist(exponential(mfp, 100000), bins=100, density=True, histtype=\"step\");\n",
    "plt.hist(fp_sample(mfp, 100000), bins=100, density=True, histtype=\"step\");\n",
    "x = np.linspace(0, mfp*5)\n",
    "plt.xlim(0, mfp*5)\n",
    "plt.plot(x, 1/mfp*np.exp(-x/mfp))"
   ]
  },
  {
   "cell_type": "markdown",
   "metadata": {},
   "source": [
    "Modelujte pohyb iontů Ar$^+$ v konst. elektrickém poli. Uvažujte, že ionty se pohybují v neutrálním plynu o zanedbatelné teplotě. Při srážkách dochází k rezonančnímu přenosu náboje. Částice startují v klidu, vypočtěte ryclostní rozdělení v čase $10\\tau$"
   ]
  },
  {
   "cell_type": "code",
   "execution_count": 29,
   "metadata": {
    "ExecuteTime": {
     "end_time": "2021-12-07T10:45:21.051674Z",
     "start_time": "2021-12-07T10:45:21.045361Z"
    }
   },
   "outputs": [],
   "source": [
    "from scipy.constants import e, physical_constants\n",
    "amu = physical_constants[\"atomic mass constant\"][0]\n",
    "\n",
    "Qi = e # C naboj iontu\n",
    "# https://www.nist.gov/pml/atomic-weights-and-isotopic-compositions-relative-atomic-masses\n",
    "Mi = 39.962*amu # kg hmotnost iontu"
   ]
  },
  {
   "cell_type": "code",
   "execution_count": 31,
   "metadata": {
    "ExecuteTime": {
     "end_time": "2021-12-07T10:48:39.486407Z",
     "start_time": "2021-12-07T10:48:39.481336Z"
    }
   },
   "outputs": [],
   "source": [
    "E = 10000 # V/m vnejsi pole\n",
    "ng = 1e17*1e6 # m-3 koncentrace neutralu\n",
    "sigmav = 1e-9*1e-6 # m3 s-1 (sigma ~ 1/v)\n",
    "\n",
    "nu = ng*sigmav # s-1 srazkova frekvence\n",
    "tau = 1/nu"
   ]
  },
  {
   "cell_type": "code",
   "execution_count": 32,
   "metadata": {
    "ExecuteTime": {
     "end_time": "2021-12-07T10:48:43.740074Z",
     "start_time": "2021-12-07T10:48:43.735707Z"
    }
   },
   "outputs": [
    {
     "data": {
      "text/plain": [
       "1e-08"
      ]
     },
     "execution_count": 32,
     "metadata": {},
     "output_type": "execute_result"
    }
   ],
   "source": [
    "tau"
   ]
  },
  {
   "cell_type": "code",
   "execution_count": null,
   "metadata": {},
   "outputs": [],
   "source": [
    "def propagate(tmax):\n",
    "    a = Qi*E/M # cm"
   ]
  },
  {
   "cell_type": "code",
   "execution_count": null,
   "metadata": {},
   "outputs": [],
   "source": [
    "# https://www.nist.gov/pml/atomic-weights-and-isotopic-compositions-relative-atomic-masses\n",
    "Mi = 39.962"
   ]
  },
  {
   "cell_type": "code",
   "execution_count": null,
   "metadata": {},
   "outputs": [],
   "source": [
    "def random_maxwell_v_component(T, M, nsampl):\n",
    "    return np.random.normal(0, np.sqrt(k*T/M), nsampl)"
   ]
  },
  {
   "cell_type": "code",
   "execution_count": 24,
   "metadata": {
    "ExecuteTime": {
     "end_time": "2021-12-07T09:56:52.145117Z",
     "start_time": "2021-12-07T09:56:52.140409Z"
    }
   },
   "outputs": [],
   "source": [
    "from scipy.constants import e, physical_constants"
   ]
  },
  {
   "cell_type": "code",
   "execution_count": 25,
   "metadata": {
    "ExecuteTime": {
     "end_time": "2021-12-07T09:57:19.808796Z",
     "start_time": "2021-12-07T09:57:19.803694Z"
    }
   },
   "outputs": [],
   "source": [
    "amu = physical_constants[\"atomic mass constant\"][0]"
   ]
  },
  {
   "cell_type": "code",
   "execution_count": 26,
   "metadata": {
    "ExecuteTime": {
     "end_time": "2021-12-07T09:57:22.940625Z",
     "start_time": "2021-12-07T09:57:22.931979Z"
    }
   },
   "outputs": [
    {
     "data": {
      "text/plain": [
       "(1.6605390666e-27, 'kg', 5e-37)"
      ]
     },
     "execution_count": 26,
     "metadata": {},
     "output_type": "execute_result"
    }
   ],
   "source": [
    "amu"
   ]
  },
  {
   "cell_type": "code",
   "execution_count": null,
   "metadata": {},
   "outputs": [],
   "source": []
  }
 ],
 "metadata": {
  "kernelspec": {
   "display_name": "Python 3",
   "language": "python",
   "name": "python3"
  },
  "language_info": {
   "codemirror_mode": {
    "name": "ipython",
    "version": 3
   },
   "file_extension": ".py",
   "mimetype": "text/x-python",
   "name": "python",
   "nbconvert_exporter": "python",
   "pygments_lexer": "ipython3",
   "version": "3.8.10"
  }
 },
 "nbformat": 4,
 "nbformat_minor": 4
}
