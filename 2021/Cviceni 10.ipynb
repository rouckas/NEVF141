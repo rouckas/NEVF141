{
 "cells": [
  {
   "cell_type": "code",
   "execution_count": 2,
   "metadata": {
    "ExecuteTime": {
     "end_time": "2021-12-20T22:53:50.799427Z",
     "start_time": "2021-12-20T22:53:50.262521Z"
    }
   },
   "outputs": [],
   "source": [
    "import numpy as np\n",
    "import matplotlib.pyplot as plt"
   ]
  },
  {
   "cell_type": "markdown",
   "metadata": {},
   "source": [
    "## Řešení Poissonovy rovnice"
   ]
  },
  {
   "cell_type": "markdown",
   "metadata": {},
   "source": [
    "Vypočtěte teplotní profil uvnitř polystyrenové desky s tepelnou vodivostí $k=0.03\\rm\\ W / m\\,K$ o síle $L=0.1\\rm\\ m$, kde na jedné straně desky je teplota $T_1 = 200\\rm\\ K$ a na druhé straně $T_2 = 300\\rm\\ K$.\n",
    "\n",
    "Řešte tedy Laplaceovu rovnici\n",
    "$$\\Delta T = 0$$\n",
    "(Obecněji $\\nabla\\cdot(k\\nabla T)=0$) Použijte 100 mřížových bodů (včetně okrajů). Řešte nejprve Jacobiho metodou. Jako kritérium zastavení výpočtu porovnávejte sumu kvadrátů změny v poslední iteraci s epsilon=1e-5: `sum(res**2) < epsilon**2`"
   ]
  },
  {
   "cell_type": "code",
   "execution_count": 14,
   "metadata": {
    "ExecuteTime": {
     "end_time": "2021-12-21T09:35:24.673512Z",
     "start_time": "2021-12-21T09:35:24.577970Z"
    }
   },
   "outputs": [],
   "source": [
    "xmax = 0.1\n",
    "k = 0.03\n",
    "T1, T2 = 200., 300.\n",
    "epsilon=1e-5"
   ]
  },
  {
   "cell_type": "code",
   "execution_count": 15,
   "metadata": {
    "ExecuteTime": {
     "end_time": "2021-12-21T09:35:31.153337Z",
     "start_time": "2021-12-21T09:35:31.147408Z"
    }
   },
   "outputs": [],
   "source": [
    "Nx = 100\n",
    "dx = xmax/(Nx-1)"
   ]
  },
  {
   "cell_type": "markdown",
   "metadata": {},
   "source": [
    "Definujeme pole neznámých a zapíšeme okrajové podmínky"
   ]
  },
  {
   "cell_type": "code",
   "execution_count": 16,
   "metadata": {
    "ExecuteTime": {
     "end_time": "2021-12-21T09:35:33.325722Z",
     "start_time": "2021-12-21T09:35:33.310211Z"
    }
   },
   "outputs": [],
   "source": [
    "U0 = np.zeros(Nx)\n",
    "U0[0] = T1\n",
    "U0[-1] = T2"
   ]
  },
  {
   "cell_type": "code",
   "execution_count": 17,
   "metadata": {
    "ExecuteTime": {
     "end_time": "2021-12-21T09:35:36.189090Z",
     "start_time": "2021-12-21T09:35:36.171912Z"
    }
   },
   "outputs": [],
   "source": [
    "def solve_poisson_jac(U0, maxiter=100000, epsilon=1e-5):\n",
    "    \"\"\"Solve Poisson equation with Dirichlet BC by the Jacobi method\"\"\"\n",
    "    U = U0.copy()\n",
    "    for it in range(maxiter):\n",
    "        res = 0.5*(U[:-2] + U[2:]) - U[1:-1]\n",
    "        U[1:-1] += res\n",
    "        if sum(res**2) < epsilon**2: break\n",
    "    return U, it"
   ]
  },
  {
   "cell_type": "code",
   "execution_count": 18,
   "metadata": {
    "ExecuteTime": {
     "end_time": "2021-12-21T09:35:38.565151Z",
     "start_time": "2021-12-21T09:35:37.849093Z"
    }
   },
   "outputs": [
    {
     "name": "stdout",
     "output_type": "stream",
     "text": [
      "23140\n"
     ]
    }
   ],
   "source": [
    "U, it = solve_poisson_jac(U0, epsilon=1e-5)\n",
    "print(it)"
   ]
  },
  {
   "cell_type": "code",
   "execution_count": 11,
   "metadata": {
    "ExecuteTime": {
     "end_time": "2021-12-20T22:54:50.931675Z",
     "start_time": "2021-12-20T22:54:50.804401Z"
    }
   },
   "outputs": [
    {
     "data": {
      "text/plain": [
       "[<matplotlib.lines.Line2D at 0x7f6e55732490>]"
      ]
     },
     "execution_count": 11,
     "metadata": {},
     "output_type": "execute_result"
    },
    {
     "data": {
      "image/png": "[encoded data removed]",
      "text/plain": [
       "<Figure size 432x288 with 1 Axes>"
      ]
     },
     "metadata": {
      "needs_background": "light"
     },
     "output_type": "display_data"
    }
   ],
   "source": [
    "plt.plot(U)"
   ]
  },
  {
   "cell_type": "markdown",
   "metadata": {
    "ExecuteTime": {
     "end_time": "2021-12-21T10:15:39.787385Z",
     "start_time": "2021-12-21T10:15:39.777030Z"
    }
   },
   "source": [
    "Přidejte vyhřívání $S=10^5\\rm W\\cdot m^{-3}$. $\\Delta T = -S/k$"
   ]
  },
  {
   "cell_type": "code",
   "execution_count": 32,
   "metadata": {
    "ExecuteTime": {
     "end_time": "2021-12-21T10:11:36.083198Z",
     "start_time": "2021-12-21T10:11:36.079536Z"
    }
   },
   "outputs": [],
   "source": [
    "def solve_poisson_jac_RHS(U0, RHS, h, maxiter=100000, epsilon=1e-5):\n",
    "    \"\"\"Solve Poisson equation with Dirichlet BC by the Jacobi method\"\"\"\n",
    "    U = U0.copy()\n",
    "    for it in range(maxiter):\n",
    "        res = 0.5*(U[:-2] + U[2:]) + h**2*RHS/2 - U[1:-1]\n",
    "        U[1:-1] += res\n",
    "        if sum(res**2) < epsilon**2: break\n",
    "    return U, it"
   ]
  },
  {
   "cell_type": "code",
   "execution_count": 33,
   "metadata": {
    "ExecuteTime": {
     "end_time": "2021-12-21T10:11:37.173893Z",
     "start_time": "2021-12-21T10:11:36.519544Z"
    }
   },
   "outputs": [],
   "source": [
    "U, it = solve_poisson_jac_RHS(U0, 100000, dx, epsilon=1e-5)\n"
   ]
  },
  {
   "cell_type": "code",
   "execution_count": 34,
   "metadata": {
    "ExecuteTime": {
     "end_time": "2021-12-21T10:11:38.246181Z",
     "start_time": "2021-12-21T10:11:38.150334Z"
    }
   },
   "outputs": [
    {
     "data": {
      "text/plain": [
       "[<matplotlib.lines.Line2D at 0x7f6e534663d0>]"
      ]
     },
     "execution_count": 34,
     "metadata": {},
     "output_type": "execute_result"
    },
    {
     "data": {
      "image/png": "[encoded data removed]",
      "text/plain": [
       "<Figure size 432x288 with 1 Axes>"
      ]
     },
     "metadata": {
      "needs_background": "light"
     },
     "output_type": "display_data"
    }
   ],
   "source": [
    "plt.plot(U)"
   ]
  },
  {
   "cell_type": "markdown",
   "metadata": {},
   "source": [
    "Řešte stejný problém Gauss-Seidelovou metodou a porovnejte potřebný počet iterací"
   ]
  },
  {
   "cell_type": "code",
   "execution_count": 12,
   "metadata": {
    "ExecuteTime": {
     "end_time": "2021-12-20T22:54:56.936119Z",
     "start_time": "2021-12-20T22:54:56.932666Z"
    }
   },
   "outputs": [],
   "source": [
    "def solve_poisson_gs(U0, Nx, maxiter=100000):\n",
    "    \"\"\"Solve Poisson equation with Dirichlet BC by the Gauss-Seidel method\"\"\"\n",
    "    U = U0.copy()\n",
    "    for it in range(maxiter):\n",
    "        err=0\n",
    "        for i in range(1,Nx-1):\n",
    "            res = 0.5*(U[i-1] + U[i+1]) - U[i]\n",
    "            U[i] += res\n",
    "            err += res**2\n",
    "        if err < epsilon**2: break\n",
    "    return U, it"
   ]
  },
  {
   "cell_type": "code",
   "execution_count": 13,
   "metadata": {
    "ExecuteTime": {
     "end_time": "2021-12-20T22:55:01.041694Z",
     "start_time": "2021-12-20T22:54:58.959481Z"
    }
   },
   "outputs": [
    {
     "name": "stdout",
     "output_type": "stream",
     "text": [
      "12244\n"
     ]
    }
   ],
   "source": [
    "U, it = solve_poisson_gs(U0, Nx)\n",
    "print(it)"
   ]
  },
  {
   "cell_type": "markdown",
   "metadata": {},
   "source": [
    "#### Poznámka: vektorizované operace vs for cykly v Pythonu\n",
    "G-S metodou nám tedy stačí poloviční počet iterací. Je také dvakrát rychlejší?"
   ]
  },
  {
   "cell_type": "code",
   "execution_count": 314,
   "metadata": {},
   "outputs": [
    {
     "name": "stdout",
     "output_type": "stream",
     "text": [
      "505 ms ± 8.8 ms per loop (mean ± std. dev. of 7 runs, 1 loop each)\n",
      "1.69 s ± 110 ms per loop (mean ± std. dev. of 7 runs, 1 loop each)\n"
     ]
    }
   ],
   "source": [
    "%timeit solve_poisson_jac(U0)\n",
    "%timeit solve_poisson_gs(U0)"
   ]
  },
  {
   "cell_type": "markdown",
   "metadata": {},
   "source": [
    "Není, protože Gauss-Seidelovu metodu s \"přirozeným\" pořadím prvků nelze jednoduše zapsat s pomocí vektorizovaných operací v Pythonu. Cykly v pythonu jsou pomalé oproti numpy vektorizovaným operacím:"
   ]
  },
  {
   "cell_type": "code",
   "execution_count": 256,
   "metadata": {},
   "outputs": [
    {
     "name": "stdout",
     "output_type": "stream",
     "text": [
      "2.39 µs ± 105 ns per loop (mean ± std. dev. of 7 runs, 100000 loops each)\n"
     ]
    }
   ],
   "source": [
    "%timeit res = 0.5*(U[:-2] + U[2:]) - U[1:-1]"
   ]
  },
  {
   "cell_type": "code",
   "execution_count": 315,
   "metadata": {},
   "outputs": [
    {
     "name": "stdout",
     "output_type": "stream",
     "text": [
      "75 µs ± 2.78 µs per loop (mean ± std. dev. of 7 runs, 10000 loops each)\n"
     ]
    }
   ],
   "source": [
    "%%timeit\n",
    "res = np.zeros(Nx-1)\n",
    "for i in range(1, Nx-1): res[i-1] = 0.5*(U[i-1] + U[i+1]) - U[i]"
   ]
  },
  {
   "cell_type": "markdown",
   "metadata": {},
   "source": [
    "Později si ukážeme, jak tento problém vyřešit s pomocí red-black orderingu..."
   ]
  },
  {
   "cell_type": "markdown",
   "metadata": {},
   "source": [
    "Aplikujte superrelaxaci v řešiči s Gauss-Seidelovou metodou. Studujte závislost počtu iterací na parametru `omega` v intervalu `[1, 2]`."
   ]
  },
  {
   "cell_type": "code",
   "execution_count": 316,
   "metadata": {},
   "outputs": [],
   "source": [
    "def solve_poisson_SOR(U0, Nx, omega, maxiter=10**5):\n",
    "    U = U0.copy()\n",
    "    for it in range(maxiter):\n",
    "        err=0\n",
    "        for i in range(1,Nx-1):\n",
    "            res = 0.5*(U[i-1] + U[i+1]) - U[i]\n",
    "            U[i] += res*omega\n",
    "            err += res**2\n",
    "        if err < epsilon**2: break\n",
    "    return U, it"
   ]
  },
  {
   "cell_type": "code",
   "execution_count": 317,
   "metadata": {},
   "outputs": [],
   "source": [
    "omega = np.linspace(1, 2, 100)\n",
    "iters = [solve_poisson_SOR(U0, Nx, o)[1] for o in omega]"
   ]
  },
  {
   "cell_type": "markdown",
   "metadata": {},
   "source": [
    "Teoretická hodnota optimálního parametru $\\omega$ je (bez důkazu):"
   ]
  },
  {
   "cell_type": "code",
   "execution_count": 318,
   "metadata": {},
   "outputs": [],
   "source": [
    "rho_jac = np.cos(np.pi/(Nx-2))\n",
    "rho_gs = rho_jac**2\n",
    "omega_theory = 2/(1+np.sqrt(1 - rho_gs))"
   ]
  },
  {
   "cell_type": "code",
   "execution_count": 301,
   "metadata": {
    "scrolled": true
   },
   "outputs": [
    {
     "data": {
      "text/plain": [
       "(0.0, 13000.0)"
      ]
     },
     "execution_count": 301,
     "metadata": {},
     "output_type": "execute_result"
    },
    {
     "data": {
      "image/png": "[encoded data removed]",
      "text/plain": [
       "<Figure size 432x288 with 1 Axes>"
      ]
     },
     "metadata": {
      "needs_background": "light"
     },
     "output_type": "display_data"
    }
   ],
   "source": [
    "plt.plot(omega, iters)\n",
    "plt.axvline(omega_theory, c=\"r\")\n",
    "plt.grid()\n",
    "plt.ylim(0, 13000)"
   ]
  },
  {
   "cell_type": "markdown",
   "metadata": {},
   "source": [
    "Vektorizace SOR v pythonu: red black ordering (oddělená iterace sudých a lichých bodů v 1D)"
   ]
  },
  {
   "cell_type": "code",
   "execution_count": 240,
   "metadata": {},
   "outputs": [],
   "source": [
    "def solve_poisson_SOR_red_black(U0, Nx, omega, maxiter=10**2):\n",
    "    U = U0.copy()\n",
    "    odd = np.arange(1,Nx-2,2)\n",
    "    even = np.arange(2,Nx-1,2)\n",
    "    res = np.zeros(Nx)\n",
    "    for it in range(maxiter):\n",
    "        for ii in (odd, even):\n",
    "            res[ii] = 0.5*(U[ii-1] + U[ii+1]) - U[ii]\n",
    "            U[ii] += res[ii]*omega\n",
    "\n",
    "        if sum(res**2) < epsilon**2: break\n",
    "    return U, it"
   ]
  },
  {
   "cell_type": "markdown",
   "metadata": {},
   "source": [
    "Nyní si opět porovnejme rychlost našich metod:"
   ]
  },
  {
   "cell_type": "code",
   "execution_count": 321,
   "metadata": {},
   "outputs": [
    {
     "name": "stdout",
     "output_type": "stream",
     "text": [
      "498 ms ± 7.37 ms per loop (mean ± std. dev. of 7 runs, 1 loop each)\n",
      "1.76 s ± 108 ms per loop (mean ± std. dev. of 7 runs, 1 loop each)\n",
      "47.3 ms ± 2.46 ms per loop (mean ± std. dev. of 7 runs, 10 loops each)\n",
      "3.59 ms ± 239 µs per loop (mean ± std. dev. of 7 runs, 100 loops each)\n"
     ]
    }
   ],
   "source": [
    "%timeit solve_poisson_jac(U0)\n",
    "%timeit solve_poisson_gs(U0, Nx)\n",
    "%timeit solve_poisson_SOR(U0, Nx, omega_theory)\n",
    "%timeit solve_poisson_SOR_red_black(U0, Nx, omega_theory)"
   ]
  },
  {
   "cell_type": "markdown",
   "metadata": {},
   "source": [
    "### Neumannovy okrajové podmínky\n",
    "Chceme zavést podmínku $U_0' = \\rm const$. Jednoduchou možností je přidat rovnici\n",
    "$$\\frac{U_1 - U_0}{\\Delta x} = U_0',$$\n",
    "ale ta je pouze prvního řádu přesnosti (dopředné diference). Možným řešením je přidání fiktivního bodu $U_{-1}$ mimo pracovní oblast, čímž dostaneme aproximaci druhého řádu přesnosti:\n",
    "$$\\frac{U_1 - U_{-1}}{2\\Delta x} = U_0'.$$\n",
    "Fiktivní bod můžeme vyjádřit jako $U_{-1} = U_1 - 2\\Delta x U_0'$ a eliminovat kombinací s Poissonovou rovnicí pro nultý bod:\n",
    "$$-k\\frac{U_{-1} - 2U_0 + U_1}{\\Delta x^2} = 0,$$\n",
    "čímž dostaneme rovnici\n",
    "$$-k\\frac{2U_{1} - 2U_0}{\\Delta x^2} = -\\frac{2kU_0'}{\\Delta x},$$\n",
    "$${U_{1} - U_0} = U_0'\\Delta x.$$\n",
    "\n"
   ]
  },
  {
   "cell_type": "markdown",
   "metadata": {},
   "source": [
    "Spočtěme nyní, jaká bude teplota na povrchu již studované polystyrenové desky, pokud na jednom jejím povrchu bude ve vakuu deponován výkon $100\\ \\rm W/m = kT_0'$ (například vlivem slunečního záření), zatímco na druhé straně bude fixní teplota $273\\ \\rm K$."
   ]
  },
  {
   "cell_type": "code",
   "execution_count": 164,
   "metadata": {},
   "outputs": [],
   "source": [
    "J0 = 100. # W m^-2\n",
    "dT0 = -J0/k\n",
    "T1 = 273. # K"
   ]
  },
  {
   "cell_type": "code",
   "execution_count": 165,
   "metadata": {},
   "outputs": [],
   "source": [
    "def solve_poisson_neumann(Nx, dx, omega, dT0, T1, maxiter=10**5):\n",
    "    U = np.zeros(Nx)\n",
    "    U[-1] = T1\n",
    "    for it in range(maxiter):\n",
    "        err=0\n",
    "        \n",
    "        for i in range(0,Nx-1):\n",
    "            if i==0:\n",
    "                res = U[1] - dT0*dx - U[0]\n",
    "            else:\n",
    "                res = 0.5*(U[i-1] + U[i+1]) - U[i]\n",
    "            U[i] += res*omega\n",
    "            err += res**2\n",
    "        if err < epsilon**2: break\n",
    "    return U, it"
   ]
  },
  {
   "cell_type": "code",
   "execution_count": 167,
   "metadata": {},
   "outputs": [],
   "source": [
    "T, it = solve_poisson_neumann(Nx, dx, omega_theory, dT0, T1)"
   ]
  },
  {
   "cell_type": "code",
   "execution_count": 173,
   "metadata": {},
   "outputs": [
    {
     "data": {
      "text/plain": [
       "99.99989150816087"
      ]
     },
     "execution_count": 173,
     "metadata": {},
     "output_type": "execute_result"
    }
   ],
   "source": [
    "k*(T[0]-T[-1])/xmax"
   ]
  },
  {
   "cell_type": "markdown",
   "metadata": {},
   "source": [
    "### Poissonova rovnice ve 2D"
   ]
  },
  {
   "cell_type": "markdown",
   "metadata": {},
   "source": [
    "Ukázka první: Poissonova rovnice pro \"polystyrenový hranol\" se čtvercovým průřezem o hraně $0.1\\ \\rm m$. Teploty na jednotlivých stěnách hranolu jsou 100, 200, 300 a 400 K (po směru hod. ručiček)."
   ]
  },
  {
   "cell_type": "code",
   "execution_count": 338,
   "metadata": {},
   "outputs": [],
   "source": [
    "xmax = 0.1\n",
    "ymax = 0.1\n",
    "k = 0.03\n",
    "Tl, Tr = 100., 300. # left right\n",
    "Tt, Tb = 200., 400. # top bottom\n",
    "Nx, Ny = 100, 100\n",
    "dx, dy = xmax/(Nx-1), ymax/(Ny-1)"
   ]
  },
  {
   "cell_type": "code",
   "execution_count": 324,
   "metadata": {},
   "outputs": [],
   "source": [
    "rho_jac_2D = (np.cos(np.pi/(Nx-2)) + (dx/dy)**2 * np.cos(np.pi/(Ny-2))) / (1 + (dx/dy)**2)\n",
    "rho_gs_2D = rho_jac_2D**2\n",
    "omega_theory_2D = 2/(1+np.sqrt(1 - rho_gs_2D))"
   ]
  },
  {
   "cell_type": "code",
   "execution_count": 325,
   "metadata": {},
   "outputs": [
    {
     "data": {
      "text/plain": [
       "1.9378876438577415"
      ]
     },
     "execution_count": 325,
     "metadata": {},
     "output_type": "execute_result"
    }
   ],
   "source": [
    "omega_theory_2D"
   ]
  },
  {
   "cell_type": "code",
   "execution_count": 347,
   "metadata": {},
   "outputs": [],
   "source": [
    "def solve_poisson_2D(xmax, ymax, Nx, Ny, omega, bc=[1, 1, 1, 1], maxiter=10**5, epsilon=1e-5):\n",
    "    U = np.zeros((Nx, Ny))\n",
    "    \n",
    "    # zapisme okr. podmiky na okraje pole\n",
    "    U[:,0] = bc[0]\n",
    "    U[0,:] = bc[1]\n",
    "    U[:,-1] = bc[2]\n",
    "    U[-1,:] = bc[3]\n",
    "    for it in range(maxiter):\n",
    "        err=0\n",
    "        for i in range(1, Ny-1):\n",
    "            for j in range(1, Nx-1):\n",
    "                res = 0.25*(U[i-1,j] + U[i+1,j] + U[i,j-1] + U[i,j+1]) - U[i,j]\n",
    "                U[i, j] += res*omega\n",
    "                err += res**2\n",
    "        if err < epsilon**2: break\n",
    "    return U, it"
   ]
  },
  {
   "cell_type": "code",
   "execution_count": 272,
   "metadata": {},
   "outputs": [],
   "source": [
    "def solve_poisson_2D_red_black(xmax, ymax, Nx, Ny, omega, bc=[1, 1, 1, 1], maxiter=10**5, epsilon=1e-5):\n",
    "    U = np.zeros((Nx, Ny))\n",
    "    \n",
    "    # assign boundary conditions on the edges\n",
    "    U[:,0] = bc[0]\n",
    "    U[0,:] = bc[1]\n",
    "    U[:,-1] = bc[2]\n",
    "    U[-1,:] = bc[3]\n",
    "    \n",
    "    # define checkerboard pattern within the working area\n",
    "    red = np.zeros((Nx, Ny), dtype=bool)\n",
    "    red[1:-1:2, 1:-1:2] = True\n",
    "    red[2:-1:2, 2:-1:2] = True\n",
    "    black = np.zeros((Nx, Ny), dtype=bool)\n",
    "    black[1:-1, 1:-1] = ~red[1:-1, 1:-1]\n",
    "    \n",
    "    # and get indices of red and black points\n",
    "    red = np.nonzero(red)\n",
    "    black = np.nonzero(black)\n",
    "    \n",
    "    res = np.zeros((Nx, Ny))\n",
    "    for it in range(maxiter):\n",
    "        for i, j in (red, black):\n",
    "            res[i,j] = 0.25*(U[i-1,j] + U[i+1,j] + U[i,j-1] + U[i,j+1]) - U[i,j]\n",
    "            U[i,j] += res[i,j]*omega\n",
    "        if np.sum(res**2) < epsilon**2: break\n",
    "    return U, it"
   ]
  },
  {
   "cell_type": "code",
   "execution_count": 339,
   "metadata": {},
   "outputs": [],
   "source": [
    "U, it = solve_poisson_2D_red_black(xmax, ymax, Nx, Ny, omega_theory_2D, bc=[Tl, Tt, Tr, Tb], maxiter=100000)"
   ]
  },
  {
   "cell_type": "code",
   "execution_count": 348,
   "metadata": {},
   "outputs": [
    {
     "name": "stdout",
     "output_type": "stream",
     "text": [
      "7.36 s ± 77.8 ms per loop (mean ± std. dev. of 7 runs, 1 loop each)\n",
      "156 ms ± 3.18 ms per loop (mean ± std. dev. of 7 runs, 10 loops each)\n"
     ]
    }
   ],
   "source": [
    "%timeit solve_poisson_2D(xmax, ymax, Nx, Ny, omega=omega_theory_2D, bc=[Tl, Tt, Tr, Tb])\n",
    "%timeit solve_poisson_2D_red_black(xmax, ymax, Nx, Ny, omega_theory_2D, bc=[Tl, Tt, Tr, Tb], maxiter=100000)"
   ]
  },
  {
   "cell_type": "code",
   "execution_count": 340,
   "metadata": {},
   "outputs": [
    {
     "data": {
      "text/plain": [
       "<matplotlib.colorbar.Colorbar at 0x7fa8d7504670>"
      ]
     },
     "execution_count": 340,
     "metadata": {},
     "output_type": "execute_result"
    },
    {
     "data": {
      "image/png": "[encoded data removed]",
      "text/plain": [
       "<Figure size 432x288 with 2 Axes>"
      ]
     },
     "metadata": {
      "needs_background": "light"
     },
     "output_type": "display_data"
    }
   ],
   "source": [
    "plt.pcolormesh(U)\n",
    "plt.colorbar()"
   ]
  },
  {
   "cell_type": "markdown",
   "metadata": {},
   "source": [
    "https://my.ece.utah.edu/~ece6340/LECTURES/Feb1/Nagel%202012%20-%20Solving%20the%20Generalized%20Poisson%20Equation%20using%20FDM.pdf"
   ]
  },
  {
   "cell_type": "code",
   "execution_count": null,
   "metadata": {},
   "outputs": [],
   "source": []
  }
 ],
 "metadata": {
  "kernelspec": {
   "display_name": "Python 3",
   "language": "python",
   "name": "python3"
  },
  "language_info": {
   "codemirror_mode": {
    "name": "ipython",
    "version": 3
   },
   "file_extension": ".py",
   "mimetype": "text/x-python",
   "name": "python",
   "nbconvert_exporter": "python",
   "pygments_lexer": "ipython3",
   "version": "3.8.10"
  }
 },
 "nbformat": 4,
 "nbformat_minor": 4
}
