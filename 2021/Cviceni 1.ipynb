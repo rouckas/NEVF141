{
 "cells": [
  {
   "cell_type": "markdown",
   "metadata": {},
   "source": [
    "## Úvodní cvičení\n",
    "\n",
    "- Probrat používané jazyky - dle volby studentů\n",
    "- Vlastní notebooky?\n",
    "- Pro Pythonisty: ve Windows doporučuji Anacondu, v Linuxu lze používat také, jinak distribuční balíčky\n",
    "- C/C++/Fortran: textový editor + command line, nebo nějaké IDE, např Code::Blocks, VSCode...\n",
    "- Další možnosti: Matlab/Octave, Julia... cokoliv\n",
    "- Pro Python navíc notebooky (Jupyter)\n",
    "- Debugging/profiling - dle zájmu\n",
    "\n",
    "## Podmínky zápočtu\n",
    "\n",
    "Vypracování 2 zápočtových programů"
   ]
  },
  {
   "cell_type": "markdown",
   "metadata": {},
   "source": [
    "### Předpokládané znalosti\n",
    "spuštění programu, základní znalosti syntaxe, cykly, podmínky, vstup a výstup, textový a grafický => miniúloha za domácí úkol:\n"
   ]
  },
  {
   "cell_type": "markdown",
   "metadata": {},
   "source": [
    "#### Zápis do souboru\n",
    "Vyhodnoťte funkci sin(x) ve 100 bodech na intervalu [0, 10] a uložte hodnoty x a sin(x) do souboru (např csv)."
   ]
  },
  {
   "cell_type": "markdown",
   "metadata": {},
   "source": [
    "#### Čtení ze souboru do pole\n",
    "\n",
    "Načtěte data uložená v předchozí úloze a vykreslete funkci graficky na obrazovce\n"
   ]
  },
  {
   "cell_type": "markdown",
   "metadata": {},
   "source": [
    "### Řešení:"
   ]
  },
  {
   "cell_type": "markdown",
   "metadata": {},
   "source": [
    "#### Zápis do souboru\n",
    "Vyhodnoťte funkci sin(x) ve 100 bodech na intervalu [0, 10] a uložte hodnoty x a sin(x) do souboru (např csv)."
   ]
  },
  {
   "cell_type": "markdown",
   "metadata": {},
   "source": [
    "a) čistý Python"
   ]
  },
  {
   "cell_type": "code",
   "execution_count": 1,
   "metadata": {
    "ExecuteTime": {
     "end_time": "2021-10-26T08:13:43.715398Z",
     "start_time": "2021-10-26T08:13:43.712833Z"
    }
   },
   "outputs": [],
   "source": [
    "xmin = 0\n",
    "xmax = 10\n",
    "N = 100"
   ]
  },
  {
   "cell_type": "code",
   "execution_count": 2,
   "metadata": {
    "ExecuteTime": {
     "end_time": "2021-10-26T08:13:43.938984Z",
     "start_time": "2021-10-26T08:13:43.935682Z"
    }
   },
   "outputs": [],
   "source": [
    "import math\n",
    "\n",
    "f = open(\"data.txt\", \"w\")\n",
    "for i in range(0, N):\n",
    "    x = xmin + i*(xmax-xmin)/(N-1)\n",
    "    y = math.sin(x)\n",
    "    f.write(\"%f %f\\n\"%(x,y))\n",
    "f.close()"
   ]
  },
  {
   "cell_type": "markdown",
   "metadata": {},
   "source": [
    "Alternativní způsob práce se souborem"
   ]
  },
  {
   "cell_type": "code",
   "execution_count": 3,
   "metadata": {
    "ExecuteTime": {
     "end_time": "2021-10-26T08:13:44.374619Z",
     "start_time": "2021-10-26T08:13:44.371188Z"
    }
   },
   "outputs": [],
   "source": [
    "import math\n",
    "\n",
    "with open(\"data.csv\", \"w\") as f:\n",
    "    for i in range(0, 100):\n",
    "        x = xmin + i*(xmax-xmin)/(N-1)\n",
    "        y = math.sin(x)\n",
    "        f.write(f\"{x:f} {y:f}\\n\")"
   ]
  },
  {
   "cell_type": "markdown",
   "metadata": {},
   "source": [
    "b) s využitím numpy je to o poznání jednodušší"
   ]
  },
  {
   "cell_type": "code",
   "execution_count": 4,
   "metadata": {
    "ExecuteTime": {
     "end_time": "2021-10-26T08:13:45.102756Z",
     "start_time": "2021-10-26T08:13:44.959783Z"
    }
   },
   "outputs": [],
   "source": [
    "import numpy as np\n",
    "\n",
    "x = np.linspace(0, 10, 100)\n",
    "y = np.sin(x)\n",
    "np.savetxt(\"data.txt\", np.vstack((x, y)).T)"
   ]
  },
  {
   "cell_type": "markdown",
   "metadata": {},
   "source": [
    "#### Čtení ze souboru do pole"
   ]
  },
  {
   "cell_type": "markdown",
   "metadata": {},
   "source": [
    "Načtěte data uložená v předchozí úloze a vykreslete funkci graficky na obrazovce"
   ]
  },
  {
   "cell_type": "markdown",
   "metadata": {},
   "source": [
    "a) čistý Python"
   ]
  },
  {
   "cell_type": "code",
   "execution_count": 5,
   "metadata": {
    "ExecuteTime": {
     "end_time": "2021-10-26T08:13:45.834597Z",
     "start_time": "2021-10-26T08:13:45.831991Z"
    }
   },
   "outputs": [],
   "source": [
    "data = []\n",
    "\n",
    "f = open(\"data.csv\")\n",
    "for line in f:\n",
    "    data.append(list(map(float, line.strip().split(\" \"))))"
   ]
  },
  {
   "cell_type": "markdown",
   "metadata": {},
   "source": [
    "b) s využitím numpy"
   ]
  },
  {
   "cell_type": "code",
   "execution_count": 6,
   "metadata": {
    "ExecuteTime": {
     "end_time": "2021-10-26T08:13:46.324574Z",
     "start_time": "2021-10-26T08:13:46.320138Z"
    }
   },
   "outputs": [],
   "source": [
    "data = np.loadtxt(\"data.csv\")"
   ]
  },
  {
   "cell_type": "markdown",
   "metadata": {},
   "source": [
    "Vykresleni"
   ]
  },
  {
   "cell_type": "code",
   "execution_count": 7,
   "metadata": {
    "ExecuteTime": {
     "end_time": "2021-10-26T08:13:47.037418Z",
     "start_time": "2021-10-26T08:13:46.765899Z"
    }
   },
   "outputs": [
    {
     "data": {
      "text/plain": [
       "[<matplotlib.lines.Line2D at 0x7fe45b8dd520>]"
      ]
     },
     "execution_count": 7,
     "metadata": {},
     "output_type": "execute_result"
    },
    {
     "data": {
      "image/png": "[encoded data removed]",
      "text/plain": [
       "<Figure size 432x288 with 1 Axes>"
      ]
     },
     "metadata": {
      "needs_background": "light"
     },
     "output_type": "display_data"
    }
   ],
   "source": [
    "import matplotlib.pyplot as plt\n",
    "plt.plot(data[:,0], data[:,1])"
   ]
  },
  {
   "cell_type": "markdown",
   "metadata": {},
   "source": [
    "### Floating point aritmetika"
   ]
  },
  {
   "cell_type": "code",
   "execution_count": 8,
   "metadata": {
    "ExecuteTime": {
     "end_time": "2021-10-26T08:13:47.267576Z",
     "start_time": "2021-10-26T08:13:47.264472Z"
    }
   },
   "outputs": [
    {
     "data": {
      "text/plain": [
       "15.954589770191003"
      ]
     },
     "execution_count": 8,
     "metadata": {},
     "output_type": "execute_result"
    }
   ],
   "source": [
    "np.log10(2**53)"
   ]
  },
  {
   "cell_type": "markdown",
   "metadata": {},
   "source": [
    "Reprezentace des. čísel ve dvojkové soustavě: vytiskněte číslo 0.1 na 19 desetinných míst"
   ]
  },
  {
   "cell_type": "code",
   "execution_count": 9,
   "metadata": {
    "ExecuteTime": {
     "end_time": "2021-10-26T08:13:48.179992Z",
     "start_time": "2021-10-26T08:13:48.177041Z"
    }
   },
   "outputs": [
    {
     "data": {
      "text/plain": [
       "'0.1000000000000000056'"
      ]
     },
     "execution_count": 9,
     "metadata": {},
     "output_type": "execute_result"
    }
   ],
   "source": [
    "\"%.19f\"%0.1"
   ]
  },
  {
   "cell_type": "markdown",
   "metadata": {},
   "source": [
    "Sčítání a odčítání.\n",
    "\n",
    "Vypočtěte $1+10^{-15}$ a $1+10^{-16}$"
   ]
  },
  {
   "cell_type": "code",
   "execution_count": 10,
   "metadata": {
    "ExecuteTime": {
     "end_time": "2021-10-26T08:13:48.706343Z",
     "start_time": "2021-10-26T08:13:48.702924Z"
    }
   },
   "outputs": [
    {
     "data": {
      "text/plain": [
       "1.000000000000001"
      ]
     },
     "execution_count": 10,
     "metadata": {},
     "output_type": "execute_result"
    }
   ],
   "source": [
    "1+1e-15"
   ]
  },
  {
   "cell_type": "code",
   "execution_count": 11,
   "metadata": {
    "ExecuteTime": {
     "end_time": "2021-10-26T08:13:48.944769Z",
     "start_time": "2021-10-26T08:13:48.941739Z"
    }
   },
   "outputs": [
    {
     "data": {
      "text/plain": [
       "1.0"
      ]
     },
     "execution_count": 11,
     "metadata": {},
     "output_type": "execute_result"
    }
   ],
   "source": [
    "1+1e-16"
   ]
  },
  {
   "cell_type": "markdown",
   "metadata": {},
   "source": [
    "Kolik desítkových platných míst má float64 s 53-bitovou mantisou?"
   ]
  },
  {
   "cell_type": "code",
   "execution_count": 12,
   "metadata": {
    "ExecuteTime": {
     "end_time": "2021-10-26T08:13:49.423210Z",
     "start_time": "2021-10-26T08:13:49.418535Z"
    }
   },
   "outputs": [
    {
     "data": {
      "text/plain": [
       "15.954589770191003"
      ]
     },
     "execution_count": 12,
     "metadata": {},
     "output_type": "execute_result"
    }
   ],
   "source": [
    "np.log10(2**53)"
   ]
  },
  {
   "cell_type": "markdown",
   "metadata": {},
   "source": [
    "Výpočty tedy probíhají přibližně s přesností na 16 platných míst. Relativní zaokrouhlovací chyba roste, pokud například počítáme rozdíl dvou podobně velkých čísel:"
   ]
  },
  {
   "cell_type": "markdown",
   "metadata": {},
   "source": [
    "Vypočtěte $1.001-1$"
   ]
  },
  {
   "cell_type": "code",
   "execution_count": 13,
   "metadata": {
    "ExecuteTime": {
     "end_time": "2021-10-26T08:13:50.063775Z",
     "start_time": "2021-10-26T08:13:50.060585Z"
    }
   },
   "outputs": [
    {
     "data": {
      "text/plain": [
       "0.0009999999999998899"
      ]
     },
     "execution_count": 13,
     "metadata": {},
     "output_type": "execute_result"
    }
   ],
   "source": [
    "1.001-1"
   ]
  },
  {
   "cell_type": "markdown",
   "metadata": {},
   "source": [
    "Z důvodu zaokrouhlovací chyby také záleží na pořadí aritmetických operací (jsou vyhodnocovány zleva doprava):\n",
    "\n",
    "Vypočtěte $10^{-15}+1-1$ a $1-1+10^{-15}$"
   ]
  },
  {
   "cell_type": "code",
   "execution_count": 14,
   "metadata": {
    "ExecuteTime": {
     "end_time": "2021-10-26T08:13:50.637694Z",
     "start_time": "2021-10-26T08:13:50.634878Z"
    }
   },
   "outputs": [
    {
     "data": {
      "text/plain": [
       "1e-15"
      ]
     },
     "execution_count": 14,
     "metadata": {},
     "output_type": "execute_result"
    }
   ],
   "source": [
    "1-1+1e-15"
   ]
  },
  {
   "cell_type": "code",
   "execution_count": 15,
   "metadata": {
    "ExecuteTime": {
     "end_time": "2021-10-26T08:13:50.881251Z",
     "start_time": "2021-10-26T08:13:50.877174Z"
    }
   },
   "outputs": [
    {
     "data": {
      "text/plain": [
       "1.1102230246251565e-15"
      ]
     },
     "execution_count": 15,
     "metadata": {},
     "output_type": "execute_result"
    }
   ],
   "source": [
    "1e-15+1-1"
   ]
  },
  {
   "cell_type": "markdown",
   "metadata": {},
   "source": [
    "Nevhodně navržený algoritmus může vést k \"zesilování\" chyby. Algoritmus potom je tzv. numericky nestabilní. Viz následující příklad:\n",
    "\n",
    "Spočítejte členy následující posloupnosti pro $j=1\\ldots10$:\n",
    "\n",
    "$$x_0 = 1$$\n",
    "$$x_j = (1.01 - x_{j-1})\\cdot 100$$\n",
    "\n",
    "a porovnejte s hodnotami vypočtenými \"na papíře\""
   ]
  },
  {
   "cell_type": "code",
   "execution_count": 16,
   "metadata": {
    "ExecuteTime": {
     "end_time": "2021-10-26T08:13:51.393580Z",
     "start_time": "2021-10-26T08:13:51.389932Z"
    }
   },
   "outputs": [
    {
     "name": "stdout",
     "output_type": "stream",
     "text": [
      "1 1.0000000000000009\n",
      "2 0.9999999999999121\n",
      "3 1.0000000000087939\n",
      "4 0.9999999991206154\n",
      "5 1.0000000879384574\n",
      "6 0.9999912061542604\n",
      "7 1.0008793845739605\n",
      "8 0.912061542603948\n",
      "9 9.7938457396052\n",
      "10 -878.38457396052\n"
     ]
    }
   ],
   "source": [
    "x = 1\n",
    "# ukol 1\n",
    "for j in range(1, 11):\n",
    "    x = (1.01-x)*100\n",
    "    print(j, x)"
   ]
  },
  {
   "cell_type": "markdown",
   "metadata": {},
   "source": [
    "#### Sčítání číselných řad"
   ]
  },
  {
   "cell_type": "markdown",
   "metadata": {},
   "source": [
    "Spočítejte\n",
    "\n",
    "$$y = \\sum_{i=0}^{1000} \\frac{1}{10^{-6} + i}$$\n",
    "\n",
    " - \"popořadě\"\n",
    " - v obráceném pořadí, tedy od nejmenších členů\n",
    " - s využitím knihovních funkce `sum` a `math.fsum`\n",
    "\n",
    "a porovnejte výsledky"
   ]
  },
  {
   "cell_type": "code",
   "execution_count": 17,
   "metadata": {
    "ExecuteTime": {
     "end_time": "2021-10-26T08:13:52.447824Z",
     "start_time": "2021-10-26T08:13:52.444781Z"
    }
   },
   "outputs": [
    {
     "data": {
      "text/plain": [
       "[0, 1, 2, 3, 4, 5, 6, 7, 8, 9, 10]"
      ]
     },
     "execution_count": 17,
     "metadata": {},
     "output_type": "execute_result"
    }
   ],
   "source": [
    "list(range(11))"
   ]
  },
  {
   "cell_type": "code",
   "execution_count": 18,
   "metadata": {
    "ExecuteTime": {
     "end_time": "2021-10-26T08:13:52.849313Z",
     "start_time": "2021-10-26T08:13:52.768726Z"
    }
   },
   "outputs": [],
   "source": [
    "import numpy as np\n",
    "x = np.arange(1001)\n",
    "y = 1/(1e-6 + x)"
   ]
  },
  {
   "cell_type": "markdown",
   "metadata": {},
   "source": [
    "popořadě:"
   ]
  },
  {
   "cell_type": "code",
   "execution_count": 19,
   "metadata": {
    "ExecuteTime": {
     "end_time": "2021-10-26T08:13:53.423622Z",
     "start_time": "2021-10-26T08:13:53.417829Z"
    }
   },
   "outputs": [
    {
     "data": {
      "text/plain": [
       "1000007.4854692194"
      ]
     },
     "execution_count": 19,
     "metadata": {},
     "output_type": "execute_result"
    }
   ],
   "source": [
    "s = 0\n",
    "for i in y: s += i\n",
    "s"
   ]
  },
  {
   "cell_type": "markdown",
   "metadata": {},
   "source": [
    "pozpátku:"
   ]
  },
  {
   "cell_type": "code",
   "execution_count": 20,
   "metadata": {
    "ExecuteTime": {
     "end_time": "2021-10-26T08:13:53.971186Z",
     "start_time": "2021-10-26T08:13:53.966860Z"
    }
   },
   "outputs": [
    {
     "data": {
      "text/plain": [
       "1000007.4854692166"
      ]
     },
     "execution_count": 20,
     "metadata": {},
     "output_type": "execute_result"
    }
   ],
   "source": [
    "s = 0\n",
    "for i in y[::-1]: s += i\n",
    "s"
   ]
  },
  {
   "cell_type": "markdown",
   "metadata": {},
   "source": [
    "Vestavěná obecná funkce sum pracuje popořadě. Umí sčítat jakýkoliv objekt s definovanou operací sčítání:"
   ]
  },
  {
   "cell_type": "code",
   "execution_count": 21,
   "metadata": {
    "ExecuteTime": {
     "end_time": "2021-10-26T08:13:54.465321Z",
     "start_time": "2021-10-26T08:13:54.460298Z"
    }
   },
   "outputs": [
    {
     "data": {
      "text/plain": [
       "1000007.4854692194"
      ]
     },
     "execution_count": 21,
     "metadata": {},
     "output_type": "execute_result"
    }
   ],
   "source": [
    "sum(y)"
   ]
  },
  {
   "cell_type": "markdown",
   "metadata": {},
   "source": [
    "Funkce `math.fsum` je optimální pro přesnost výpočtu. V tomto případě se shoduje se součtem od nejmenších členů:"
   ]
  },
  {
   "cell_type": "code",
   "execution_count": 22,
   "metadata": {
    "ExecuteTime": {
     "end_time": "2021-10-26T08:13:55.044826Z",
     "start_time": "2021-10-26T08:13:55.040786Z"
    }
   },
   "outputs": [
    {
     "data": {
      "text/plain": [
       "1000007.4854692166"
      ]
     },
     "execution_count": 22,
     "metadata": {},
     "output_type": "execute_result"
    }
   ],
   "source": [
    "import math\n",
    "math.fsum(y)"
   ]
  },
  {
   "cell_type": "markdown",
   "metadata": {},
   "source": [
    "Funkce `np.sum` je optimalizovaná pro rychlost výpočtu, relativně přesná:"
   ]
  },
  {
   "cell_type": "code",
   "execution_count": 23,
   "metadata": {
    "ExecuteTime": {
     "end_time": "2021-10-26T08:13:55.683569Z",
     "start_time": "2021-10-26T08:13:55.680680Z"
    }
   },
   "outputs": [
    {
     "data": {
      "text/plain": [
       "1000007.4854692165"
      ]
     },
     "execution_count": 23,
     "metadata": {},
     "output_type": "execute_result"
    }
   ],
   "source": [
    "np.sum(y)"
   ]
  },
  {
   "cell_type": "markdown",
   "metadata": {},
   "source": [
    "Poznámka: exaktní výsledek můžeme snadno ověřit symbolickým výpočtem v knihovně sympy, která umožňuje numerické vyhodnocení sumy s libovolnou přesností. Nejdříve symbolicky definujeme náš výraz:"
   ]
  },
  {
   "cell_type": "code",
   "execution_count": 24,
   "metadata": {
    "ExecuteTime": {
     "end_time": "2021-10-26T08:13:56.964173Z",
     "start_time": "2021-10-26T08:13:56.558548Z"
    }
   },
   "outputs": [
    {
     "data": {
      "text/latex": [
       "$\\displaystyle \\sum_{si=0}^{1000} \\frac{1}{si + \\frac{1}{1000000}}$"
      ],
      "text/plain": [
       "Sum(1/(si + 1/1000000), (si, 0, 1000))"
      ]
     },
     "execution_count": 24,
     "metadata": {},
     "output_type": "execute_result"
    }
   ],
   "source": [
    "import sympy as sp\n",
    "si = sp.Symbol(\"si\")\n",
    "series = sp.Sum(1/(sp.S(10)**(-6) + si), (si, 0, 1000))\n",
    "series"
   ]
  },
  {
   "cell_type": "markdown",
   "metadata": {},
   "source": [
    "a vyhodnotíme s přesností na 30 platných míst. Vidíme, že v tomto případě je sumace \"od nejmenších členů\" dostatečně přesná."
   ]
  },
  {
   "cell_type": "code",
   "execution_count": 25,
   "metadata": {
    "ExecuteTime": {
     "end_time": "2021-10-26T08:13:57.710553Z",
     "start_time": "2021-10-26T08:13:57.564883Z"
    }
   },
   "outputs": [
    {
     "data": {
      "text/latex": [
       "$\\displaystyle 1000007.48546921661698028641805$"
      ],
      "text/plain": [
       "1000007.48546921661698028641805"
      ]
     },
     "execution_count": 25,
     "metadata": {},
     "output_type": "execute_result"
    }
   ],
   "source": [
    "series.evalf(30)"
   ]
  },
  {
   "cell_type": "markdown",
   "metadata": {},
   "source": [
    "### Porovnávání čísel"
   ]
  },
  {
   "cell_type": "markdown",
   "metadata": {},
   "source": [
    "Zjistěte, jestli se rovnají čísla:\n",
    "\n",
    "$1+ 10^{-16}$ a $1$;\n",
    "\n",
    "$(1.01-1)\\cdot100$ a $1$"
   ]
  },
  {
   "cell_type": "code",
   "execution_count": 26,
   "metadata": {
    "ExecuteTime": {
     "end_time": "2021-10-26T08:13:58.546348Z",
     "start_time": "2021-10-26T08:13:58.542790Z"
    }
   },
   "outputs": [
    {
     "data": {
      "text/plain": [
       "True"
      ]
     },
     "execution_count": 26,
     "metadata": {},
     "output_type": "execute_result"
    }
   ],
   "source": [
    "1+1e-16 == 1"
   ]
  },
  {
   "cell_type": "code",
   "execution_count": 27,
   "metadata": {
    "ExecuteTime": {
     "end_time": "2021-10-26T08:13:58.847591Z",
     "start_time": "2021-10-26T08:13:58.844378Z"
    }
   },
   "outputs": [
    {
     "data": {
      "text/plain": [
       "False"
      ]
     },
     "execution_count": 27,
     "metadata": {},
     "output_type": "execute_result"
    }
   ],
   "source": [
    "1 == (1.01 - 1)*100"
   ]
  },
  {
   "cell_type": "markdown",
   "metadata": {},
   "source": [
    "Vidíme, že z důvodu zaokrouhlovací chyby se mohou shodná čísla jevit jako různá a naopak. Je nutné toto mít na paměti a v případě potřeby použít porovnávání s tolerancí (absolutní a relativní, viz např funkce `np.isclose` a její dokumentace)"
   ]
  },
  {
   "cell_type": "code",
   "execution_count": 28,
   "metadata": {
    "ExecuteTime": {
     "end_time": "2021-10-26T08:14:00.045051Z",
     "start_time": "2021-10-26T08:14:00.042776Z"
    }
   },
   "outputs": [],
   "source": [
    "def isclose(a, b, rel_tol=1e-9, abs_tol=0.0):\n",
    "    return abs(a-b) <= max(rel_tol * max(abs(a), abs(b)), abs_tol)"
   ]
  },
  {
   "cell_type": "code",
   "execution_count": 29,
   "metadata": {
    "ExecuteTime": {
     "end_time": "2021-10-26T08:14:00.513427Z",
     "start_time": "2021-10-26T08:14:00.510459Z"
    }
   },
   "outputs": [
    {
     "data": {
      "text/plain": [
       "True"
      ]
     },
     "execution_count": 29,
     "metadata": {},
     "output_type": "execute_result"
    }
   ],
   "source": [
    "isclose(1, (1.01 - 1)*100)"
   ]
  },
  {
   "cell_type": "markdown",
   "metadata": {},
   "source": [
    "Vhodnější je ale použití knihovních funkcí `np.isclose` nebo `math.isclose`, které zaručují korektní chování s nekonečny a NaN..."
   ]
  },
  {
   "cell_type": "code",
   "execution_count": 30,
   "metadata": {
    "ExecuteTime": {
     "end_time": "2021-10-26T08:14:01.123247Z",
     "start_time": "2021-10-26T08:14:01.119940Z"
    }
   },
   "outputs": [
    {
     "data": {
      "text/plain": [
       "True"
      ]
     },
     "execution_count": 30,
     "metadata": {},
     "output_type": "execute_result"
    }
   ],
   "source": [
    "np.isclose(1, (1.01 - 1)*100)"
   ]
  },
  {
   "cell_type": "markdown",
   "metadata": {},
   "source": [
    "#### \"Speciální\" čísla: nula, nekonečno NaN"
   ]
  },
  {
   "cell_type": "markdown",
   "metadata": {},
   "source": [
    "Poznámka bokem k typům v Pythonu: Python je dynamicky typovaný, takže jméno proměnné není nijak spjato s datovým typem, jako třeba v C/C++. Typ proměnné nebo výrazu můžeme zjistit příkazem `type`"
   ]
  },
  {
   "cell_type": "code",
   "execution_count": 31,
   "metadata": {
    "ExecuteTime": {
     "end_time": "2021-10-26T08:14:02.000674Z",
     "start_time": "2021-10-26T08:14:01.997423Z"
    }
   },
   "outputs": [
    {
     "data": {
      "text/plain": [
       "int"
      ]
     },
     "execution_count": 31,
     "metadata": {},
     "output_type": "execute_result"
    }
   ],
   "source": [
    "x = 0\n",
    "type(x)"
   ]
  },
  {
   "cell_type": "code",
   "execution_count": 32,
   "metadata": {
    "ExecuteTime": {
     "end_time": "2021-10-26T08:14:02.258493Z",
     "start_time": "2021-10-26T08:14:02.255528Z"
    }
   },
   "outputs": [
    {
     "data": {
      "text/plain": [
       "float"
      ]
     },
     "execution_count": 32,
     "metadata": {},
     "output_type": "execute_result"
    }
   ],
   "source": [
    "x = 0.0\n",
    "type(x)"
   ]
  },
  {
   "cell_type": "markdown",
   "metadata": {},
   "source": [
    "A ještě jedna trochu záludná poznámka k typům čísel v Pythonu: spočtěte `1/0` a `1/np.sin(0)`. Proč se výsledky liší?"
   ]
  },
  {
   "cell_type": "code",
   "execution_count": 33,
   "metadata": {
    "ExecuteTime": {
     "end_time": "2021-10-26T08:14:02.892968Z",
     "start_time": "2021-10-26T08:14:02.830413Z"
    }
   },
   "outputs": [
    {
     "ename": "ZeroDivisionError",
     "evalue": "division by zero",
     "output_type": "error",
     "traceback": [
      "\u001b[0;31m---------------------------------------------------------------------------\u001b[0m",
      "\u001b[0;31mZeroDivisionError\u001b[0m                         Traceback (most recent call last)",
      "\u001b[0;32m<ipython-input-33-9e1622b385b6>\u001b[0m in \u001b[0;36m<module>\u001b[0;34m\u001b[0m\n\u001b[0;32m----> 1\u001b[0;31m \u001b[0;36m1\u001b[0m\u001b[0;34m/\u001b[0m\u001b[0;36m0\u001b[0m\u001b[0;34m\u001b[0m\u001b[0;34m\u001b[0m\u001b[0m\n\u001b[0m",
      "\u001b[0;31mZeroDivisionError\u001b[0m: division by zero"
     ]
    }
   ],
   "source": [
    "1/0"
   ]
  },
  {
   "cell_type": "code",
   "execution_count": 34,
   "metadata": {
    "ExecuteTime": {
     "end_time": "2021-10-26T08:14:03.271283Z",
     "start_time": "2021-10-26T08:14:03.264930Z"
    }
   },
   "outputs": [
    {
     "ename": "ZeroDivisionError",
     "evalue": "float division by zero",
     "output_type": "error",
     "traceback": [
      "\u001b[0;31m---------------------------------------------------------------------------\u001b[0m",
      "\u001b[0;31mZeroDivisionError\u001b[0m                         Traceback (most recent call last)",
      "\u001b[0;32m<ipython-input-34-be21d1bc0296>\u001b[0m in \u001b[0;36m<module>\u001b[0;34m\u001b[0m\n\u001b[0;32m----> 1\u001b[0;31m \u001b[0;36m1\u001b[0m\u001b[0;34m/\u001b[0m\u001b[0;36m0.0\u001b[0m\u001b[0;34m\u001b[0m\u001b[0;34m\u001b[0m\u001b[0m\n\u001b[0m",
      "\u001b[0;31mZeroDivisionError\u001b[0m: float division by zero"
     ]
    }
   ],
   "source": [
    "1/0.0"
   ]
  },
  {
   "cell_type": "code",
   "execution_count": 35,
   "metadata": {
    "ExecuteTime": {
     "end_time": "2021-10-26T08:14:03.539863Z",
     "start_time": "2021-10-26T08:14:03.536289Z"
    }
   },
   "outputs": [
    {
     "name": "stderr",
     "output_type": "stream",
     "text": [
      "<ipython-input-35-21b4b538a0f5>:1: RuntimeWarning: divide by zero encountered in double_scalars\n",
      "  1/np.sin(0)\n"
     ]
    },
    {
     "data": {
      "text/plain": [
       "inf"
      ]
     },
     "execution_count": 35,
     "metadata": {},
     "output_type": "execute_result"
    }
   ],
   "source": [
    "1/np.sin(0)"
   ]
  },
  {
   "cell_type": "markdown",
   "metadata": {},
   "source": [
    "Je to typem čísel, zkuste type(0), type(0.0) a type(np.sin(0)"
   ]
  },
  {
   "cell_type": "code",
   "execution_count": 36,
   "metadata": {
    "ExecuteTime": {
     "end_time": "2021-10-26T08:14:04.176962Z",
     "start_time": "2021-10-26T08:14:04.172449Z"
    }
   },
   "outputs": [
    {
     "data": {
      "text/plain": [
       "int"
      ]
     },
     "execution_count": 36,
     "metadata": {},
     "output_type": "execute_result"
    }
   ],
   "source": [
    "type(0)"
   ]
  },
  {
   "cell_type": "code",
   "execution_count": 37,
   "metadata": {
    "ExecuteTime": {
     "end_time": "2021-10-26T08:14:04.479267Z",
     "start_time": "2021-10-26T08:14:04.476258Z"
    }
   },
   "outputs": [
    {
     "data": {
      "text/plain": [
       "float"
      ]
     },
     "execution_count": 37,
     "metadata": {},
     "output_type": "execute_result"
    }
   ],
   "source": [
    "type(0.0)"
   ]
  },
  {
   "cell_type": "code",
   "execution_count": 38,
   "metadata": {
    "ExecuteTime": {
     "end_time": "2021-10-26T08:14:04.815407Z",
     "start_time": "2021-10-26T08:14:04.812608Z"
    }
   },
   "outputs": [
    {
     "data": {
      "text/plain": [
       "numpy.float64"
      ]
     },
     "execution_count": 38,
     "metadata": {},
     "output_type": "execute_result"
    }
   ],
   "source": [
    "type(np.sin(0))"
   ]
  },
  {
   "cell_type": "markdown",
   "metadata": {},
   "source": [
    "Problém je v různých typech float čísel. Numpy float umožňuje dělení nulou. Pouze generuje varování a korektně vrací hodnotu inf. Toto chování numpy lze nastavit."
   ]
  },
  {
   "cell_type": "markdown",
   "metadata": {},
   "source": [
    "64-bitový nulový numpy float můžete vytvořit příkazem `np.float64(0)` a tento datový typ dokáže reprezentovat i speciální hodnoty NaN (not a number, nedefinovaný výraz), +inf, -inf (nekonečna), +0, -0 (nula se znaménkem)"
   ]
  },
  {
   "cell_type": "code",
   "execution_count": 39,
   "metadata": {
    "ExecuteTime": {
     "end_time": "2021-10-26T08:14:05.775663Z",
     "start_time": "2021-10-26T08:14:05.772444Z"
    }
   },
   "outputs": [
    {
     "data": {
      "text/plain": [
       "(-0.0, nan, -inf, inf)"
      ]
     },
     "execution_count": 39,
     "metadata": {},
     "output_type": "execute_result"
    }
   ],
   "source": [
    "-np.float64(0), np.nan, -np.inf, np.inf"
   ]
  },
  {
   "cell_type": "markdown",
   "metadata": {},
   "source": [
    "Ukázka některých výpočtů s NaN a inf hodnotami:"
   ]
  },
  {
   "cell_type": "code",
   "execution_count": 40,
   "metadata": {
    "ExecuteTime": {
     "end_time": "2021-10-26T08:14:06.780143Z",
     "start_time": "2021-10-26T08:14:06.775994Z"
    }
   },
   "outputs": [
    {
     "name": "stderr",
     "output_type": "stream",
     "text": [
      "<ipython-input-40-18dbe72427c2>:1: RuntimeWarning: divide by zero encountered in double_scalars\n",
      "  1/np.float64(0), -1/np.float64(0)\n"
     ]
    },
    {
     "data": {
      "text/plain": [
       "(inf, -inf)"
      ]
     },
     "execution_count": 40,
     "metadata": {},
     "output_type": "execute_result"
    }
   ],
   "source": [
    "1/np.float64(0), -1/np.float64(0)"
   ]
  },
  {
   "cell_type": "code",
   "execution_count": 41,
   "metadata": {
    "ExecuteTime": {
     "end_time": "2021-10-26T08:14:07.343599Z",
     "start_time": "2021-10-26T08:14:07.339874Z"
    }
   },
   "outputs": [
    {
     "name": "stderr",
     "output_type": "stream",
     "text": [
      "<ipython-input-41-f117ac9e30c2>:1: RuntimeWarning: invalid value encountered in double_scalars\n",
      "  0/np.float64(0)\n"
     ]
    },
    {
     "data": {
      "text/plain": [
       "nan"
      ]
     },
     "execution_count": 41,
     "metadata": {},
     "output_type": "execute_result"
    }
   ],
   "source": [
    "0/np.float64(0)"
   ]
  },
  {
   "cell_type": "markdown",
   "metadata": {},
   "source": [
    "NaN dle definice není větší, menší, ani rovno žádnému číslu:"
   ]
  },
  {
   "cell_type": "code",
   "execution_count": 42,
   "metadata": {
    "ExecuteTime": {
     "end_time": "2021-10-26T08:14:08.161384Z",
     "start_time": "2021-10-26T08:14:08.157618Z"
    }
   },
   "outputs": [
    {
     "data": {
      "text/plain": [
       "(False, False, False)"
      ]
     },
     "execution_count": 42,
     "metadata": {},
     "output_type": "execute_result"
    }
   ],
   "source": [
    "np.nan > 3, np.nan <= 3, np.nan == np.nan"
   ]
  },
  {
   "cell_type": "code",
   "execution_count": 43,
   "metadata": {
    "ExecuteTime": {
     "end_time": "2021-10-26T08:14:08.532134Z",
     "start_time": "2021-10-26T08:14:08.529084Z"
    }
   },
   "outputs": [
    {
     "data": {
      "text/plain": [
       "True"
      ]
     },
     "execution_count": 43,
     "metadata": {},
     "output_type": "execute_result"
    }
   ],
   "source": [
    "np.inf == np.inf"
   ]
  },
  {
   "cell_type": "code",
   "execution_count": 44,
   "metadata": {
    "ExecuteTime": {
     "end_time": "2021-10-26T08:14:08.884592Z",
     "start_time": "2021-10-26T08:14:08.881315Z"
    }
   },
   "outputs": [
    {
     "data": {
      "text/plain": [
       "True"
      ]
     },
     "execution_count": 44,
     "metadata": {},
     "output_type": "execute_result"
    }
   ],
   "source": [
    "-np.float64(0) == np.float64(0)"
   ]
  },
  {
   "cell_type": "code",
   "execution_count": 45,
   "metadata": {
    "ExecuteTime": {
     "end_time": "2021-10-26T08:14:09.158200Z",
     "start_time": "2021-10-26T08:14:09.154958Z"
    }
   },
   "outputs": [
    {
     "data": {
      "text/plain": [
       "0.5"
      ]
     },
     "execution_count": 45,
     "metadata": {},
     "output_type": "execute_result"
    }
   ],
   "source": [
    "np.arctan(np.inf)/np.pi"
   ]
  }
 ],
 "metadata": {
  "kernelspec": {
   "display_name": "Python 3",
   "language": "python",
   "name": "python3"
  },
  "language_info": {
   "codemirror_mode": {
    "name": "ipython",
    "version": 3
   },
   "file_extension": ".py",
   "mimetype": "text/x-python",
   "name": "python",
   "nbconvert_exporter": "python",
   "pygments_lexer": "ipython3",
   "version": "3.8.10"
  }
 },
 "nbformat": 4,
 "nbformat_minor": 4
}
