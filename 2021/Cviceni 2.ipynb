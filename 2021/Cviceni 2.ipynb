{
 "cells": [
  {
   "cell_type": "code",
   "execution_count": 1,
   "metadata": {
    "ExecuteTime": {
     "end_time": "2021-10-26T08:17:39.020914Z",
     "start_time": "2021-10-26T08:17:38.734990Z"
    }
   },
   "outputs": [],
   "source": [
    "import numpy as np\n",
    "import matplotlib.pyplot as plt"
   ]
  },
  {
   "cell_type": "markdown",
   "metadata": {},
   "source": [
    "# Hledání kořenů\n",
    "\n",
    "Naprogramujte hledání kořenů metodou půlení intervalu.\n",
    "\n",
    "Najděte kořen sin(x) mezi 3 a 4 metodou půlení intervalu"
   ]
  },
  {
   "cell_type": "code",
   "execution_count": 2,
   "metadata": {
    "ExecuteTime": {
     "end_time": "2021-10-26T08:17:39.920136Z",
     "start_time": "2021-10-26T08:17:39.917892Z"
    }
   },
   "outputs": [],
   "source": [
    "a, b = 3, 4\n",
    "f = np.sin"
   ]
  },
  {
   "cell_type": "code",
   "execution_count": 3,
   "metadata": {
    "ExecuteTime": {
     "end_time": "2021-10-26T08:17:40.524572Z",
     "start_time": "2021-10-26T08:17:40.492747Z"
    }
   },
   "outputs": [],
   "source": [
    "def bisect(f, a, b, maxiter=53):\n",
    "    # ukol: definujte tělo této funkce\n",
    "    if np.sign(f(a))*np.sign(f(b)) >= 0:\n",
    "        raise(ValueError(\"Function sign must differ at a and b\"))\n",
    "    \n",
    "    for i in range(maxiter):\n",
    "        m = (a+b)/2.\n",
    "        fm = f(m)\n",
    "        if m in [a, b] or fm == 0:\n",
    "            # floating point tolerance reached or exact solution found\n",
    "            return m\n",
    "        \n",
    "        if fm*np.sign(f(a)) < 0:\n",
    "            b = m\n",
    "        elif fm*np.sign(f(b)) < 0:\n",
    "            a = m\n",
    "    \n",
    "    return m"
   ]
  },
  {
   "cell_type": "code",
   "execution_count": 4,
   "metadata": {
    "ExecuteTime": {
     "end_time": "2021-10-26T08:17:40.882907Z",
     "start_time": "2021-10-26T08:17:40.876103Z"
    }
   },
   "outputs": [
    {
     "data": {
      "text/plain": [
       "3.141592653589793"
      ]
     },
     "execution_count": 4,
     "metadata": {},
     "output_type": "execute_result"
    }
   ],
   "source": [
    "bisect(f, 3, 4)"
   ]
  },
  {
   "cell_type": "markdown",
   "metadata": {},
   "source": [
    "### Newtonova metoda"
   ]
  },
  {
   "cell_type": "code",
   "execution_count": 5,
   "metadata": {
    "ExecuteTime": {
     "end_time": "2021-10-26T08:17:41.568719Z",
     "start_time": "2021-10-26T08:17:41.563955Z"
    }
   },
   "outputs": [],
   "source": [
    "def newton(f, df, a):\n",
    "    for i in range(10):\n",
    "        a_new = a - f(a)/df(a)\n",
    "        if a_new == a:\n",
    "            return a\n",
    "        a = a_new"
   ]
  },
  {
   "cell_type": "code",
   "execution_count": 6,
   "metadata": {
    "ExecuteTime": {
     "end_time": "2021-10-26T08:17:41.902884Z",
     "start_time": "2021-10-26T08:17:41.900872Z"
    }
   },
   "outputs": [],
   "source": [
    "df = np.cos"
   ]
  },
  {
   "cell_type": "code",
   "execution_count": 7,
   "metadata": {
    "ExecuteTime": {
     "end_time": "2021-10-26T08:17:42.267758Z",
     "start_time": "2021-10-26T08:17:42.236814Z"
    }
   },
   "outputs": [
    {
     "data": {
      "text/plain": [
       "(15.707963267948966, 3.141592653589793)"
      ]
     },
     "execution_count": 7,
     "metadata": {},
     "output_type": "execute_result"
    }
   ],
   "source": [
    "newton(f, df, 4.8), newton(f, df, 4.)"
   ]
  },
  {
   "cell_type": "markdown",
   "metadata": {},
   "source": [
    "# Minimalizace"
   ]
  },
  {
   "cell_type": "markdown",
   "metadata": {},
   "source": [
    "Úkol č. 1: naprogramujte hledání minima metoda zlatého řezu (dělení intervalu).\n",
    "\n",
    "Najděte minimum funkce `cos(x)` v intervalu `[2, 4]`. Sledujte rychlost konvergence - tedy přesnost určení polohy minima `xmin` a funkční hodnoty `cos(xmin)` v minimu v závislosti na počtu iterací. S jakou přesností lze tyto parametry určit?"
   ]
  },
  {
   "cell_type": "markdown",
   "metadata": {},
   "source": [
    "Poté najděte minimum funkce `1 + (x-0.1)**4` na intervalu `[-1, 1]` a obdobným způsobem zhodnoťte přenost určení minima."
   ]
  },
  {
   "cell_type": "code",
   "execution_count": 44,
   "metadata": {
    "ExecuteTime": {
     "end_time": "2021-10-19T10:01:56.066548Z",
     "start_time": "2021-10-19T10:01:56.058514Z"
    }
   },
   "outputs": [],
   "source": [
    "def golden_min(f, a, b, tol=1e-5):\n",
    "    iphi = 2/(np.sqrt(5) + 1) # 0.618...\n",
    "    approximations = [[a, b]]\n",
    "    \n",
    "    c = b - (b - a) * iphi\n",
    "    d = a + (b - a) * iphi\n",
    "    while np.abs(b - a) > tol:\n",
    "        if f(c) < f(d):\n",
    "            b = d\n",
    "        else:\n",
    "            a = c\n",
    "            \n",
    "        approximations.append([a,b])\n",
    "        \n",
    "        c = b - (b - a) * iphi\n",
    "        d = a + (b - a) * iphi\n",
    "        \n",
    "    return (b + a) / 2, np.array(approximations)\n",
    "    "
   ]
  },
  {
   "cell_type": "code",
   "execution_count": 45,
   "metadata": {
    "ExecuteTime": {
     "end_time": "2021-10-19T10:02:10.368879Z",
     "start_time": "2021-10-19T10:02:10.361021Z"
    }
   },
   "outputs": [],
   "source": [
    "f = np.cos\n",
    "xmin, approx = golden_min(f, 3, 4, tol=1e-14)"
   ]
  },
  {
   "cell_type": "code",
   "execution_count": 46,
   "metadata": {
    "ExecuteTime": {
     "end_time": "2021-10-19T10:02:31.361277Z",
     "start_time": "2021-10-19T10:02:31.268734Z"
    }
   },
   "outputs": [
    {
     "data": {
      "text/plain": [
       "[<matplotlib.lines.Line2D at 0x7f59bc425a00>]"
      ]
     },
     "execution_count": 46,
     "metadata": {},
     "output_type": "execute_result"
    },
    {
     "data": {
      "image/png": "[encoded data removed]",
      "text/plain": [
       "<Figure size 432x288 with 1 Axes>"
      ]
     },
     "metadata": {
      "needs_background": "light"
     },
     "output_type": "display_data"
    }
   ],
   "source": [
    "plt.plot(np.arange(approx.shape[0]), approx[:,0])\n",
    "plt.plot(np.arange(approx.shape[0]), approx[:,1])"
   ]
  },
  {
   "cell_type": "code",
   "execution_count": 12,
   "metadata": {
    "ExecuteTime": {
     "end_time": "2021-10-19T08:25:03.549503Z",
     "start_time": "2021-10-19T08:25:03.111721Z"
    }
   },
   "outputs": [
    {
     "data": {
      "image/png": "[encoded data removed]",
      "text/plain": [
       "<Figure size 432x288 with 1 Axes>"
      ]
     },
     "metadata": {
      "needs_background": "light"
     },
     "output_type": "display_data"
    }
   ],
   "source": [
    "plt.plot(np.arange(approx.shape[0]), np.abs(approx[:,0]-np.pi))\n",
    "plt.plot(np.arange(approx.shape[0]), np.abs(approx[:,1]-np.pi))\n",
    "plt.plot(np.arange(approx.shape[0]), np.abs(f(approx[:,0])+1), \"--\")\n",
    "plt.plot(np.arange(approx.shape[0]), np.abs(f(approx[:,1])+1), \"--\")\n",
    "plt.grid()\n",
    "plt.gca().set_yscale(\"log\")"
   ]
  },
  {
   "cell_type": "code",
   "execution_count": 13,
   "metadata": {
    "ExecuteTime": {
     "end_time": "2021-10-19T08:25:03.820339Z",
     "start_time": "2021-10-19T08:25:03.817026Z"
    }
   },
   "outputs": [
    {
     "data": {
      "text/plain": [
       "1.0536708838770892e-08"
      ]
     },
     "execution_count": 13,
     "metadata": {},
     "output_type": "execute_result"
    }
   ],
   "source": [
    "xmin - np.pi # ~sqrt(eps)"
   ]
  },
  {
   "cell_type": "code",
   "execution_count": 59,
   "metadata": {
    "ExecuteTime": {
     "end_time": "2021-10-19T10:10:04.166656Z",
     "start_time": "2021-10-19T10:10:04.160076Z"
    }
   },
   "outputs": [],
   "source": [
    "f = lambda x: (x-0.1)**4\n",
    "true_min = 0.1\n"
   ]
  },
  {
   "cell_type": "code",
   "execution_count": 60,
   "metadata": {
    "ExecuteTime": {
     "end_time": "2021-10-19T10:10:04.741832Z",
     "start_time": "2021-10-19T10:10:04.629489Z"
    }
   },
   "outputs": [
    {
     "data": {
      "text/plain": [
       "[<matplotlib.lines.Line2D at 0x7f59bc2a12e0>]"
      ]
     },
     "execution_count": 60,
     "metadata": {},
     "output_type": "execute_result"
    },
    {
     "data": {
      "image/png": "[encoded data removed]",
      "text/plain": [
       "<Figure size 432x288 with 1 Axes>"
      ]
     },
     "metadata": {
      "needs_background": "light"
     },
     "output_type": "display_data"
    }
   ],
   "source": [
    "x = np.linspace(-1, 1)\n",
    "plt.plot(x, f(x))"
   ]
  },
  {
   "cell_type": "code",
   "execution_count": 61,
   "metadata": {
    "ExecuteTime": {
     "end_time": "2021-10-19T10:10:07.816596Z",
     "start_time": "2021-10-19T10:10:07.813406Z"
    }
   },
   "outputs": [],
   "source": [
    "xmin, approx = golden_min(f, -1, 1, tol=1e-14)"
   ]
  },
  {
   "cell_type": "code",
   "execution_count": 62,
   "metadata": {
    "ExecuteTime": {
     "end_time": "2021-10-19T10:10:08.505045Z",
     "start_time": "2021-10-19T10:10:08.286284Z"
    }
   },
   "outputs": [
    {
     "data": {
      "image/png": "[encoded data removed]",
      "text/plain": [
       "<Figure size 432x288 with 1 Axes>"
      ]
     },
     "metadata": {
      "needs_background": "light"
     },
     "output_type": "display_data"
    }
   ],
   "source": [
    "plt.plot(np.arange(approx.shape[0]), np.abs(approx[:,0]-true_min))\n",
    "plt.plot(np.arange(approx.shape[0]), np.abs(approx[:,1]-true_min))\n",
    "plt.plot(np.arange(approx.shape[0]), np.abs(f(approx[:,0])-f(true_min)), \"--\")\n",
    "plt.plot(np.arange(approx.shape[0]), np.abs(f(approx[:,1])-f(true_min)), \"--\")\n",
    "plt.grid()\n",
    "plt.gca().set_yscale(\"log\")"
   ]
  },
  {
   "cell_type": "code",
   "execution_count": 63,
   "metadata": {
    "ExecuteTime": {
     "end_time": "2021-10-19T10:10:36.477147Z",
     "start_time": "2021-10-19T10:10:36.469780Z"
    }
   },
   "outputs": [
    {
     "data": {
      "text/plain": [
       "0.09999999999999866"
      ]
     },
     "execution_count": 63,
     "metadata": {},
     "output_type": "execute_result"
    }
   ],
   "source": [
    "xmin"
   ]
  },
  {
   "cell_type": "code",
   "execution_count": null,
   "metadata": {},
   "outputs": [],
   "source": [
    "Newtonova metoda"
   ]
  },
  {
   "cell_type": "markdown",
   "metadata": {},
   "source": [
    "Ukázka Newtonovy metody\n"
   ]
  },
  {
   "cell_type": "code",
   "execution_count": 51,
   "metadata": {
    "ExecuteTime": {
     "end_time": "2021-10-19T10:08:11.577899Z",
     "start_time": "2021-10-19T10:08:11.571749Z"
    }
   },
   "outputs": [],
   "source": [
    "def newton_min(f, df, ddf, a):\n",
    "    for i in range(10):\n",
    "        a_new = a - df(a)/ddf(a)\n",
    "        if a_new == a:\n",
    "            if ddf(a) > 0:\n",
    "                return a\n",
    "            else:\n",
    "                raise(RuntimeError(\"Method did not converge to minimum\"))\n",
    "        a = a_new"
   ]
  },
  {
   "cell_type": "code",
   "execution_count": 52,
   "metadata": {
    "ExecuteTime": {
     "end_time": "2021-10-19T10:08:20.065537Z",
     "start_time": "2021-10-19T10:08:20.058271Z"
    }
   },
   "outputs": [],
   "source": [
    "def f(x): return x**2 + x\n",
    "def df(x): return 2*x + 1\n",
    "def ddf(x): return 2"
   ]
  },
  {
   "cell_type": "code",
   "execution_count": 53,
   "metadata": {
    "ExecuteTime": {
     "end_time": "2021-10-19T10:08:20.779450Z",
     "start_time": "2021-10-19T10:08:20.773131Z"
    }
   },
   "outputs": [
    {
     "data": {
      "text/plain": [
       "-0.5"
      ]
     },
     "execution_count": 53,
     "metadata": {},
     "output_type": "execute_result"
    }
   ],
   "source": [
    "newton_min(f, df, ddf, 1)"
   ]
  },
  {
   "cell_type": "code",
   "execution_count": 54,
   "metadata": {
    "ExecuteTime": {
     "end_time": "2021-10-19T10:08:29.353451Z",
     "start_time": "2021-10-19T10:08:29.253960Z"
    }
   },
   "outputs": [
    {
     "data": {
      "image/png": "[encoded data removed]",
      "text/plain": [
       "<Figure size 432x288 with 1 Axes>"
      ]
     },
     "metadata": {
      "needs_background": "light"
     },
     "output_type": "display_data"
    }
   ],
   "source": [
    "x = np.linspace(-2, 2)\n",
    "plt.plot(x, f(x))\n",
    "plt.ylim(ymax=2)\n",
    "plt.grid()"
   ]
  },
  {
   "cell_type": "code",
   "execution_count": null,
   "metadata": {},
   "outputs": [],
   "source": []
  }
 ],
 "metadata": {
  "kernelspec": {
   "display_name": "Python 3",
   "language": "python",
   "name": "python3"
  },
  "language_info": {
   "codemirror_mode": {
    "name": "ipython",
    "version": 3
   },
   "file_extension": ".py",
   "mimetype": "text/x-python",
   "name": "python",
   "nbconvert_exporter": "python",
   "pygments_lexer": "ipython3",
   "version": "3.8.10"
  }
 },
 "nbformat": 4,
 "nbformat_minor": 4
}
