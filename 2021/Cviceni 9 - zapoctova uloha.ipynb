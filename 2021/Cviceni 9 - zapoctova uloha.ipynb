{
 "cells": [
  {
   "cell_type": "code",
   "execution_count": 2,
   "metadata": {
    "ExecuteTime": {
     "end_time": "2021-12-14T09:50:27.524435Z",
     "start_time": "2021-12-14T09:50:27.062967Z"
    }
   },
   "outputs": [],
   "source": [
    "import numpy as np\n",
    "import matplotlib.pyplot as plt"
   ]
  },
  {
   "cell_type": "markdown",
   "metadata": {},
   "source": [
    "Simulujte pohyb částice na mříži 100x100 s periodickými okrajovými podmínkami. Polohu částice simulujte jako \"hodnotu\" ve 2D poli. Povolené skoky jsou doleva, doprava, nahoru a dolů se stejnou pravděpodobností. Vypočtěte stav po 100000 krocích. Počáteční polohu zvolte náhodně."
   ]
  },
  {
   "cell_type": "code",
   "execution_count": 3,
   "metadata": {
    "ExecuteTime": {
     "end_time": "2021-12-14T09:50:27.675950Z",
     "start_time": "2021-12-14T09:50:27.671573Z"
    }
   },
   "outputs": [],
   "source": [
    "FREE = 0\n",
    "PARTICLE = 1\n",
    "\n",
    "N = 100\n",
    "grid = np.zeros((N, N), dtype=np.int8)"
   ]
  },
  {
   "cell_type": "markdown",
   "metadata": {
    "ExecuteTime": {
     "end_time": "2021-12-14T10:46:22.012776Z",
     "start_time": "2021-12-14T10:46:22.007527Z"
    }
   },
   "source": [
    "## Zápočtová úloha II\n",
    "\n",
    "Simulujte \"krystalizaci\". Pokud má částice alespoň 1 souseda, už se nemůže dál pohybovat. Každých 100 kroků přidejte novou částici. Celkem simulujte 100000 kroků.\n",
    "\n",
    "Alternativně můžete simulovat růst od fixního krystalizačního jádra uprostřed pracovní oblasti.\n",
    "\n",
    "Možné další experimenty: alternativní definice sousedů (např úhlopříčně); nenulová pravděpodobnost pohybu \"krystalizované\" částice (např v závislosti na počtu sousedů)"
   ]
  }
 ],
 "metadata": {
  "kernelspec": {
   "display_name": "Python 3",
   "language": "python",
   "name": "python3"
  },
  "language_info": {
   "codemirror_mode": {
    "name": "ipython",
    "version": 3
   },
   "file_extension": ".py",
   "mimetype": "text/x-python",
   "name": "python",
   "nbconvert_exporter": "python",
   "pygments_lexer": "ipython3",
   "version": "3.8.10"
  }
 },
 "nbformat": 4,
 "nbformat_minor": 4
}
