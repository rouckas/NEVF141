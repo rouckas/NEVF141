{
 "cells": [
  {
   "cell_type": "markdown",
   "metadata": {},
   "source": [
    "## Cvičení 1\n",
    "\n",
    "## Podmínky zápočtu\n",
    "\n",
    "Vypracování 2 zápočtových programů"
   ]
  },
  {
   "cell_type": "markdown",
   "metadata": {},
   "source": [
    "### Předpokládané znalosti\n",
    "spuštění programu, základní znalosti syntaxe, cykly, podmínky, vstup a výstup, textový a grafický => miniúloha za domácí úkol:\n",
    "\n"
   ]
  },
  {
   "cell_type": "markdown",
   "metadata": {},
   "source": [
    "### Floating point aritmetika"
   ]
  },
  {
   "cell_type": "markdown",
   "metadata": {},
   "source": [
    "Typicky používáme float64 s 53bitovou mantisou"
   ]
  },
  {
   "cell_type": "markdown",
   "metadata": {},
   "source": [
    "Reprezentace des. čísel ve dvojkové soustavě: vytiskněte číslo 0.1 na 19 desetinných míst"
   ]
  },
  {
   "cell_type": "code",
   "execution_count": 1,
   "metadata": {
    "execution": {
     "iopub.execute_input": "2024-11-19T09:29:29.624320Z",
     "iopub.status.busy": "2024-11-19T09:29:29.624047Z",
     "iopub.status.idle": "2024-11-19T09:29:29.631346Z",
     "shell.execute_reply": "2024-11-19T09:29:29.631062Z",
     "shell.execute_reply.started": "2024-11-19T09:29:29.624282Z"
    }
   },
   "outputs": [
    {
     "data": {
      "text/plain": [
       "'0.1000000000000000056'"
      ]
     },
     "execution_count": 1,
     "metadata": {},
     "output_type": "execute_result"
    }
   ],
   "source": [
    "\"%.19f\"%0.1"
   ]
  },
  {
   "cell_type": "code",
   "execution_count": 2,
   "metadata": {
    "execution": {
     "iopub.execute_input": "2024-11-19T09:29:29.632111Z",
     "iopub.status.busy": "2024-11-19T09:29:29.631887Z",
     "iopub.status.idle": "2024-11-19T09:29:29.635052Z",
     "shell.execute_reply": "2024-11-19T09:29:29.634615Z",
     "shell.execute_reply.started": "2024-11-19T09:29:29.632098Z"
    }
   },
   "outputs": [
    {
     "data": {
      "text/plain": [
       "'0.1000000000000000056'"
      ]
     },
     "execution_count": 2,
     "metadata": {},
     "output_type": "execute_result"
    }
   ],
   "source": [
    "f\"{0.1:.19f}\""
   ]
  },
  {
   "cell_type": "code",
   "execution_count": 3,
   "metadata": {
    "execution": {
     "iopub.execute_input": "2024-11-19T09:29:29.636368Z",
     "iopub.status.busy": "2024-11-19T09:29:29.636079Z",
     "iopub.status.idle": "2024-11-19T09:29:29.638610Z",
     "shell.execute_reply": "2024-11-19T09:29:29.638387Z",
     "shell.execute_reply.started": "2024-11-19T09:29:29.636354Z"
    }
   },
   "outputs": [
    {
     "data": {
      "text/plain": [
       "'0.1000000000000000056'"
      ]
     },
     "execution_count": 3,
     "metadata": {},
     "output_type": "execute_result"
    }
   ],
   "source": [
    "\"{:.19f}\".format(0.1)"
   ]
  },
  {
   "cell_type": "markdown",
   "metadata": {},
   "source": [
    "Sčítání a odčítání.\n",
    "\n",
    "Vypočtěte $1+10^{-15}$ a $1+10^{-16}$"
   ]
  },
  {
   "cell_type": "markdown",
   "metadata": {},
   "source": [
    "Kolik desítkových platných míst má float64 s 53-bitovou mantisou?"
   ]
  },
  {
   "cell_type": "code",
   "execution_count": 4,
   "metadata": {
    "execution": {
     "iopub.execute_input": "2024-11-19T09:29:30.738609Z",
     "iopub.status.busy": "2024-11-19T09:29:30.738018Z",
     "iopub.status.idle": "2024-11-19T09:29:30.803192Z",
     "shell.execute_reply": "2024-11-19T09:29:30.802810Z",
     "shell.execute_reply.started": "2024-11-19T09:29:30.738557Z"
    }
   },
   "outputs": [
    {
     "data": {
      "text/plain": [
       "15.954589770191003"
      ]
     },
     "execution_count": 4,
     "metadata": {},
     "output_type": "execute_result"
    }
   ],
   "source": [
    "import numpy as np\n",
    "np.log10(2**53)"
   ]
  },
  {
   "cell_type": "markdown",
   "metadata": {},
   "source": [
    "Výpočty tedy probíhají přibližně s přesností na 16 platných míst. Relativní zaokrouhlovací chyba roste, pokud například počítáme rozdíl dvou podobně velkých čísel:"
   ]
  },
  {
   "cell_type": "markdown",
   "metadata": {},
   "source": [
    "Vypočtěte $1.001-1$"
   ]
  },
  {
   "cell_type": "code",
   "execution_count": 5,
   "metadata": {
    "execution": {
     "iopub.execute_input": "2024-11-19T09:29:31.345381Z",
     "iopub.status.busy": "2024-11-19T09:29:31.345208Z",
     "iopub.status.idle": "2024-11-19T09:29:31.348227Z",
     "shell.execute_reply": "2024-11-19T09:29:31.347608Z",
     "shell.execute_reply.started": "2024-11-19T09:29:31.345372Z"
    }
   },
   "outputs": [
    {
     "data": {
      "text/plain": [
       "0.0009999999999998899"
      ]
     },
     "execution_count": 5,
     "metadata": {},
     "output_type": "execute_result"
    }
   ],
   "source": [
    "1.001-1"
   ]
  },
  {
   "cell_type": "markdown",
   "metadata": {},
   "source": [
    "Z důvodu zaokrouhlovací chyby také záleží na pořadí aritmetických operací (jsou vyhodnocovány zleva doprava):\n",
    "\n",
    "Vypočtěte $10^{-15}+1-1$ a $1-1+10^{-15}$"
   ]
  },
  {
   "cell_type": "markdown",
   "metadata": {},
   "source": [
    "Nevhodně navržený algoritmus může vést k \"zesilování\" chyby. Algoritmus potom je tzv. numericky nestabilní. Viz následující příklad:\n",
    "\n",
    "Spočítejte členy následující posloupnosti pro $j=1\\ldots10$:\n",
    "\n",
    "$$x_0 = 1$$\n",
    "$$x_j = (1.01 - x_{j-1})\\cdot 100$$\n",
    "\n",
    "a porovnejte s hodnotami vypočtenými \"na papíře\""
   ]
  },
  {
   "cell_type": "code",
   "execution_count": 6,
   "metadata": {
    "execution": {
     "iopub.execute_input": "2024-11-19T09:29:32.816776Z",
     "iopub.status.busy": "2024-11-19T09:29:32.816199Z",
     "iopub.status.idle": "2024-11-19T09:29:32.823751Z",
     "shell.execute_reply": "2024-11-19T09:29:32.822962Z",
     "shell.execute_reply.started": "2024-11-19T09:29:32.816723Z"
    }
   },
   "outputs": [
    {
     "name": "stdout",
     "output_type": "stream",
     "text": [
      "1 1.0000000000000009\n",
      "2 0.9999999999999121\n",
      "3 1.0000000000087939\n",
      "4 0.9999999991206154\n",
      "5 1.0000000879384574\n",
      "6 0.9999912061542604\n",
      "7 1.0008793845739605\n",
      "8 0.912061542603948\n",
      "9 9.7938457396052\n",
      "10 -878.38457396052\n"
     ]
    }
   ],
   "source": [
    "x = 1\n",
    "# ukol 1\n",
    "for j in range(1, 11):\n",
    "    x = (1.01-x)*100\n",
    "    print(j, x)"
   ]
  },
  {
   "cell_type": "markdown",
   "metadata": {},
   "source": [
    "Můžeme výpočet zpřesnit, například použitím np.float128?"
   ]
  },
  {
   "cell_type": "code",
   "execution_count": 7,
   "metadata": {
    "execution": {
     "iopub.execute_input": "2024-11-19T09:29:33.331349Z",
     "iopub.status.busy": "2024-11-19T09:29:33.329796Z",
     "iopub.status.idle": "2024-11-19T09:29:33.338025Z",
     "shell.execute_reply": "2024-11-19T09:29:33.337310Z",
     "shell.execute_reply.started": "2024-11-19T09:29:33.331277Z"
    }
   },
   "outputs": [
    {
     "name": "stdout",
     "output_type": "stream",
     "text": [
      "1 0.99999999999999999913\n",
      "2 1.0000000000000000859\n",
      "3 0.99999999999999141225\n",
      "4 1.000000000000858774\n",
      "5 0.9999999999141226002\n",
      "6 1.0000000085877399801\n",
      "7 0.99999914122600199167\n",
      "8 1.000085877399800832\n",
      "9 0.99141226001991679655\n",
      "10 1.8587739980083203438\n"
     ]
    }
   ],
   "source": [
    "x = 1\n",
    "y = np.float128(101)/100\n",
    "for j in range(1, 11):\n",
    "    x = (y-x)*100\n",
    "    print(j, x)"
   ]
  },
  {
   "cell_type": "code",
   "execution_count": 8,
   "metadata": {
    "execution": {
     "iopub.execute_input": "2024-11-19T09:29:33.648453Z",
     "iopub.status.busy": "2024-11-19T09:29:33.647883Z",
     "iopub.status.idle": "2024-11-19T09:29:33.672608Z",
     "shell.execute_reply": "2024-11-19T09:29:33.672381Z",
     "shell.execute_reply.started": "2024-11-19T09:29:33.648411Z"
    }
   },
   "outputs": [
    {
     "name": "stdout",
     "output_type": "stream",
     "text": [
      "1 0.99999999999999999999999999999998\n",
      "2 1.0000000000000000000000000000018\n",
      "3 0.99999999999999999999999999981694\n",
      "4 1.0000000000000000000000000183059\n",
      "5 0.99999999999999999999999816941312\n",
      "6 1.0000000000000000000001830586878\n",
      "7 0.99999999999999999998169413122167\n",
      "8 1.0000000000000000018305868778334\n",
      "9 0.99999999999999981694131221665877\n",
      "10 1.000000000000018305868778334123\n"
     ]
    }
   ],
   "source": [
    "from mpmath import mp\n",
    "mp.dps = 32 # pracujeme na 32 desetinnych mist\n",
    "x = 1\n",
    "y = mp.mpf(\"1.01\")\n",
    "for j in range(1, 11):\n",
    "    x = (y-x)*100\n",
    "    print(j, x)"
   ]
  },
  {
   "cell_type": "code",
   "execution_count": 9,
   "metadata": {
    "execution": {
     "iopub.execute_input": "2024-11-19T09:29:34.720327Z",
     "iopub.status.busy": "2024-11-19T09:29:34.719681Z",
     "iopub.status.idle": "2024-11-19T09:29:34.725684Z",
     "shell.execute_reply": "2024-11-19T09:29:34.724949Z",
     "shell.execute_reply.started": "2024-11-19T09:29:34.720281Z"
    }
   },
   "outputs": [
    {
     "name": "stdout",
     "output_type": "stream",
     "text": [
      "1 [0.999999999999998112621, 1.00000000000000088818] True\n",
      "2 [0.999999999999909294779, 1.00000000000018962609] True\n",
      "3 [0.99999999998103550336, 1.00000000000907141029] True\n",
      "4 [0.99999999909285708366, 1.00000000189645055215] True\n",
      "5 [0.999999810354942897384, 1.00000009071429252216] True\n",
      "6 [0.999990928570745896131, 1.00001896450571114983] True\n",
      "7 [0.998103549428883130012, 1.00090714292541127506] True\n",
      "8 [0.909285707458870606779, 1.18964505711168788693] True\n",
      "9 [-17.9645057111687909135, 10.0714292541129402103] True\n",
      "10 [-906.142925411294044125, 1897.45057111687913221] True\n"
     ]
    }
   ],
   "source": [
    "from mpmath import mp, iv\n",
    "iv.dps = 16 # pouze 16 desetinnych mist\n",
    "x = 1\n",
    "y = iv.mpf(\"1.01\")\n",
    "for j in range(1, 11):\n",
    "    x = (y-x)*100\n",
    "    print(j, x, 1 in x) # V kazdem kroku overime, jestli spravne reseni je uvnitr intervalu"
   ]
  },
  {
   "cell_type": "markdown",
   "metadata": {},
   "source": [
    "#### Sčítání číselných řad"
   ]
  },
  {
   "cell_type": "markdown",
   "metadata": {},
   "source": [
    "Spočítejte\n",
    "\n",
    "$$y = \\sum_{i=0}^{1000} \\frac{1}{10^{-6} + i}$$\n",
    "\n",
    " - \"popořadě\"\n",
    " - v obráceném pořadí, tedy od nejmenších členů\n",
    " - s využitím knihovních funkce `sum` a `math.fsum`\n",
    "\n",
    "a porovnejte výsledky"
   ]
  },
  {
   "cell_type": "code",
   "execution_count": 10,
   "metadata": {
    "ExecuteTime": {
     "end_time": "2022-10-11T13:32:09.947717Z",
     "start_time": "2022-10-11T13:32:09.943383Z"
    },
    "execution": {
     "iopub.execute_input": "2024-11-19T09:29:36.810136Z",
     "iopub.status.busy": "2024-11-19T09:29:36.809952Z",
     "iopub.status.idle": "2024-11-19T09:29:36.812435Z",
     "shell.execute_reply": "2024-11-19T09:29:36.812214Z",
     "shell.execute_reply.started": "2024-11-19T09:29:36.810123Z"
    }
   },
   "outputs": [],
   "source": [
    "x = np.arange(1001)\n",
    "y = 1/(1e-6 + x)"
   ]
  },
  {
   "cell_type": "markdown",
   "metadata": {},
   "source": [
    "### Porovnávání čísel"
   ]
  },
  {
   "cell_type": "markdown",
   "metadata": {},
   "source": [
    "Zjistěte, jestli se rovnají čísla:\n",
    "\n",
    "$1+ 10^{-16}$ a $1$;\n",
    "\n",
    "$(1.01-1)\\cdot100$ a $1$"
   ]
  },
  {
   "cell_type": "markdown",
   "metadata": {},
   "source": [
    "Vidíme, že z důvodu zaokrouhlovací chyby se mohou shodná čísla jevit jako různá a naopak. Je nutné toto mít na paměti a v případě potřeby použít porovnávání s tolerancí (absolutní a relativní, viz např funkce `np.isclose` a její dokumentace)"
   ]
  },
  {
   "cell_type": "code",
   "execution_count": 11,
   "metadata": {
    "execution": {
     "iopub.execute_input": "2024-11-19T09:29:38.030278Z",
     "iopub.status.busy": "2024-11-19T09:29:38.029710Z",
     "iopub.status.idle": "2024-11-19T09:29:38.038353Z",
     "shell.execute_reply": "2024-11-19T09:29:38.037100Z",
     "shell.execute_reply.started": "2024-11-19T09:29:38.030236Z"
    }
   },
   "outputs": [],
   "source": [
    "def isclose(a, b, rel_tol=1e-9, abs_tol=0.0):\n",
    "    return abs(a-b) <= max(rel_tol * max(abs(a), abs(b)), abs_tol)"
   ]
  },
  {
   "cell_type": "markdown",
   "metadata": {},
   "source": [
    "#### \"Speciální\" čísla: nula, nekonečno NaN"
   ]
  },
  {
   "cell_type": "markdown",
   "metadata": {},
   "source": [
    "Poznámka bokem k typům v Pythonu: Python je dynamicky typovaný, takže jméno proměnné není nijak spjato s datovým typem, jako třeba v C/C++. Typ proměnné nebo výrazu můžeme zjistit příkazem `type`"
   ]
  },
  {
   "cell_type": "code",
   "execution_count": 12,
   "metadata": {
    "ExecuteTime": {
     "end_time": "2022-10-11T13:34:09.602769Z",
     "start_time": "2022-10-11T13:34:09.598797Z"
    },
    "execution": {
     "iopub.execute_input": "2024-11-19T09:29:39.755773Z",
     "iopub.status.busy": "2024-11-19T09:29:39.755507Z",
     "iopub.status.idle": "2024-11-19T09:29:39.759014Z",
     "shell.execute_reply": "2024-11-19T09:29:39.758808Z",
     "shell.execute_reply.started": "2024-11-19T09:29:39.755756Z"
    }
   },
   "outputs": [
    {
     "data": {
      "text/plain": [
       "int"
      ]
     },
     "execution_count": 12,
     "metadata": {},
     "output_type": "execute_result"
    }
   ],
   "source": [
    "x = 0\n",
    "type(x)"
   ]
  },
  {
   "cell_type": "code",
   "execution_count": 13,
   "metadata": {
    "ExecuteTime": {
     "end_time": "2022-10-11T13:34:10.484368Z",
     "start_time": "2022-10-11T13:34:10.480926Z"
    },
    "execution": {
     "iopub.execute_input": "2024-11-19T09:29:39.960418Z",
     "iopub.status.busy": "2024-11-19T09:29:39.959968Z",
     "iopub.status.idle": "2024-11-19T09:29:39.965237Z",
     "shell.execute_reply": "2024-11-19T09:29:39.964842Z",
     "shell.execute_reply.started": "2024-11-19T09:29:39.960389Z"
    }
   },
   "outputs": [
    {
     "data": {
      "text/plain": [
       "float"
      ]
     },
     "execution_count": 13,
     "metadata": {},
     "output_type": "execute_result"
    }
   ],
   "source": [
    "x = 0.0\n",
    "type(x)"
   ]
  },
  {
   "cell_type": "markdown",
   "metadata": {},
   "source": [
    "A ještě jedna trochu záludná poznámka k typům čísel v Pythonu: spočtěte `1/0`, `1/0.0` a `1/np.sin(0)`. Proč se výsledky liší?"
   ]
  },
  {
   "cell_type": "markdown",
   "metadata": {},
   "source": [
    "\n",
    "\n",
    "\n",
    "\n",
    "\n",
    "\n",
    "\n",
    "Je to typem čísel, zkuste type(0), type(0.0) a type(np.sin(0)"
   ]
  },
  {
   "cell_type": "markdown",
   "metadata": {},
   "source": [
    "Problém je v různých typech float čísel. Numpy float umožňuje dělení nulou. Pouze generuje varování a korektně vrací hodnotu inf. Toto chování numpy lze nastavit."
   ]
  },
  {
   "cell_type": "markdown",
   "metadata": {},
   "source": [
    "64-bitový nulový numpy float můžete vytvořit příkazem `np.float64(0)` a tento datový typ dokáže reprezentovat i speciální hodnoty NaN (not a number, nedefinovaný výraz), +inf, -inf (nekonečna), +0, -0 (nula se znaménkem)"
   ]
  },
  {
   "cell_type": "code",
   "execution_count": 14,
   "metadata": {
    "ExecuteTime": {
     "end_time": "2022-10-11T13:35:09.683598Z",
     "start_time": "2022-10-11T13:35:09.680165Z"
    },
    "execution": {
     "iopub.execute_input": "2024-11-19T09:29:42.080999Z",
     "iopub.status.busy": "2024-11-19T09:29:42.080434Z",
     "iopub.status.idle": "2024-11-19T09:29:42.088962Z",
     "shell.execute_reply": "2024-11-19T09:29:42.088150Z",
     "shell.execute_reply.started": "2024-11-19T09:29:42.080958Z"
    }
   },
   "outputs": [
    {
     "data": {
      "text/plain": [
       "(-0.0, nan, -inf, inf)"
      ]
     },
     "execution_count": 14,
     "metadata": {},
     "output_type": "execute_result"
    }
   ],
   "source": [
    "-np.float64(0), np.nan, -np.inf, np.inf"
   ]
  },
  {
   "cell_type": "markdown",
   "metadata": {},
   "source": [
    "Ukázka některých výpočtů s NaN a inf hodnotami:"
   ]
  },
  {
   "cell_type": "code",
   "execution_count": 15,
   "metadata": {
    "ExecuteTime": {
     "end_time": "2022-10-11T13:35:20.889868Z",
     "start_time": "2022-10-11T13:35:20.885967Z"
    },
    "execution": {
     "iopub.execute_input": "2024-11-19T09:29:42.517015Z",
     "iopub.status.busy": "2024-11-19T09:29:42.516807Z",
     "iopub.status.idle": "2024-11-19T09:29:42.520408Z",
     "shell.execute_reply": "2024-11-19T09:29:42.520080Z",
     "shell.execute_reply.started": "2024-11-19T09:29:42.517002Z"
    }
   },
   "outputs": [
    {
     "name": "stderr",
     "output_type": "stream",
     "text": [
      "/tmp/ipykernel_3573532/1809416172.py:1: RuntimeWarning: divide by zero encountered in scalar divide\n",
      "  1/np.float64(0), -1/np.float64(0)\n"
     ]
    },
    {
     "data": {
      "text/plain": [
       "(inf, -inf)"
      ]
     },
     "execution_count": 15,
     "metadata": {},
     "output_type": "execute_result"
    }
   ],
   "source": [
    "1/np.float64(0), -1/np.float64(0)"
   ]
  },
  {
   "cell_type": "code",
   "execution_count": 16,
   "metadata": {
    "ExecuteTime": {
     "end_time": "2022-10-11T13:35:41.160758Z",
     "start_time": "2022-10-11T13:35:41.156131Z"
    },
    "execution": {
     "iopub.execute_input": "2024-11-19T09:29:42.769795Z",
     "iopub.status.busy": "2024-11-19T09:29:42.769235Z",
     "iopub.status.idle": "2024-11-19T09:29:42.776639Z",
     "shell.execute_reply": "2024-11-19T09:29:42.776128Z",
     "shell.execute_reply.started": "2024-11-19T09:29:42.769755Z"
    }
   },
   "outputs": [
    {
     "name": "stderr",
     "output_type": "stream",
     "text": [
      "/tmp/ipykernel_3573532/608735182.py:1: RuntimeWarning: invalid value encountered in scalar divide\n",
      "  0/np.float64(0)\n"
     ]
    },
    {
     "data": {
      "text/plain": [
       "nan"
      ]
     },
     "execution_count": 16,
     "metadata": {},
     "output_type": "execute_result"
    }
   ],
   "source": [
    "0/np.float64(0)"
   ]
  },
  {
   "cell_type": "markdown",
   "metadata": {},
   "source": [
    "NaN dle definice není větší, menší, ani rovno žádnému číslu:"
   ]
  },
  {
   "cell_type": "code",
   "execution_count": 17,
   "metadata": {
    "ExecuteTime": {
     "end_time": "2022-10-11T13:35:44.826234Z",
     "start_time": "2022-10-11T13:35:44.822179Z"
    },
    "execution": {
     "iopub.execute_input": "2024-11-19T09:29:44.474320Z",
     "iopub.status.busy": "2024-11-19T09:29:44.474143Z",
     "iopub.status.idle": "2024-11-19T09:29:44.477024Z",
     "shell.execute_reply": "2024-11-19T09:29:44.476683Z",
     "shell.execute_reply.started": "2024-11-19T09:29:44.474309Z"
    }
   },
   "outputs": [
    {
     "data": {
      "text/plain": [
       "(False, False, False)"
      ]
     },
     "execution_count": 17,
     "metadata": {},
     "output_type": "execute_result"
    }
   ],
   "source": [
    "np.nan > 3, np.nan <= 3, np.nan == np.nan"
   ]
  },
  {
   "cell_type": "code",
   "execution_count": 18,
   "metadata": {
    "ExecuteTime": {
     "end_time": "2022-10-11T13:35:47.864056Z",
     "start_time": "2022-10-11T13:35:47.861121Z"
    },
    "execution": {
     "iopub.execute_input": "2024-11-19T09:29:44.685333Z",
     "iopub.status.busy": "2024-11-19T09:29:44.685088Z",
     "iopub.status.idle": "2024-11-19T09:29:44.688658Z",
     "shell.execute_reply": "2024-11-19T09:29:44.688350Z",
     "shell.execute_reply.started": "2024-11-19T09:29:44.685316Z"
    }
   },
   "outputs": [
    {
     "data": {
      "text/plain": [
       "True"
      ]
     },
     "execution_count": 18,
     "metadata": {},
     "output_type": "execute_result"
    }
   ],
   "source": [
    "np.inf == np.inf"
   ]
  },
  {
   "cell_type": "code",
   "execution_count": 19,
   "metadata": {
    "ExecuteTime": {
     "end_time": "2022-10-11T13:35:49.537059Z",
     "start_time": "2022-10-11T13:35:49.534046Z"
    },
    "execution": {
     "iopub.execute_input": "2024-11-19T09:29:44.880146Z",
     "iopub.status.busy": "2024-11-19T09:29:44.879977Z",
     "iopub.status.idle": "2024-11-19T09:29:44.883101Z",
     "shell.execute_reply": "2024-11-19T09:29:44.882837Z",
     "shell.execute_reply.started": "2024-11-19T09:29:44.880135Z"
    }
   },
   "outputs": [
    {
     "data": {
      "text/plain": [
       "True"
      ]
     },
     "execution_count": 19,
     "metadata": {},
     "output_type": "execute_result"
    }
   ],
   "source": [
    "-np.float64(0) == np.float64(0)"
   ]
  },
  {
   "cell_type": "code",
   "execution_count": 20,
   "metadata": {
    "ExecuteTime": {
     "end_time": "2022-10-11T13:35:52.568689Z",
     "start_time": "2022-10-11T13:35:52.564544Z"
    },
    "execution": {
     "iopub.execute_input": "2024-11-19T09:29:45.079487Z",
     "iopub.status.busy": "2024-11-19T09:29:45.079290Z",
     "iopub.status.idle": "2024-11-19T09:29:45.082529Z",
     "shell.execute_reply": "2024-11-19T09:29:45.082206Z",
     "shell.execute_reply.started": "2024-11-19T09:29:45.079474Z"
    }
   },
   "outputs": [
    {
     "data": {
      "text/plain": [
       "0.5"
      ]
     },
     "execution_count": 20,
     "metadata": {},
     "output_type": "execute_result"
    }
   ],
   "source": [
    "np.arctan(np.inf)/np.pi"
   ]
  },
  {
   "cell_type": "code",
   "execution_count": 21,
   "metadata": {
    "ExecuteTime": {
     "end_time": "2022-10-11T13:35:55.336407Z",
     "start_time": "2022-10-11T13:35:55.333324Z"
    },
    "execution": {
     "iopub.execute_input": "2024-11-19T09:29:45.295648Z",
     "iopub.status.busy": "2024-11-19T09:29:45.294234Z",
     "iopub.status.idle": "2024-11-19T09:29:45.300355Z",
     "shell.execute_reply": "2024-11-19T09:29:45.299772Z",
     "shell.execute_reply.started": "2024-11-19T09:29:45.295601Z"
    }
   },
   "outputs": [
    {
     "data": {
      "text/plain": [
       "False"
      ]
     },
     "execution_count": 21,
     "metadata": {},
     "output_type": "execute_result"
    }
   ],
   "source": [
    "np.inf > -np.nan"
   ]
  },
  {
   "cell_type": "code",
   "execution_count": null,
   "metadata": {},
   "outputs": [],
   "source": []
  },
  {
   "cell_type": "markdown",
   "metadata": {
    "execution": {
     "iopub.execute_input": "2024-10-15T09:51:58.775441Z",
     "iopub.status.busy": "2024-10-15T09:51:58.774816Z",
     "iopub.status.idle": "2024-10-15T09:51:58.783906Z",
     "shell.execute_reply": "2024-10-15T09:51:58.783384Z",
     "shell.execute_reply.started": "2024-10-15T09:51:58.775360Z"
    }
   },
   "source": [
    "# Hledání kořenů\n",
    "\n",
    "Naprogramujte hledání kořenů metodou půlení intervalu.\n",
    "\n",
    "Najděte kořen sin(x) mezi 3 a 4 metodou půlení intervalu"
   ]
  },
  {
   "cell_type": "code",
   "execution_count": 22,
   "metadata": {
    "execution": {
     "iopub.execute_input": "2024-11-19T09:29:46.087516Z",
     "iopub.status.busy": "2024-11-19T09:29:46.087299Z",
     "iopub.status.idle": "2024-11-19T09:29:46.089527Z",
     "shell.execute_reply": "2024-11-19T09:29:46.089235Z",
     "shell.execute_reply.started": "2024-11-19T09:29:46.087502Z"
    }
   },
   "outputs": [],
   "source": [
    "a, b = 3, 4\n",
    "f = np.sin"
   ]
  },
  {
   "cell_type": "code",
   "execution_count": 23,
   "metadata": {
    "execution": {
     "iopub.execute_input": "2024-11-19T09:29:47.656044Z",
     "iopub.status.busy": "2024-11-19T09:29:47.655803Z",
     "iopub.status.idle": "2024-11-19T09:29:47.658969Z",
     "shell.execute_reply": "2024-11-19T09:29:47.658707Z",
     "shell.execute_reply.started": "2024-11-19T09:29:47.656029Z"
    }
   },
   "outputs": [],
   "source": [
    "def bisect(f, a, b, maxiter=53):\n",
    "    # ukol: definujte tělo této funkce\n",
    "    if np.sign(f(a))*np.sign(f(b)) >= 0:\n",
    "        raise(ValueError(\"Function sign must differ at a and b\"))\n",
    "    \n",
    "    for i in range(maxiter):\n",
    "        m = (a+b)/2.\n",
    "        fm = f(m)\n",
    "        if m in [a, b] or fm == 0:\n",
    "            # floating point tolerance reached or exact solution found\n",
    "            return m\n",
    "        \n",
    "        if fm*np.sign(f(a)) < 0:\n",
    "            b = m\n",
    "        elif fm*np.sign(f(b)) < 0:\n",
    "            a = m\n",
    "    \n",
    "    return m"
   ]
  },
  {
   "cell_type": "code",
   "execution_count": 24,
   "metadata": {
    "execution": {
     "iopub.execute_input": "2024-11-19T09:30:01.939714Z",
     "iopub.status.busy": "2024-11-19T09:30:01.939144Z",
     "iopub.status.idle": "2024-11-19T09:30:01.948364Z",
     "shell.execute_reply": "2024-11-19T09:30:01.947251Z",
     "shell.execute_reply.started": "2024-11-19T09:30:01.939673Z"
    }
   },
   "outputs": [
    {
     "data": {
      "text/plain": [
       "3.141592653589793"
      ]
     },
     "execution_count": 24,
     "metadata": {},
     "output_type": "execute_result"
    }
   ],
   "source": [
    "bisect(f, 3, 4)"
   ]
  },
  {
   "cell_type": "code",
   "execution_count": 25,
   "metadata": {
    "execution": {
     "iopub.execute_input": "2024-11-19T09:30:08.215603Z",
     "iopub.status.busy": "2024-11-19T09:30:08.215174Z",
     "iopub.status.idle": "2024-11-19T09:30:08.220661Z",
     "shell.execute_reply": "2024-11-19T09:30:08.220187Z",
     "shell.execute_reply.started": "2024-11-19T09:30:08.215559Z"
    }
   },
   "outputs": [
    {
     "data": {
      "text/plain": [
       "3.141592653589793"
      ]
     },
     "execution_count": 25,
     "metadata": {},
     "output_type": "execute_result"
    }
   ],
   "source": [
    "np.pi"
   ]
  },
  {
   "cell_type": "markdown",
   "metadata": {},
   "source": [
    "### Newtonova metoda\n",
    "\n",
    "(nebylo na cvičení)\n",
    "\n",
    "pro lin. funkci platí \n",
    "$$ f'(a_n) = \\frac{f(a_{n+1}) - f(a_n)}{a_{n+1} - a_n}$$\n",
    "hledáme $a_{n+1}$ aby $f(a_{n+1}) == 0$\n",
    "$$ f'(a_n) = -\\frac{f(a_n)}{a_{n+1} - a_{n}}$$\n",
    "$$a_{n+1} = a_{n}-\\frac{f(a_n)}{f'(a_n)}$$"
   ]
  },
  {
   "cell_type": "code",
   "execution_count": 26,
   "metadata": {
    "execution": {
     "iopub.execute_input": "2024-11-19T09:30:55.250370Z",
     "iopub.status.busy": "2024-11-19T09:30:55.249532Z",
     "iopub.status.idle": "2024-11-19T09:30:55.256196Z",
     "shell.execute_reply": "2024-11-19T09:30:55.255002Z",
     "shell.execute_reply.started": "2024-11-19T09:30:55.250338Z"
    }
   },
   "outputs": [],
   "source": [
    "def newton(f, df, a, maxiter=4):\n",
    "    for i in range(maxiter):\n",
    "        a_new = a - f(a)/df(a)\n",
    "        if a_new == a:\n",
    "            return a\n",
    "        a = a_new\n",
    "    return a"
   ]
  },
  {
   "cell_type": "code",
   "execution_count": 27,
   "metadata": {
    "execution": {
     "iopub.execute_input": "2024-11-19T09:31:06.089245Z",
     "iopub.status.busy": "2024-11-19T09:31:06.087762Z",
     "iopub.status.idle": "2024-11-19T09:31:06.094396Z",
     "shell.execute_reply": "2024-11-19T09:31:06.093307Z",
     "shell.execute_reply.started": "2024-11-19T09:31:06.089176Z"
    }
   },
   "outputs": [],
   "source": [
    "df = np.cos"
   ]
  },
  {
   "cell_type": "code",
   "execution_count": 28,
   "metadata": {
    "execution": {
     "iopub.execute_input": "2024-11-19T09:32:21.217035Z",
     "iopub.status.busy": "2024-11-19T09:32:21.216446Z",
     "iopub.status.idle": "2024-11-19T09:32:21.225259Z",
     "shell.execute_reply": "2024-11-19T09:32:21.224574Z",
     "shell.execute_reply.started": "2024-11-19T09:32:21.216993Z"
    }
   },
   "outputs": [
    {
     "data": {
      "text/plain": [
       "(15.707963267948964, 3.141592653589793)"
      ]
     },
     "execution_count": 28,
     "metadata": {},
     "output_type": "execute_result"
    }
   ],
   "source": [
    "newton(f, df, 4.8), newton(f, df, 4.)"
   ]
  },
  {
   "cell_type": "markdown",
   "metadata": {},
   "source": [
    "#### Zápis do souboru\n",
    "\n",
    "(Nebylo na cvičení)\n",
    "\n",
    "Vyhodnoťte funkci sin(x) ve 100 bodech na intervalu [0, 10] a uložte hodnoty x a sin(x) do souboru (např csv)."
   ]
  },
  {
   "cell_type": "markdown",
   "metadata": {},
   "source": [
    "a) čistý Python"
   ]
  },
  {
   "cell_type": "code",
   "execution_count": 29,
   "metadata": {
    "ExecuteTime": {
     "end_time": "2022-10-11T13:29:06.169863Z",
     "start_time": "2022-10-11T13:29:06.164054Z"
    },
    "execution": {
     "iopub.execute_input": "2024-11-19T09:32:45.753304Z",
     "iopub.status.busy": "2024-11-19T09:32:45.752724Z",
     "iopub.status.idle": "2024-11-19T09:32:45.760256Z",
     "shell.execute_reply": "2024-11-19T09:32:45.758694Z",
     "shell.execute_reply.started": "2024-11-19T09:32:45.753263Z"
    }
   },
   "outputs": [],
   "source": [
    "xmin = 0\n",
    "xmax = 10\n",
    "N = 100"
   ]
  },
  {
   "cell_type": "code",
   "execution_count": 30,
   "metadata": {
    "ExecuteTime": {
     "end_time": "2022-10-11T13:29:08.088123Z",
     "start_time": "2022-10-11T13:29:08.084052Z"
    },
    "execution": {
     "iopub.execute_input": "2024-11-19T09:32:46.297328Z",
     "iopub.status.busy": "2024-11-19T09:32:46.296731Z",
     "iopub.status.idle": "2024-11-19T09:32:46.305244Z",
     "shell.execute_reply": "2024-11-19T09:32:46.304564Z",
     "shell.execute_reply.started": "2024-11-19T09:32:46.297287Z"
    }
   },
   "outputs": [],
   "source": [
    "import math\n",
    "\n",
    "f = open(\"data.txt\", \"w\")\n",
    "for i in range(0, N):\n",
    "    x = xmin + i*(xmax-xmin)/(N-1)\n",
    "    y = math.sin(x)\n",
    "    f.write(\"%f %f\\n\"%(x,y))\n",
    "f.close()"
   ]
  },
  {
   "cell_type": "markdown",
   "metadata": {},
   "source": [
    "Alternativní způsob práce se souborem"
   ]
  },
  {
   "cell_type": "code",
   "execution_count": 31,
   "metadata": {
    "ExecuteTime": {
     "end_time": "2022-10-11T13:29:09.175645Z",
     "start_time": "2022-10-11T13:29:09.172192Z"
    },
    "execution": {
     "iopub.execute_input": "2024-11-19T09:32:47.128721Z",
     "iopub.status.busy": "2024-11-19T09:32:47.128163Z",
     "iopub.status.idle": "2024-11-19T09:32:47.138643Z",
     "shell.execute_reply": "2024-11-19T09:32:47.136884Z",
     "shell.execute_reply.started": "2024-11-19T09:32:47.128681Z"
    }
   },
   "outputs": [],
   "source": [
    "import math\n",
    "\n",
    "with open(\"data.csv\", \"w\") as f:\n",
    "    for i in range(0, 100):\n",
    "        x = xmin + i*(xmax-xmin)/(N-1)\n",
    "        y = math.sin(x)\n",
    "        f.write(f\"{x:f} {y:f}\\n\")"
   ]
  },
  {
   "cell_type": "markdown",
   "metadata": {},
   "source": [
    "b) s využitím numpy je to o poznání jednodušší"
   ]
  },
  {
   "cell_type": "code",
   "execution_count": 32,
   "metadata": {
    "ExecuteTime": {
     "end_time": "2022-10-11T13:29:11.345905Z",
     "start_time": "2022-10-11T13:29:11.219169Z"
    },
    "execution": {
     "iopub.execute_input": "2024-11-19T09:32:47.960069Z",
     "iopub.status.busy": "2024-11-19T09:32:47.959451Z",
     "iopub.status.idle": "2024-11-19T09:32:47.971521Z",
     "shell.execute_reply": "2024-11-19T09:32:47.969654Z",
     "shell.execute_reply.started": "2024-11-19T09:32:47.960025Z"
    }
   },
   "outputs": [],
   "source": [
    "import numpy as np\n",
    "\n",
    "x = np.linspace(0, 10, 100)\n",
    "y = np.sin(x)\n",
    "np.savetxt(\"data.txt\", np.vstack((x, y)).T)"
   ]
  },
  {
   "cell_type": "markdown",
   "metadata": {},
   "source": [
    "#### Čtení ze souboru do pole"
   ]
  },
  {
   "cell_type": "markdown",
   "metadata": {},
   "source": [
    "Načtěte data uložená v předchozí úloze a vykreslete funkci graficky na obrazovce"
   ]
  },
  {
   "cell_type": "markdown",
   "metadata": {},
   "source": [
    "a) čistý Python"
   ]
  },
  {
   "cell_type": "code",
   "execution_count": 33,
   "metadata": {
    "ExecuteTime": {
     "end_time": "2022-10-11T13:29:12.899609Z",
     "start_time": "2022-10-11T13:29:12.896094Z"
    },
    "execution": {
     "iopub.execute_input": "2024-11-19T09:32:49.159785Z",
     "iopub.status.busy": "2024-11-19T09:32:49.159211Z",
     "iopub.status.idle": "2024-11-19T09:32:49.167489Z",
     "shell.execute_reply": "2024-11-19T09:32:49.166661Z",
     "shell.execute_reply.started": "2024-11-19T09:32:49.159725Z"
    }
   },
   "outputs": [],
   "source": [
    "data = []\n",
    "\n",
    "f = open(\"data.csv\")\n",
    "for line in f:\n",
    "    data.append(list(map(float, line.strip().split(\" \"))))"
   ]
  },
  {
   "cell_type": "markdown",
   "metadata": {},
   "source": [
    "b) s využitím numpy"
   ]
  },
  {
   "cell_type": "code",
   "execution_count": 34,
   "metadata": {
    "ExecuteTime": {
     "end_time": "2022-10-11T13:29:14.133866Z",
     "start_time": "2022-10-11T13:29:14.130243Z"
    },
    "execution": {
     "iopub.execute_input": "2024-11-19T09:32:49.671628Z",
     "iopub.status.busy": "2024-11-19T09:32:49.671065Z",
     "iopub.status.idle": "2024-11-19T09:32:49.678999Z",
     "shell.execute_reply": "2024-11-19T09:32:49.677812Z",
     "shell.execute_reply.started": "2024-11-19T09:32:49.671587Z"
    }
   },
   "outputs": [],
   "source": [
    "data = np.loadtxt(\"data.csv\")"
   ]
  },
  {
   "cell_type": "markdown",
   "metadata": {},
   "source": [
    "Vykresleni"
   ]
  },
  {
   "cell_type": "code",
   "execution_count": 35,
   "metadata": {
    "ExecuteTime": {
     "end_time": "2022-10-11T13:29:15.518875Z",
     "start_time": "2022-10-11T13:29:14.815974Z"
    },
    "execution": {
     "iopub.execute_input": "2024-11-19T09:32:50.232466Z",
     "iopub.status.busy": "2024-11-19T09:32:50.232339Z",
     "iopub.status.idle": "2024-11-19T09:32:50.702050Z",
     "shell.execute_reply": "2024-11-19T09:32:50.701685Z",
     "shell.execute_reply.started": "2024-11-19T09:32:50.232458Z"
    }
   },
   "outputs": [
    {
     "data": {
      "text/plain": [
       "[<matplotlib.lines.Line2D at 0x7b839810f110>]"
      ]
     },
     "execution_count": 35,
     "metadata": {},
     "output_type": "execute_result"
    },
    {
     "data": {
      "image/png": "[encoded data removed]",
      "text/plain": [
       "<Figure size 640x480 with 1 Axes>"
      ]
     },
     "metadata": {},
     "output_type": "display_data"
    }
   ],
   "source": [
    "import matplotlib.pyplot as plt\n",
    "plt.plot(data[:,0], data[:,1])"
   ]
  }
 ],
 "metadata": {
  "kernelspec": {
   "display_name": "Python 3 (ipykernel)",
   "language": "python",
   "name": "python3"
  },
  "language_info": {
   "codemirror_mode": {
    "name": "ipython",
    "version": 3
   },
   "file_extension": ".py",
   "mimetype": "text/x-python",
   "name": "python",
   "nbconvert_exporter": "python",
   "pygments_lexer": "ipython3",
   "version": "3.12.3"
  }
 },
 "nbformat": 4,
 "nbformat_minor": 4
}
