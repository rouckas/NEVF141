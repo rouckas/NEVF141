{
 "cells": [
  {
   "cell_type": "markdown",
   "metadata": {},
   "source": [
    "## Cvičení 2"
   ]
  },
  {
   "cell_type": "markdown",
   "metadata": {},
   "source": [
    "### Řešení z minula:"
   ]
  },
  {
   "cell_type": "markdown",
   "metadata": {},
   "source": [
    "#### Zápis do souboru\n",
    "Vyhodnoťte funkci sin(x) ve 100 bodech na intervalu [0, 10] a uložte hodnoty x a sin(x) do souboru (např csv)."
   ]
  },
  {
   "cell_type": "markdown",
   "metadata": {},
   "source": [
    "a) čistý Python"
   ]
  },
  {
   "cell_type": "code",
   "execution_count": 1,
   "metadata": {
    "ExecuteTime": {
     "end_time": "2022-10-11T13:29:06.169863Z",
     "start_time": "2022-10-11T13:29:06.164054Z"
    }
   },
   "outputs": [],
   "source": [
    "xmin = 0\n",
    "xmax = 10\n",
    "N = 100"
   ]
  },
  {
   "cell_type": "code",
   "execution_count": 2,
   "metadata": {
    "ExecuteTime": {
     "end_time": "2022-10-11T13:29:08.088123Z",
     "start_time": "2022-10-11T13:29:08.084052Z"
    }
   },
   "outputs": [],
   "source": [
    "import math\n",
    "\n",
    "f = open(\"data.txt\", \"w\")\n",
    "for i in range(0, N):\n",
    "    x = xmin + i*(xmax-xmin)/(N-1)\n",
    "    y = math.sin(x)\n",
    "    f.write(\"%f %f\\n\"%(x,y))\n",
    "f.close()"
   ]
  },
  {
   "cell_type": "markdown",
   "metadata": {},
   "source": [
    "Alternativní způsob práce se souborem"
   ]
  },
  {
   "cell_type": "code",
   "execution_count": 3,
   "metadata": {
    "ExecuteTime": {
     "end_time": "2022-10-11T13:29:09.175645Z",
     "start_time": "2022-10-11T13:29:09.172192Z"
    }
   },
   "outputs": [],
   "source": [
    "import math\n",
    "\n",
    "with open(\"data.csv\", \"w\") as f:\n",
    "    for i in range(0, 100):\n",
    "        x = xmin + i*(xmax-xmin)/(N-1)\n",
    "        y = math.sin(x)\n",
    "        f.write(f\"{x:f} {y:f}\\n\")"
   ]
  },
  {
   "cell_type": "markdown",
   "metadata": {},
   "source": [
    "b) s využitím numpy je to o poznání jednodušší"
   ]
  },
  {
   "cell_type": "code",
   "execution_count": 4,
   "metadata": {
    "ExecuteTime": {
     "end_time": "2022-10-11T13:29:11.345905Z",
     "start_time": "2022-10-11T13:29:11.219169Z"
    }
   },
   "outputs": [],
   "source": [
    "import numpy as np\n",
    "\n",
    "x = np.linspace(0, 10, 100)\n",
    "y = np.sin(x)\n",
    "np.savetxt(\"data.txt\", np.vstack((x, y)).T)"
   ]
  },
  {
   "cell_type": "markdown",
   "metadata": {},
   "source": [
    "#### Čtení ze souboru do pole"
   ]
  },
  {
   "cell_type": "markdown",
   "metadata": {},
   "source": [
    "Načtěte data uložená v předchozí úloze a vykreslete funkci graficky na obrazovce"
   ]
  },
  {
   "cell_type": "markdown",
   "metadata": {},
   "source": [
    "a) čistý Python"
   ]
  },
  {
   "cell_type": "code",
   "execution_count": 5,
   "metadata": {
    "ExecuteTime": {
     "end_time": "2022-10-11T13:29:12.899609Z",
     "start_time": "2022-10-11T13:29:12.896094Z"
    }
   },
   "outputs": [],
   "source": [
    "data = []\n",
    "\n",
    "f = open(\"data.csv\")\n",
    "for line in f:\n",
    "    data.append(list(map(float, line.strip().split(\" \"))))"
   ]
  },
  {
   "cell_type": "markdown",
   "metadata": {},
   "source": [
    "b) s využitím numpy"
   ]
  },
  {
   "cell_type": "code",
   "execution_count": 6,
   "metadata": {
    "ExecuteTime": {
     "end_time": "2022-10-11T13:29:14.133866Z",
     "start_time": "2022-10-11T13:29:14.130243Z"
    }
   },
   "outputs": [],
   "source": [
    "data = np.loadtxt(\"data.csv\")"
   ]
  },
  {
   "cell_type": "markdown",
   "metadata": {},
   "source": [
    "Vykresleni"
   ]
  },
  {
   "cell_type": "code",
   "execution_count": 7,
   "metadata": {
    "ExecuteTime": {
     "end_time": "2022-10-11T13:29:15.518875Z",
     "start_time": "2022-10-11T13:29:14.815974Z"
    }
   },
   "outputs": [
    {
     "data": {
      "text/plain": [
       "[<matplotlib.lines.Line2D at 0x7f9b2e5fe860>]"
      ]
     },
     "execution_count": 7,
     "metadata": {},
     "output_type": "execute_result"
    },
    {
     "data": {
      "image/png": "[encoded data removed]",
      "text/plain": [
       "<Figure size 432x288 with 1 Axes>"
      ]
     },
     "metadata": {
      "needs_background": "light"
     },
     "output_type": "display_data"
    }
   ],
   "source": [
    "import matplotlib.pyplot as plt\n",
    "plt.plot(data[:,0], data[:,1])"
   ]
  },
  {
   "cell_type": "markdown",
   "metadata": {},
   "source": [
    "### Floating point aritmetika"
   ]
  },
  {
   "cell_type": "markdown",
   "metadata": {},
   "source": [
    "Typicky používáme float64 s 53bitovou mantisou"
   ]
  },
  {
   "cell_type": "markdown",
   "metadata": {},
   "source": [
    "Reprezentace des. čísel ve dvojkové soustavě: vytiskněte číslo 0.1 na 19 desetinných míst"
   ]
  },
  {
   "cell_type": "code",
   "execution_count": 8,
   "metadata": {
    "ExecuteTime": {
     "end_time": "2022-10-11T13:29:19.426442Z",
     "start_time": "2022-10-11T13:29:19.422985Z"
    }
   },
   "outputs": [
    {
     "data": {
      "text/plain": [
       "'0.1000000000000000056'"
      ]
     },
     "execution_count": 8,
     "metadata": {},
     "output_type": "execute_result"
    }
   ],
   "source": [
    "\"%.19f\"%0.1"
   ]
  },
  {
   "cell_type": "markdown",
   "metadata": {},
   "source": [
    "Sčítání a odčítání.\n",
    "\n",
    "Vypočtěte $1+10^{-15}$ a $1+10^{-16}$"
   ]
  },
  {
   "cell_type": "code",
   "execution_count": 9,
   "metadata": {
    "ExecuteTime": {
     "end_time": "2022-10-11T13:29:27.079113Z",
     "start_time": "2022-10-11T13:29:27.076432Z"
    }
   },
   "outputs": [
    {
     "data": {
      "text/plain": [
       "1.000000000000001"
      ]
     },
     "execution_count": 9,
     "metadata": {},
     "output_type": "execute_result"
    }
   ],
   "source": [
    "1+1e-15"
   ]
  },
  {
   "cell_type": "code",
   "execution_count": 10,
   "metadata": {
    "ExecuteTime": {
     "end_time": "2022-10-11T13:29:28.291716Z",
     "start_time": "2022-10-11T13:29:28.287455Z"
    }
   },
   "outputs": [
    {
     "data": {
      "text/plain": [
       "1.0"
      ]
     },
     "execution_count": 10,
     "metadata": {},
     "output_type": "execute_result"
    }
   ],
   "source": [
    "1+1e-16"
   ]
  },
  {
   "cell_type": "markdown",
   "metadata": {},
   "source": [
    "Kolik desítkových platných míst má float64 s 53-bitovou mantisou?"
   ]
  },
  {
   "cell_type": "code",
   "execution_count": 11,
   "metadata": {
    "ExecuteTime": {
     "end_time": "2022-10-11T13:29:32.624745Z",
     "start_time": "2022-10-11T13:29:32.621721Z"
    }
   },
   "outputs": [
    {
     "data": {
      "text/plain": [
       "15.954589770191003"
      ]
     },
     "execution_count": 11,
     "metadata": {},
     "output_type": "execute_result"
    }
   ],
   "source": [
    "np.log10(2**53)"
   ]
  },
  {
   "cell_type": "markdown",
   "metadata": {},
   "source": [
    "Výpočty tedy probíhají přibližně s přesností na 16 platných míst. Relativní zaokrouhlovací chyba roste, pokud například počítáme rozdíl dvou podobně velkých čísel:"
   ]
  },
  {
   "cell_type": "markdown",
   "metadata": {},
   "source": [
    "Vypočtěte $1.001-1$"
   ]
  },
  {
   "cell_type": "code",
   "execution_count": 12,
   "metadata": {
    "ExecuteTime": {
     "end_time": "2022-10-11T13:29:38.772824Z",
     "start_time": "2022-10-11T13:29:38.768789Z"
    }
   },
   "outputs": [
    {
     "data": {
      "text/plain": [
       "0.0009999999999998899"
      ]
     },
     "execution_count": 12,
     "metadata": {},
     "output_type": "execute_result"
    }
   ],
   "source": [
    "1.001-1"
   ]
  },
  {
   "cell_type": "markdown",
   "metadata": {},
   "source": [
    "Z důvodu zaokrouhlovací chyby také záleží na pořadí aritmetických operací (jsou vyhodnocovány zleva doprava):\n",
    "\n",
    "Vypočtěte $10^{-15}+1-1$ a $1-1+10^{-15}$"
   ]
  },
  {
   "cell_type": "code",
   "execution_count": 13,
   "metadata": {
    "ExecuteTime": {
     "end_time": "2022-10-11T13:29:40.373973Z",
     "start_time": "2022-10-11T13:29:40.370851Z"
    }
   },
   "outputs": [
    {
     "data": {
      "text/plain": [
       "1e-15"
      ]
     },
     "execution_count": 13,
     "metadata": {},
     "output_type": "execute_result"
    }
   ],
   "source": [
    "1-1+1e-15"
   ]
  },
  {
   "cell_type": "code",
   "execution_count": 14,
   "metadata": {
    "ExecuteTime": {
     "end_time": "2022-10-11T13:29:41.157265Z",
     "start_time": "2022-10-11T13:29:41.154080Z"
    }
   },
   "outputs": [
    {
     "data": {
      "text/plain": [
       "1.1102230246251565e-15"
      ]
     },
     "execution_count": 14,
     "metadata": {},
     "output_type": "execute_result"
    }
   ],
   "source": [
    "1e-15+1-1"
   ]
  },
  {
   "cell_type": "markdown",
   "metadata": {},
   "source": [
    "Nevhodně navržený algoritmus může vést k \"zesilování\" chyby. Algoritmus potom je tzv. numericky nestabilní. Viz následující příklad:\n",
    "\n",
    "Spočítejte členy následující posloupnosti pro $j=1\\ldots10$:\n",
    "\n",
    "$$x_0 = 1$$\n",
    "$$x_j = (1.01 - x_{j-1})\\cdot 100$$\n",
    "\n",
    "a porovnejte s hodnotami vypočtenými \"na papíře\""
   ]
  },
  {
   "cell_type": "code",
   "execution_count": 15,
   "metadata": {
    "ExecuteTime": {
     "end_time": "2022-10-11T13:29:51.474498Z",
     "start_time": "2022-10-11T13:29:51.470038Z"
    }
   },
   "outputs": [
    {
     "name": "stdout",
     "output_type": "stream",
     "text": [
      "1 1.0000000000000009\n",
      "2 0.9999999999999121\n",
      "3 1.0000000000087939\n",
      "4 0.9999999991206154\n",
      "5 1.0000000879384574\n",
      "6 0.9999912061542604\n",
      "7 1.0008793845739605\n",
      "8 0.912061542603948\n",
      "9 9.7938457396052\n",
      "10 -878.38457396052\n"
     ]
    }
   ],
   "source": [
    "x = 1\n",
    "# ukol 1\n",
    "for j in range(1, 11):\n",
    "    x = (1.01-x)*100\n",
    "    print(j, x)"
   ]
  },
  {
   "cell_type": "markdown",
   "metadata": {},
   "source": [
    "Můžeme výpočet zpřesnit, například použitím np.float128?"
   ]
  },
  {
   "cell_type": "code",
   "execution_count": 16,
   "metadata": {
    "ExecuteTime": {
     "end_time": "2022-10-11T13:29:56.104211Z",
     "start_time": "2022-10-11T13:29:56.099039Z"
    }
   },
   "outputs": [
    {
     "name": "stdout",
     "output_type": "stream",
     "text": [
      "1 0.99999999999999999913\n",
      "2 1.0000000000000000859\n",
      "3 0.99999999999999141225\n",
      "4 1.000000000000858774\n",
      "5 0.9999999999141226002\n",
      "6 1.0000000085877399801\n",
      "7 0.99999914122600199167\n",
      "8 1.000085877399800832\n",
      "9 0.99141226001991679655\n",
      "10 1.8587739980083203438\n"
     ]
    }
   ],
   "source": [
    "x = 1\n",
    "y = np.float128(101)/100\n",
    "for j in range(1, 11):\n",
    "    x = (y-x)*100\n",
    "    print(j, x)"
   ]
  },
  {
   "cell_type": "markdown",
   "metadata": {},
   "source": [
    "Moc ne, protože float128 je ve skutečnosti jen 80-bit float a 128 vyjadřuje alignment v paměti (násobky 64bit). Zachránit nás může např. knihovna mpmath s libovolnou přesností:"
   ]
  },
  {
   "cell_type": "code",
   "execution_count": 17,
   "metadata": {
    "ExecuteTime": {
     "end_time": "2022-10-11T13:30:51.616903Z",
     "start_time": "2022-10-11T13:30:51.583899Z"
    }
   },
   "outputs": [
    {
     "name": "stdout",
     "output_type": "stream",
     "text": [
      "1 0.99999999999999999999999999999998\n",
      "2 1.0000000000000000000000000000018\n",
      "3 0.99999999999999999999999999981694\n",
      "4 1.0000000000000000000000000183059\n",
      "5 0.99999999999999999999999816941312\n",
      "6 1.0000000000000000000001830586878\n",
      "7 0.99999999999999999998169413122167\n",
      "8 1.0000000000000000018305868778334\n",
      "9 0.99999999999999981694131221665877\n",
      "10 1.000000000000018305868778334123\n"
     ]
    }
   ],
   "source": [
    "from mpmath import mp\n",
    "mp.dps = 32 # pracujeme na 32 desetinnych mist\n",
    "x = 1\n",
    "y = mp.mpf(\"1.01\")\n",
    "for j in range(1, 11):\n",
    "    x = (y-x)*100\n",
    "    print(j, x)"
   ]
  },
  {
   "cell_type": "markdown",
   "metadata": {},
   "source": [
    "Nebo můžeme použít intervalovou aritmetiku, abychom dostali meze intervalu, který s jistotou obsahuje exaktní výsledek"
   ]
  },
  {
   "cell_type": "code",
   "execution_count": 18,
   "metadata": {
    "ExecuteTime": {
     "end_time": "2022-10-11T13:31:44.061877Z",
     "start_time": "2022-10-11T13:31:44.053108Z"
    }
   },
   "outputs": [
    {
     "name": "stdout",
     "output_type": "stream",
     "text": [
      "1 [0.999999999999998112621, 1.00000000000000088818] True\n",
      "2 [0.999999999999909294779, 1.00000000000018962609] True\n",
      "3 [0.99999999998103550336, 1.00000000000907141029] True\n",
      "4 [0.99999999909285708366, 1.00000000189645055215] True\n",
      "5 [0.999999810354942897384, 1.00000009071429252216] True\n",
      "6 [0.999990928570745896131, 1.00001896450571114983] True\n",
      "7 [0.998103549428883130012, 1.00090714292541127506] True\n",
      "8 [0.909285707458870606779, 1.18964505711168788693] True\n",
      "9 [-17.9645057111687909135, 10.0714292541129402103] True\n",
      "10 [-906.142925411294044125, 1897.45057111687913221] True\n"
     ]
    }
   ],
   "source": [
    "from mpmath import mp, iv\n",
    "iv.dps = 16 # pouze 16 desetinnych mist\n",
    "x = 1\n",
    "y = iv.mpf(\"1.01\")\n",
    "for j in range(1, 11):\n",
    "    x = (y-x)*100\n",
    "    print(j, x, 1 in x) # V kazdem kroku overime, jestli spravne reseni je uvnitr intervalu"
   ]
  },
  {
   "cell_type": "markdown",
   "metadata": {},
   "source": [
    "#### Sčítání číselných řad"
   ]
  },
  {
   "cell_type": "markdown",
   "metadata": {},
   "source": [
    "Spočítejte\n",
    "\n",
    "$$y = \\sum_{i=0}^{1000} \\frac{1}{10^{-6} + i}$$\n",
    "\n",
    " - \"popořadě\"\n",
    " - v obráceném pořadí, tedy od nejmenších členů\n",
    " - s využitím knihovních funkce `sum` a `math.fsum`\n",
    "\n",
    "a porovnejte výsledky"
   ]
  },
  {
   "cell_type": "code",
   "execution_count": 19,
   "metadata": {
    "ExecuteTime": {
     "end_time": "2022-10-11T13:32:09.947717Z",
     "start_time": "2022-10-11T13:32:09.943383Z"
    }
   },
   "outputs": [],
   "source": [
    "x = np.arange(1001)\n",
    "y = 1/(1e-6 + x)"
   ]
  },
  {
   "cell_type": "markdown",
   "metadata": {},
   "source": [
    "popořadě:"
   ]
  },
  {
   "cell_type": "code",
   "execution_count": 20,
   "metadata": {
    "ExecuteTime": {
     "end_time": "2022-10-11T13:32:19.685488Z",
     "start_time": "2022-10-11T13:32:19.682022Z"
    }
   },
   "outputs": [
    {
     "data": {
      "text/plain": [
       "1000007.4854692194"
      ]
     },
     "execution_count": 20,
     "metadata": {},
     "output_type": "execute_result"
    }
   ],
   "source": [
    "s = 0\n",
    "for i in y: s += i\n",
    "s"
   ]
  },
  {
   "cell_type": "markdown",
   "metadata": {},
   "source": [
    "pozpátku:"
   ]
  },
  {
   "cell_type": "code",
   "execution_count": 21,
   "metadata": {
    "ExecuteTime": {
     "end_time": "2022-10-11T13:32:22.547357Z",
     "start_time": "2022-10-11T13:32:22.542493Z"
    }
   },
   "outputs": [
    {
     "data": {
      "text/plain": [
       "1000007.4854692166"
      ]
     },
     "execution_count": 21,
     "metadata": {},
     "output_type": "execute_result"
    }
   ],
   "source": [
    "s = 0\n",
    "for i in y[::-1]: s += i\n",
    "s"
   ]
  },
  {
   "cell_type": "markdown",
   "metadata": {},
   "source": [
    "Vestavěná obecná funkce sum pracuje popořadě. Umí sčítat jakýkoliv objekt s definovanou operací sčítání:"
   ]
  },
  {
   "cell_type": "code",
   "execution_count": 22,
   "metadata": {
    "ExecuteTime": {
     "end_time": "2022-10-11T13:32:32.966044Z",
     "start_time": "2022-10-11T13:32:32.962817Z"
    }
   },
   "outputs": [
    {
     "data": {
      "text/plain": [
       "1000007.4854692194"
      ]
     },
     "execution_count": 22,
     "metadata": {},
     "output_type": "execute_result"
    }
   ],
   "source": [
    "sum(y)"
   ]
  },
  {
   "cell_type": "markdown",
   "metadata": {},
   "source": [
    "Funkce `math.fsum` je optimální pro přesnost výpočtu. V tomto případě se shoduje se součtem od nejmenších členů:\n",
    "\n",
    "Viz také:\n",
    "- https://code.activestate.com/recipes/393090/\n",
    "- https://en.wikipedia.org/wiki/Kahan_summation_algorithm\n",
    "- https://docs.python.org/3/library/math.html"
   ]
  },
  {
   "cell_type": "code",
   "execution_count": 23,
   "metadata": {
    "ExecuteTime": {
     "end_time": "2022-10-11T13:32:40.842731Z",
     "start_time": "2022-10-11T13:32:40.839669Z"
    }
   },
   "outputs": [
    {
     "data": {
      "text/plain": [
       "1000007.4854692166"
      ]
     },
     "execution_count": 23,
     "metadata": {},
     "output_type": "execute_result"
    }
   ],
   "source": [
    "import math\n",
    "math.fsum(y)"
   ]
  },
  {
   "cell_type": "markdown",
   "metadata": {},
   "source": [
    "Funkce `np.sum` je optimalizovaná pro rychlost výpočtu, relativně přesná:"
   ]
  },
  {
   "cell_type": "code",
   "execution_count": 24,
   "metadata": {
    "ExecuteTime": {
     "end_time": "2022-10-11T13:32:48.089333Z",
     "start_time": "2022-10-11T13:32:48.085990Z"
    }
   },
   "outputs": [
    {
     "data": {
      "text/plain": [
       "1000007.4854692165"
      ]
     },
     "execution_count": 24,
     "metadata": {},
     "output_type": "execute_result"
    }
   ],
   "source": [
    "np.sum(y)"
   ]
  },
  {
   "cell_type": "markdown",
   "metadata": {},
   "source": [
    "Poznámka: exaktní výsledek můžeme snadno ověřit symbolickým výpočtem v knihovně sympy, která umožňuje numerické vyhodnocení sumy s libovolnou přesností. Nejdříve symbolicky definujeme náš výraz:"
   ]
  },
  {
   "cell_type": "code",
   "execution_count": 25,
   "metadata": {
    "ExecuteTime": {
     "end_time": "2022-10-11T13:33:12.259903Z",
     "start_time": "2022-10-11T13:33:11.862740Z"
    }
   },
   "outputs": [
    {
     "data": {
      "text/latex": [
       "$\\displaystyle \\sum_{si=0}^{1000} \\frac{1}{si + \\frac{1}{1000000}}$"
      ],
      "text/plain": [
       "Sum(1/(si + 1/1000000), (si, 0, 1000))"
      ]
     },
     "execution_count": 25,
     "metadata": {},
     "output_type": "execute_result"
    }
   ],
   "source": [
    "import sympy as sp\n",
    "si = sp.Symbol(\"si\")\n",
    "series = sp.Sum(1/(sp.S(10)**(-6) + si), (si, 0, 1000))\n",
    "series"
   ]
  },
  {
   "cell_type": "markdown",
   "metadata": {},
   "source": [
    "a vyhodnotíme s přesností na 30 platných míst. Vidíme, že v tomto případě je sumace \"od nejmenších členů\" dostatečně přesná."
   ]
  },
  {
   "cell_type": "code",
   "execution_count": 26,
   "metadata": {
    "ExecuteTime": {
     "end_time": "2022-10-11T13:33:29.464115Z",
     "start_time": "2022-10-11T13:33:29.315776Z"
    }
   },
   "outputs": [
    {
     "data": {
      "text/latex": [
       "$\\displaystyle 1000007.48546921661698028641805$"
      ],
      "text/plain": [
       "1000007.48546921661698028641805"
      ]
     },
     "execution_count": 26,
     "metadata": {},
     "output_type": "execute_result"
    }
   ],
   "source": [
    "series.evalf(30)"
   ]
  },
  {
   "cell_type": "markdown",
   "metadata": {},
   "source": [
    "### Porovnávání čísel"
   ]
  },
  {
   "cell_type": "markdown",
   "metadata": {},
   "source": [
    "Zjistěte, jestli se rovnají čísla:\n",
    "\n",
    "$1+ 10^{-16}$ a $1$;\n",
    "\n",
    "$(1.01-1)\\cdot100$ a $1$"
   ]
  },
  {
   "cell_type": "code",
   "execution_count": 27,
   "metadata": {
    "ExecuteTime": {
     "end_time": "2022-10-11T13:33:39.526658Z",
     "start_time": "2022-10-11T13:33:39.523317Z"
    }
   },
   "outputs": [
    {
     "data": {
      "text/plain": [
       "True"
      ]
     },
     "execution_count": 27,
     "metadata": {},
     "output_type": "execute_result"
    }
   ],
   "source": [
    "1+1e-16 == 1"
   ]
  },
  {
   "cell_type": "code",
   "execution_count": 28,
   "metadata": {
    "ExecuteTime": {
     "end_time": "2022-10-11T13:33:41.129097Z",
     "start_time": "2022-10-11T13:33:41.125894Z"
    }
   },
   "outputs": [
    {
     "data": {
      "text/plain": [
       "False"
      ]
     },
     "execution_count": 28,
     "metadata": {},
     "output_type": "execute_result"
    }
   ],
   "source": [
    "1 == (1.01 - 1)*100"
   ]
  },
  {
   "cell_type": "markdown",
   "metadata": {},
   "source": [
    "Vidíme, že z důvodu zaokrouhlovací chyby se mohou shodná čísla jevit jako různá a naopak. Je nutné toto mít na paměti a v případě potřeby použít porovnávání s tolerancí (absolutní a relativní, viz např funkce `np.isclose` a její dokumentace)"
   ]
  },
  {
   "cell_type": "code",
   "execution_count": 29,
   "metadata": {
    "ExecuteTime": {
     "end_time": "2022-10-11T13:33:51.427828Z",
     "start_time": "2022-10-11T13:33:51.425378Z"
    }
   },
   "outputs": [],
   "source": [
    "def isclose(a, b, rel_tol=1e-9, abs_tol=0.0):\n",
    "    return abs(a-b) <= max(rel_tol * max(abs(a), abs(b)), abs_tol)"
   ]
  },
  {
   "cell_type": "code",
   "execution_count": 30,
   "metadata": {
    "ExecuteTime": {
     "end_time": "2022-10-11T13:33:55.201976Z",
     "start_time": "2022-10-11T13:33:55.198168Z"
    }
   },
   "outputs": [
    {
     "data": {
      "text/plain": [
       "True"
      ]
     },
     "execution_count": 30,
     "metadata": {},
     "output_type": "execute_result"
    }
   ],
   "source": [
    "isclose(1, (1.01 - 1)*100)"
   ]
  },
  {
   "cell_type": "markdown",
   "metadata": {},
   "source": [
    "Vhodnější je ale použití knihovních funkcí `np.isclose` nebo `math.isclose`, které zaručují korektní chování s nekonečny a NaN..."
   ]
  },
  {
   "cell_type": "code",
   "execution_count": 31,
   "metadata": {
    "ExecuteTime": {
     "end_time": "2022-10-11T13:34:00.135525Z",
     "start_time": "2022-10-11T13:34:00.132431Z"
    }
   },
   "outputs": [
    {
     "data": {
      "text/plain": [
       "True"
      ]
     },
     "execution_count": 31,
     "metadata": {},
     "output_type": "execute_result"
    }
   ],
   "source": [
    "np.isclose(1, (1.01 - 1)*100)"
   ]
  },
  {
   "cell_type": "markdown",
   "metadata": {},
   "source": [
    "#### \"Speciální\" čísla: nula, nekonečno NaN"
   ]
  },
  {
   "cell_type": "markdown",
   "metadata": {},
   "source": [
    "Poznámka bokem k typům v Pythonu: Python je dynamicky typovaný, takže jméno proměnné není nijak spjato s datovým typem, jako třeba v C/C++. Typ proměnné nebo výrazu můžeme zjistit příkazem `type`"
   ]
  },
  {
   "cell_type": "code",
   "execution_count": 32,
   "metadata": {
    "ExecuteTime": {
     "end_time": "2022-10-11T13:34:09.602769Z",
     "start_time": "2022-10-11T13:34:09.598797Z"
    }
   },
   "outputs": [
    {
     "data": {
      "text/plain": [
       "int"
      ]
     },
     "execution_count": 32,
     "metadata": {},
     "output_type": "execute_result"
    }
   ],
   "source": [
    "x = 0\n",
    "type(x)"
   ]
  },
  {
   "cell_type": "code",
   "execution_count": 33,
   "metadata": {
    "ExecuteTime": {
     "end_time": "2022-10-11T13:34:10.484368Z",
     "start_time": "2022-10-11T13:34:10.480926Z"
    }
   },
   "outputs": [
    {
     "data": {
      "text/plain": [
       "float"
      ]
     },
     "execution_count": 33,
     "metadata": {},
     "output_type": "execute_result"
    }
   ],
   "source": [
    "x = 0.0\n",
    "type(x)"
   ]
  },
  {
   "cell_type": "markdown",
   "metadata": {},
   "source": [
    "A ještě jedna trochu záludná poznámka k typům čísel v Pythonu: spočtěte `1/0` a `1/np.sin(0)`. Proč se výsledky liší?"
   ]
  },
  {
   "cell_type": "code",
   "execution_count": 34,
   "metadata": {
    "ExecuteTime": {
     "end_time": "2022-10-11T13:34:15.900205Z",
     "start_time": "2022-10-11T13:34:15.844083Z"
    }
   },
   "outputs": [
    {
     "ename": "ZeroDivisionError",
     "evalue": "division by zero",
     "output_type": "error",
     "traceback": [
      "\u001b[0;31m---------------------------------------------------------------------------\u001b[0m",
      "\u001b[0;31mZeroDivisionError\u001b[0m                         Traceback (most recent call last)",
      "\u001b[0;32m/tmp/ipykernel_191304/2354412189.py\u001b[0m in \u001b[0;36m<module>\u001b[0;34m\u001b[0m\n\u001b[0;32m----> 1\u001b[0;31m \u001b[0;36m1\u001b[0m\u001b[0;34m/\u001b[0m\u001b[0;36m0\u001b[0m\u001b[0;34m\u001b[0m\u001b[0;34m\u001b[0m\u001b[0m\n\u001b[0m",
      "\u001b[0;31mZeroDivisionError\u001b[0m: division by zero"
     ]
    }
   ],
   "source": [
    "1/0"
   ]
  },
  {
   "cell_type": "code",
   "execution_count": 35,
   "metadata": {
    "ExecuteTime": {
     "end_time": "2022-10-11T13:34:16.906414Z",
     "start_time": "2022-10-11T13:34:16.899273Z"
    }
   },
   "outputs": [
    {
     "ename": "ZeroDivisionError",
     "evalue": "float division by zero",
     "output_type": "error",
     "traceback": [
      "\u001b[0;31m---------------------------------------------------------------------------\u001b[0m",
      "\u001b[0;31mZeroDivisionError\u001b[0m                         Traceback (most recent call last)",
      "\u001b[0;32m/tmp/ipykernel_191304/3668773517.py\u001b[0m in \u001b[0;36m<module>\u001b[0;34m\u001b[0m\n\u001b[0;32m----> 1\u001b[0;31m \u001b[0;36m1\u001b[0m\u001b[0;34m/\u001b[0m\u001b[0;36m0.0\u001b[0m\u001b[0;34m\u001b[0m\u001b[0;34m\u001b[0m\u001b[0m\n\u001b[0m",
      "\u001b[0;31mZeroDivisionError\u001b[0m: float division by zero"
     ]
    }
   ],
   "source": [
    "1/0.0"
   ]
  },
  {
   "cell_type": "code",
   "execution_count": 36,
   "metadata": {
    "ExecuteTime": {
     "end_time": "2022-10-11T13:34:18.163094Z",
     "start_time": "2022-10-11T13:34:18.158648Z"
    }
   },
   "outputs": [
    {
     "name": "stderr",
     "output_type": "stream",
     "text": [
      "/tmp/ipykernel_191304/1905035236.py:1: RuntimeWarning: divide by zero encountered in double_scalars\n",
      "  1/np.sin(0)\n"
     ]
    },
    {
     "data": {
      "text/plain": [
       "inf"
      ]
     },
     "execution_count": 36,
     "metadata": {},
     "output_type": "execute_result"
    }
   ],
   "source": [
    "1/np.sin(0)"
   ]
  },
  {
   "cell_type": "markdown",
   "metadata": {},
   "source": [
    "Je to typem čísel, zkuste type(0), type(0.0) a type(np.sin(0)"
   ]
  },
  {
   "cell_type": "code",
   "execution_count": 37,
   "metadata": {
    "ExecuteTime": {
     "end_time": "2022-10-11T13:34:58.808964Z",
     "start_time": "2022-10-11T13:34:58.806140Z"
    }
   },
   "outputs": [
    {
     "data": {
      "text/plain": [
       "int"
      ]
     },
     "execution_count": 37,
     "metadata": {},
     "output_type": "execute_result"
    }
   ],
   "source": [
    "type(0)"
   ]
  },
  {
   "cell_type": "code",
   "execution_count": 38,
   "metadata": {
    "ExecuteTime": {
     "end_time": "2022-10-11T13:34:59.348068Z",
     "start_time": "2022-10-11T13:34:59.344838Z"
    }
   },
   "outputs": [
    {
     "data": {
      "text/plain": [
       "float"
      ]
     },
     "execution_count": 38,
     "metadata": {},
     "output_type": "execute_result"
    }
   ],
   "source": [
    "type(0.0)"
   ]
  },
  {
   "cell_type": "code",
   "execution_count": 39,
   "metadata": {
    "ExecuteTime": {
     "end_time": "2022-10-11T13:34:59.893685Z",
     "start_time": "2022-10-11T13:34:59.890519Z"
    }
   },
   "outputs": [
    {
     "data": {
      "text/plain": [
       "numpy.float64"
      ]
     },
     "execution_count": 39,
     "metadata": {},
     "output_type": "execute_result"
    }
   ],
   "source": [
    "type(np.sin(0))"
   ]
  },
  {
   "cell_type": "markdown",
   "metadata": {},
   "source": [
    "Problém je v různých typech float čísel. Numpy float umožňuje dělení nulou. Pouze generuje varování a korektně vrací hodnotu inf. Toto chování numpy lze nastavit."
   ]
  },
  {
   "cell_type": "markdown",
   "metadata": {},
   "source": [
    "64-bitový nulový numpy float můžete vytvořit příkazem `np.float64(0)` a tento datový typ dokáže reprezentovat i speciální hodnoty NaN (not a number, nedefinovaný výraz), +inf, -inf (nekonečna), +0, -0 (nula se znaménkem)"
   ]
  },
  {
   "cell_type": "code",
   "execution_count": 40,
   "metadata": {
    "ExecuteTime": {
     "end_time": "2022-10-11T13:35:09.683598Z",
     "start_time": "2022-10-11T13:35:09.680165Z"
    }
   },
   "outputs": [
    {
     "data": {
      "text/plain": [
       "(-0.0, nan, -inf, inf)"
      ]
     },
     "execution_count": 40,
     "metadata": {},
     "output_type": "execute_result"
    }
   ],
   "source": [
    "-np.float64(0), np.nan, -np.inf, np.inf"
   ]
  },
  {
   "cell_type": "markdown",
   "metadata": {},
   "source": [
    "Ukázka některých výpočtů s NaN a inf hodnotami:"
   ]
  },
  {
   "cell_type": "code",
   "execution_count": 41,
   "metadata": {
    "ExecuteTime": {
     "end_time": "2022-10-11T13:35:20.889868Z",
     "start_time": "2022-10-11T13:35:20.885967Z"
    }
   },
   "outputs": [
    {
     "name": "stderr",
     "output_type": "stream",
     "text": [
      "/tmp/ipykernel_191304/1809416172.py:1: RuntimeWarning: divide by zero encountered in double_scalars\n",
      "  1/np.float64(0), -1/np.float64(0)\n"
     ]
    },
    {
     "data": {
      "text/plain": [
       "(inf, -inf)"
      ]
     },
     "execution_count": 41,
     "metadata": {},
     "output_type": "execute_result"
    }
   ],
   "source": [
    "1/np.float64(0), -1/np.float64(0)"
   ]
  },
  {
   "cell_type": "code",
   "execution_count": 42,
   "metadata": {
    "ExecuteTime": {
     "end_time": "2022-10-11T13:35:41.160758Z",
     "start_time": "2022-10-11T13:35:41.156131Z"
    }
   },
   "outputs": [
    {
     "name": "stderr",
     "output_type": "stream",
     "text": [
      "/tmp/ipykernel_191304/608735182.py:1: RuntimeWarning: invalid value encountered in double_scalars\n",
      "  0/np.float64(0)\n"
     ]
    },
    {
     "data": {
      "text/plain": [
       "nan"
      ]
     },
     "execution_count": 42,
     "metadata": {},
     "output_type": "execute_result"
    }
   ],
   "source": [
    "0/np.float64(0)"
   ]
  },
  {
   "cell_type": "markdown",
   "metadata": {},
   "source": [
    "NaN dle definice není větší, menší, ani rovno žádnému číslu:"
   ]
  },
  {
   "cell_type": "code",
   "execution_count": 43,
   "metadata": {
    "ExecuteTime": {
     "end_time": "2022-10-11T13:35:44.826234Z",
     "start_time": "2022-10-11T13:35:44.822179Z"
    }
   },
   "outputs": [
    {
     "data": {
      "text/plain": [
       "(False, False, False)"
      ]
     },
     "execution_count": 43,
     "metadata": {},
     "output_type": "execute_result"
    }
   ],
   "source": [
    "np.nan > 3, np.nan <= 3, np.nan == np.nan"
   ]
  },
  {
   "cell_type": "code",
   "execution_count": 44,
   "metadata": {
    "ExecuteTime": {
     "end_time": "2022-10-11T13:35:47.864056Z",
     "start_time": "2022-10-11T13:35:47.861121Z"
    }
   },
   "outputs": [
    {
     "data": {
      "text/plain": [
       "True"
      ]
     },
     "execution_count": 44,
     "metadata": {},
     "output_type": "execute_result"
    }
   ],
   "source": [
    "np.inf == np.inf"
   ]
  },
  {
   "cell_type": "code",
   "execution_count": 45,
   "metadata": {
    "ExecuteTime": {
     "end_time": "2022-10-11T13:35:49.537059Z",
     "start_time": "2022-10-11T13:35:49.534046Z"
    }
   },
   "outputs": [
    {
     "data": {
      "text/plain": [
       "True"
      ]
     },
     "execution_count": 45,
     "metadata": {},
     "output_type": "execute_result"
    }
   ],
   "source": [
    "-np.float64(0) == np.float64(0)"
   ]
  },
  {
   "cell_type": "code",
   "execution_count": 46,
   "metadata": {
    "ExecuteTime": {
     "end_time": "2022-10-11T13:35:52.568689Z",
     "start_time": "2022-10-11T13:35:52.564544Z"
    }
   },
   "outputs": [
    {
     "data": {
      "text/plain": [
       "0.5"
      ]
     },
     "execution_count": 46,
     "metadata": {},
     "output_type": "execute_result"
    }
   ],
   "source": [
    "np.arctan(np.inf)/np.pi"
   ]
  },
  {
   "cell_type": "code",
   "execution_count": 47,
   "metadata": {
    "ExecuteTime": {
     "end_time": "2022-10-11T13:35:55.336407Z",
     "start_time": "2022-10-11T13:35:55.333324Z"
    }
   },
   "outputs": [
    {
     "data": {
      "text/plain": [
       "False"
      ]
     },
     "execution_count": 47,
     "metadata": {},
     "output_type": "execute_result"
    }
   ],
   "source": [
    "np.inf > -np.nan"
   ]
  }
 ],
 "metadata": {
  "kernelspec": {
   "display_name": "Python 3",
   "language": "python",
   "name": "python3"
  },
  "language_info": {
   "codemirror_mode": {
    "name": "ipython",
    "version": 3
   },
   "file_extension": ".py",
   "mimetype": "text/x-python",
   "name": "python",
   "nbconvert_exporter": "python",
   "pygments_lexer": "ipython3",
   "version": "3.10.6"
  }
 },
 "nbformat": 4,
 "nbformat_minor": 4
}
