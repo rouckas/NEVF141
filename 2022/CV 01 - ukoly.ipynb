{
 "cells": [
  {
   "cell_type": "markdown",
   "id": "95b33803",
   "metadata": {},
   "source": [
    "## Úvodní cvičení\n",
    "\n",
    "- Probrat používané jazyky - dle volby studentů\n",
    "- Vlastní notebooky?\n",
    "- Pro Pythonisty: ve Windows doporučuji Anacondu, v Linuxu lze používat také, jinak distribuční balíčky\n",
    "- C/C++/Fortran: textový editor + command line, nebo nějaké IDE, např Code::Blocks, VSCode...\n",
    "- Další možnosti: Matlab/Octave, Julia... cokoliv\n",
    "- Pro Python navíc notebooky (Jupyter)\n",
    "- Debugging/profiling - dle zájmu\n",
    "\n",
    "## Podmínky zápočtu\n",
    "\n",
    "Vypracování 2 zápočtových programů\n",
    "\n",
    "## Studijní materiály\n",
    "\n",
    "https://github.com/rouckas/NEVF141/tree/main/2022\n",
    "Budou průběžně aktualizovány"
   ]
  },
  {
   "cell_type": "markdown",
   "id": "6675a529",
   "metadata": {
    "ExecuteTime": {
     "end_time": "2022-10-04T08:06:01.423382Z",
     "start_time": "2022-10-04T08:06:01.413268Z"
    }
   },
   "source": [
    "### Předpokládané znalosti\n",
    "spuštění programu, základní znalosti syntaxe, cykly, podmínky, vstup a výstup, textový a grafický => miniúloha za domácí úkol:\n",
    "\n",
    "    \n",
    "#### Zápis do souboru\n",
    "Vyhodnoťte funkci sin(x) ve 100 bodech na intervalu [0, 10] a uložte hodnoty x a sin(x) do souboru (např csv).\n",
    "\n",
    "#### Čtení ze souboru do pole a grafický výstup\n",
    "Načtěte data uložená v předchozí úloze a vykreslete funkci graficky na obrazovce\n"
   ]
  }
 ],
 "metadata": {
  "kernelspec": {
   "display_name": "Python 3",
   "language": "python",
   "name": "python3"
  },
  "language_info": {
   "codemirror_mode": {
    "name": "ipython",
    "version": 3
   },
   "file_extension": ".py",
   "mimetype": "text/x-python",
   "name": "python",
   "nbconvert_exporter": "python",
   "pygments_lexer": "ipython3",
   "version": "3.10.4"
  }
 },
 "nbformat": 4,
 "nbformat_minor": 5
}
