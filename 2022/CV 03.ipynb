{
 "cells": [
  {
   "cell_type": "code",
   "execution_count": 1,
   "metadata": {
    "ExecuteTime": {
     "end_time": "2022-10-31T20:49:12.533046Z",
     "start_time": "2022-10-31T20:49:11.845606Z"
    }
   },
   "outputs": [],
   "source": [
    "import numpy as np\n",
    "import matplotlib.pyplot as plt"
   ]
  },
  {
   "cell_type": "markdown",
   "metadata": {},
   "source": [
    "# Hledání kořenů\n",
    "\n",
    "Naprogramujte hledání kořenů metodou půlení intervalu.\n",
    "\n",
    "Najděte kořen sin(x) mezi 3 a 4 metodou půlení intervalu"
   ]
  },
  {
   "cell_type": "code",
   "execution_count": 2,
   "metadata": {
    "ExecuteTime": {
     "end_time": "2022-10-31T20:49:12.536715Z",
     "start_time": "2022-10-31T20:49:12.534543Z"
    }
   },
   "outputs": [],
   "source": [
    "a, b = 3, 4\n",
    "f = np.sin"
   ]
  },
  {
   "cell_type": "code",
   "execution_count": 3,
   "metadata": {
    "ExecuteTime": {
     "end_time": "2022-10-31T20:49:13.060305Z",
     "start_time": "2022-10-31T20:49:13.056613Z"
    }
   },
   "outputs": [],
   "source": [
    "def bisect(f, a, b, maxiter=53):\n",
    "    # ukol: definujte tělo této funkce\n",
    "    if np.sign(f(a))*np.sign(f(b)) >= 0:\n",
    "        raise(ValueError(\"Function sign must differ at a and b\"))\n",
    "    \n",
    "    for i in range(maxiter):\n",
    "        m = (a+b)/2.\n",
    "        fm = f(m)\n",
    "        if m in [a, b] or fm == 0:\n",
    "            # floating point tolerance reached or exact solution found\n",
    "            return m\n",
    "        \n",
    "        if fm*np.sign(f(a)) < 0:\n",
    "            b = m\n",
    "        elif fm*np.sign(f(b)) < 0:\n",
    "            a = m\n",
    "    \n",
    "    return m"
   ]
  },
  {
   "cell_type": "code",
   "execution_count": 4,
   "metadata": {
    "ExecuteTime": {
     "end_time": "2022-10-31T20:49:13.353629Z",
     "start_time": "2022-10-31T20:49:13.344186Z"
    }
   },
   "outputs": [
    {
     "data": {
      "text/plain": [
       "3.141592653589793"
      ]
     },
     "execution_count": 4,
     "metadata": {},
     "output_type": "execute_result"
    }
   ],
   "source": [
    "bisect(f, 3, 4)"
   ]
  },
  {
   "cell_type": "markdown",
   "metadata": {},
   "source": [
    "### Newtonova metoda\n",
    "\n",
    "pro lin. funkci platí \n",
    "$$ f'(a_n) = \\frac{f(a_{n+1}) - f(a_n)}{a_{n+1} - a_n}$$\n",
    "hledáme $a_{n+1}$ aby $f(a_{n+1}) == 0$\n",
    "$$ f'(a_n) = -\\frac{f(a_n)}{a_{n+1} - a_{n}}$$\n",
    "$$a_{n+1} = a_{n}-\\frac{f(a_n)}{f'(a_n)}$$"
   ]
  },
  {
   "cell_type": "code",
   "execution_count": 5,
   "metadata": {
    "ExecuteTime": {
     "end_time": "2022-10-31T20:49:13.982785Z",
     "start_time": "2022-10-31T20:49:13.979989Z"
    }
   },
   "outputs": [],
   "source": [
    "def newton(f, df, a, maxiter=4):\n",
    "    for i in range(maxiter):\n",
    "        a_new = a - f(a)/df(a)\n",
    "        if a_new == a:\n",
    "            return a\n",
    "        a = a_new\n",
    "    return a"
   ]
  },
  {
   "cell_type": "code",
   "execution_count": 6,
   "metadata": {
    "ExecuteTime": {
     "end_time": "2022-10-31T20:49:20.366238Z",
     "start_time": "2022-10-31T20:49:20.362305Z"
    }
   },
   "outputs": [],
   "source": [
    "df = np.cos"
   ]
  },
  {
   "cell_type": "code",
   "execution_count": 7,
   "metadata": {
    "ExecuteTime": {
     "end_time": "2022-10-31T20:49:20.693567Z",
     "start_time": "2022-10-31T20:49:20.690333Z"
    }
   },
   "outputs": [
    {
     "data": {
      "text/plain": [
       "(15.707963267948964, 3.141592653589793)"
      ]
     },
     "execution_count": 7,
     "metadata": {},
     "output_type": "execute_result"
    }
   ],
   "source": [
    "newton(f, df, 4.8), newton(f, df, 4.)"
   ]
  },
  {
   "cell_type": "markdown",
   "metadata": {},
   "source": [
    "# Minimalizace"
   ]
  },
  {
   "cell_type": "markdown",
   "metadata": {},
   "source": [
    "Úkol č. 1: naprogramujte hledání minima metoda zlatého řezu (dělení intervalu).\n",
    "\n",
    "Najděte minimum funkce `cos(x)` v intervalu `[2, 4]`. Sledujte rychlost konvergence - tedy přesnost určení polohy minima `xmin` a funkční hodnoty `cos(xmin)` v minimu v závislosti na počtu iterací. S jakou přesností lze tyto parametry určit?"
   ]
  },
  {
   "cell_type": "markdown",
   "metadata": {},
   "source": [
    "Poté najděte minimum funkce `1 + (x-0.1)**4` na intervalu `[-1, 1]` a obdobným způsobem zhodnoťte přenost určení minima."
   ]
  },
  {
   "cell_type": "code",
   "execution_count": 8,
   "metadata": {
    "ExecuteTime": {
     "end_time": "2022-10-31T20:49:23.354101Z",
     "start_time": "2022-10-31T20:49:23.347550Z"
    }
   },
   "outputs": [],
   "source": [
    "def golden_min(f, a, b, tol=1e-5):\n",
    "    iphi = 2/(np.sqrt(5) + 1) # 0.618...\n",
    "    approximations = [[a, b]]\n",
    "    \n",
    "    c = b - (b - a) * iphi\n",
    "    d = a + (b - a) * iphi\n",
    "    while np.abs(b - a) > tol:\n",
    "        if f(c) < f(d):\n",
    "            b = d\n",
    "        else:\n",
    "            a = c\n",
    "            \n",
    "        approximations.append([a,b])\n",
    "        \n",
    "        c = b - (b - a) * iphi\n",
    "        d = a + (b - a) * iphi\n",
    "        \n",
    "    return (b + a) / 2, np.array(approximations)\n",
    "    "
   ]
  },
  {
   "cell_type": "code",
   "execution_count": 9,
   "metadata": {
    "ExecuteTime": {
     "end_time": "2022-10-31T20:49:25.196749Z",
     "start_time": "2022-10-31T20:49:25.193947Z"
    }
   },
   "outputs": [],
   "source": [
    "f = np.cos\n",
    "xmin, approx = golden_min(f, 3, 4, tol=1e-14)"
   ]
  },
  {
   "cell_type": "code",
   "execution_count": 10,
   "metadata": {
    "ExecuteTime": {
     "end_time": "2022-10-31T20:49:25.879030Z",
     "start_time": "2022-10-31T20:49:25.766129Z"
    }
   },
   "outputs": [
    {
     "data": {
      "text/plain": [
       "[<matplotlib.lines.Line2D at 0x7f5e02159810>]"
      ]
     },
     "execution_count": 10,
     "metadata": {},
     "output_type": "execute_result"
    },
    {
     "data": {
      "image/png": "[encoded data removed]",
      "text/plain": [
       "<Figure size 432x288 with 1 Axes>"
      ]
     },
     "metadata": {
      "needs_background": "light"
     },
     "output_type": "display_data"
    }
   ],
   "source": [
    "plt.plot(np.arange(approx.shape[0]), approx[:,0])\n",
    "plt.plot(np.arange(approx.shape[0]), approx[:,1])"
   ]
  },
  {
   "cell_type": "code",
   "execution_count": 11,
   "metadata": {
    "ExecuteTime": {
     "end_time": "2022-10-31T20:49:26.862818Z",
     "start_time": "2022-10-31T20:49:26.426680Z"
    }
   },
   "outputs": [
    {
     "data": {
      "image/png": "[encoded data removed]",
      "text/plain": [
       "<Figure size 432x288 with 1 Axes>"
      ]
     },
     "metadata": {
      "needs_background": "light"
     },
     "output_type": "display_data"
    }
   ],
   "source": [
    "plt.plot(np.arange(approx.shape[0]), np.abs(approx[:,0]-np.pi))\n",
    "plt.plot(np.arange(approx.shape[0]), np.abs(approx[:,1]-np.pi))\n",
    "plt.plot(np.arange(approx.shape[0]), np.abs(f(approx[:,0])+1), \"--\")\n",
    "plt.plot(np.arange(approx.shape[0]), np.abs(f(approx[:,1])+1), \"--\")\n",
    "plt.grid()\n",
    "plt.gca().set_yscale(\"log\")"
   ]
  },
  {
   "cell_type": "code",
   "execution_count": 12,
   "metadata": {
    "ExecuteTime": {
     "end_time": "2022-10-31T20:49:27.050403Z",
     "start_time": "2022-10-31T20:49:27.043159Z"
    }
   },
   "outputs": [
    {
     "data": {
      "text/plain": [
       "1.0536708838770892e-08"
      ]
     },
     "execution_count": 12,
     "metadata": {},
     "output_type": "execute_result"
    }
   ],
   "source": [
    "xmin - np.pi # ~sqrt(eps)"
   ]
  },
  {
   "cell_type": "code",
   "execution_count": 13,
   "metadata": {
    "ExecuteTime": {
     "end_time": "2022-10-31T20:49:27.600128Z",
     "start_time": "2022-10-31T20:49:27.597644Z"
    }
   },
   "outputs": [],
   "source": [
    "f = lambda x: 1+(x-0.1)**4\n",
    "true_min = 0.1\n"
   ]
  },
  {
   "cell_type": "code",
   "execution_count": 14,
   "metadata": {
    "ExecuteTime": {
     "end_time": "2022-10-31T20:49:28.300461Z",
     "start_time": "2022-10-31T20:49:28.207343Z"
    }
   },
   "outputs": [
    {
     "data": {
      "text/plain": [
       "[<matplotlib.lines.Line2D at 0x7f5df9f54670>]"
      ]
     },
     "execution_count": 14,
     "metadata": {},
     "output_type": "execute_result"
    },
    {
     "data": {
      "image/png": "[encoded data removed]",
      "text/plain": [
       "<Figure size 432x288 with 1 Axes>"
      ]
     },
     "metadata": {
      "needs_background": "light"
     },
     "output_type": "display_data"
    }
   ],
   "source": [
    "x = np.linspace(-1, 1)\n",
    "plt.plot(x, f(x))"
   ]
  },
  {
   "cell_type": "code",
   "execution_count": 15,
   "metadata": {
    "ExecuteTime": {
     "end_time": "2022-10-31T20:49:28.417995Z",
     "start_time": "2022-10-31T20:49:28.413005Z"
    }
   },
   "outputs": [],
   "source": [
    "xmin, approx = golden_min(f, -1, 1, tol=1e-14)"
   ]
  },
  {
   "cell_type": "code",
   "execution_count": 16,
   "metadata": {
    "ExecuteTime": {
     "end_time": "2022-10-31T20:49:29.226258Z",
     "start_time": "2022-10-31T20:49:29.035010Z"
    }
   },
   "outputs": [
    {
     "data": {
      "image/png": "[encoded data removed]",
      "text/plain": [
       "<Figure size 432x288 with 1 Axes>"
      ]
     },
     "metadata": {
      "needs_background": "light"
     },
     "output_type": "display_data"
    }
   ],
   "source": [
    "plt.plot(np.arange(approx.shape[0]), np.abs(approx[:,0]-true_min))\n",
    "plt.plot(np.arange(approx.shape[0]), np.abs(approx[:,1]-true_min))\n",
    "plt.plot(np.arange(approx.shape[0]), np.abs(f(approx[:,0])-f(true_min)), \"--\")\n",
    "plt.plot(np.arange(approx.shape[0]), np.abs(f(approx[:,1])-f(true_min)), \"--\")\n",
    "plt.grid()\n",
    "plt.gca().set_yscale(\"log\")"
   ]
  },
  {
   "cell_type": "code",
   "execution_count": 17,
   "metadata": {
    "ExecuteTime": {
     "end_time": "2022-10-31T20:49:29.247879Z",
     "start_time": "2022-10-31T20:49:29.242799Z"
    }
   },
   "outputs": [
    {
     "data": {
      "text/plain": [
       "0.1001026484881866"
      ]
     },
     "execution_count": 17,
     "metadata": {},
     "output_type": "execute_result"
    }
   ],
   "source": [
    "xmin"
   ]
  },
  {
   "cell_type": "markdown",
   "metadata": {},
   "source": [
    "Ukázka Newtonovy metody\n"
   ]
  },
  {
   "cell_type": "code",
   "execution_count": 18,
   "metadata": {
    "ExecuteTime": {
     "end_time": "2022-10-31T20:49:29.961258Z",
     "start_time": "2022-10-31T20:49:29.954920Z"
    }
   },
   "outputs": [],
   "source": [
    "def newton_min(f, df, ddf, a):\n",
    "    for i in range(10):\n",
    "        a_new = a - df(a)/ddf(a)\n",
    "        if a_new == a:\n",
    "            if ddf(a) > 0:\n",
    "                return a\n",
    "            else:\n",
    "                raise(RuntimeError(\"Method did not converge to minimum\"))\n",
    "        a = a_new"
   ]
  },
  {
   "cell_type": "code",
   "execution_count": 19,
   "metadata": {
    "ExecuteTime": {
     "end_time": "2022-10-31T20:49:30.410954Z",
     "start_time": "2022-10-31T20:49:30.406229Z"
    }
   },
   "outputs": [],
   "source": [
    "def f(x): return x**2 + x\n",
    "def df(x): return 2*x + 1\n",
    "def ddf(x): return 2"
   ]
  },
  {
   "cell_type": "code",
   "execution_count": 20,
   "metadata": {
    "ExecuteTime": {
     "end_time": "2022-10-31T20:49:31.760448Z",
     "start_time": "2022-10-31T20:49:31.756329Z"
    }
   },
   "outputs": [
    {
     "data": {
      "text/plain": [
       "-0.5"
      ]
     },
     "execution_count": 20,
     "metadata": {},
     "output_type": "execute_result"
    }
   ],
   "source": [
    "newton_min(f, df, ddf, 1)"
   ]
  },
  {
   "cell_type": "code",
   "execution_count": 21,
   "metadata": {
    "ExecuteTime": {
     "end_time": "2022-10-31T20:49:32.299277Z",
     "start_time": "2022-10-31T20:49:32.203859Z"
    }
   },
   "outputs": [
    {
     "data": {
      "image/png": "[encoded data removed]",
      "text/plain": [
       "<Figure size 432x288 with 1 Axes>"
      ]
     },
     "metadata": {
      "needs_background": "light"
     },
     "output_type": "display_data"
    }
   ],
   "source": [
    "x = np.linspace(-2, 2)\n",
    "plt.plot(x, f(x))\n",
    "plt.ylim(ymax=2)\n",
    "plt.grid()"
   ]
  }
 ],
 "metadata": {
  "kernelspec": {
   "display_name": "Python 3",
   "language": "python",
   "name": "python3"
  },
  "language_info": {
   "codemirror_mode": {
    "name": "ipython",
    "version": 3
   },
   "file_extension": ".py",
   "mimetype": "text/x-python",
   "name": "python",
   "nbconvert_exporter": "python",
   "pygments_lexer": "ipython3",
   "version": "3.10.6"
  }
 },
 "nbformat": 4,
 "nbformat_minor": 4
}
