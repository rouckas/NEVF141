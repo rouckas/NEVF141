{
 "cells": [
  {
   "cell_type": "markdown",
   "id": "2ea6df02",
   "metadata": {},
   "source": [
    "# Exercise 01"
   ]
  },
  {
   "cell_type": "markdown",
   "id": "eb489d76",
   "metadata": {},
   "source": [
    "\n",
    "## Credit conditions\n",
    "\n",
    "Making of 2 credit programs\n",
    "\n",
    "## Study materials\n",
    "\n",
    "https://github.com/rouckas/NEVF141/tree/main/2023\n",
    "Will be updated"
   ]
  },
  {
   "cell_type": "markdown",
   "id": "28f52c27",
   "metadata": {
    "ExecuteTime": {
     "end_time": "2023-10-31T09:03:08.183624Z",
     "start_time": "2023-10-31T09:03:08.180203Z"
    }
   },
   "source": [
    "## Floating point arithmetic\n",
    "print float 0.1 with 19 decimal places precision\n",
    "\n",
    "calculate $1+10^{-15}$ a $1+10^{-16}$"
   ]
  },
  {
   "cell_type": "code",
   "execution_count": 1,
   "id": "11c0deb2",
   "metadata": {
    "ExecuteTime": {
     "end_time": "2023-11-02T20:44:30.619132Z",
     "start_time": "2023-11-02T20:44:30.610228Z"
    }
   },
   "outputs": [
    {
     "data": {
      "text/plain": [
       "1.000000000000001"
      ]
     },
     "execution_count": 1,
     "metadata": {},
     "output_type": "execute_result"
    }
   ],
   "source": [
    "1+1e-15"
   ]
  },
  {
   "cell_type": "code",
   "execution_count": 2,
   "id": "f11c8f6f",
   "metadata": {
    "ExecuteTime": {
     "end_time": "2023-11-02T20:44:31.237629Z",
     "start_time": "2023-11-02T20:44:31.231824Z"
    }
   },
   "outputs": [
    {
     "data": {
      "text/plain": [
       "1.0"
      ]
     },
     "execution_count": 2,
     "metadata": {},
     "output_type": "execute_result"
    }
   ],
   "source": [
    "1+1e-16"
   ]
  },
  {
   "cell_type": "code",
   "execution_count": 3,
   "id": "e7e895c5",
   "metadata": {
    "ExecuteTime": {
     "end_time": "2023-11-02T20:44:38.576037Z",
     "start_time": "2023-11-02T20:44:38.569962Z"
    }
   },
   "outputs": [
    {
     "data": {
      "text/plain": [
       "'0.1000000000000000056'"
      ]
     },
     "execution_count": 3,
     "metadata": {},
     "output_type": "execute_result"
    }
   ],
   "source": [
    "\"%.19f\"%0.1"
   ]
  },
  {
   "cell_type": "markdown",
   "id": "4eed0249",
   "metadata": {},
   "source": [
    "How many decimal places has a float64 with 53-bit mantissa?"
   ]
  },
  {
   "cell_type": "code",
   "execution_count": 4,
   "id": "1a9f3d68",
   "metadata": {
    "ExecuteTime": {
     "end_time": "2023-11-02T20:44:43.542204Z",
     "start_time": "2023-11-02T20:44:43.536828Z"
    }
   },
   "outputs": [
    {
     "data": {
      "text/plain": [
       "1.1102230246251565e-16"
      ]
     },
     "execution_count": 4,
     "metadata": {},
     "output_type": "execute_result"
    }
   ],
   "source": [
    "1/2**53"
   ]
  },
  {
   "cell_type": "markdown",
   "id": "ca672353",
   "metadata": {},
   "source": [
    "Calculate $1.001-1$"
   ]
  },
  {
   "cell_type": "code",
   "execution_count": 5,
   "id": "60ab15b0",
   "metadata": {
    "ExecuteTime": {
     "end_time": "2023-11-02T20:44:44.865351Z",
     "start_time": "2023-11-02T20:44:44.860870Z"
    }
   },
   "outputs": [
    {
     "data": {
      "text/plain": [
       "0.0009999999999998899"
      ]
     },
     "execution_count": 5,
     "metadata": {},
     "output_type": "execute_result"
    }
   ],
   "source": [
    "1.001-1"
   ]
  },
  {
   "cell_type": "markdown",
   "id": "5dc53069",
   "metadata": {},
   "source": [
    "Order of operations matters - calculate $10^{-15}+1-1$ and $1-1+10^{-15}$"
   ]
  },
  {
   "cell_type": "code",
   "execution_count": 6,
   "id": "eaf3fb47",
   "metadata": {
    "ExecuteTime": {
     "end_time": "2023-11-02T20:44:51.814448Z",
     "start_time": "2023-11-02T20:44:51.809935Z"
    }
   },
   "outputs": [
    {
     "data": {
      "text/plain": [
       "1.1102230246251565e-15"
      ]
     },
     "execution_count": 6,
     "metadata": {},
     "output_type": "execute_result"
    }
   ],
   "source": [
    "1e-15+1-1"
   ]
  },
  {
   "cell_type": "code",
   "execution_count": 7,
   "id": "21ee5e4d",
   "metadata": {
    "ExecuteTime": {
     "end_time": "2023-11-02T20:44:52.806122Z",
     "start_time": "2023-11-02T20:44:52.801208Z"
    }
   },
   "outputs": [
    {
     "data": {
      "text/plain": [
       "1e-15"
      ]
     },
     "execution_count": 7,
     "metadata": {},
     "output_type": "execute_result"
    }
   ],
   "source": [
    "1-1+1e-15"
   ]
  },
  {
   "cell_type": "markdown",
   "id": "09bb4813",
   "metadata": {},
   "source": [
    "Error amplification: Calculate the terms  of the following sequence for $j=1\\ldots10$:\n",
    "\n",
    "$$x_0 = 1$$\n",
    "$$x_j = (1.01 - x_{j-1})\\cdot 100$$\n",
    "\n",
    "and compare with hand calculation..."
   ]
  },
  {
   "cell_type": "code",
   "execution_count": 8,
   "id": "26e1bf19",
   "metadata": {
    "ExecuteTime": {
     "end_time": "2023-11-02T20:45:01.932279Z",
     "start_time": "2023-11-02T20:45:01.929308Z"
    }
   },
   "outputs": [
    {
     "name": "stdout",
     "output_type": "stream",
     "text": [
      "1 1.0000000000000009\n",
      "2 0.9999999999999121\n",
      "3 1.0000000000087939\n",
      "4 0.9999999991206154\n",
      "5 1.0000000879384574\n",
      "6 0.9999912061542604\n",
      "7 1.0008793845739605\n",
      "8 0.912061542603948\n",
      "9 9.7938457396052\n",
      "10 -878.38457396052\n"
     ]
    }
   ],
   "source": [
    "x = 1\n",
    "# ukol 1\n",
    "for j in range(1, 11):\n",
    "    x = (1.01-x)*100\n",
    "    print(j, x)"
   ]
  },
  {
   "cell_type": "code",
   "execution_count": 9,
   "id": "9a8ea4c1",
   "metadata": {
    "ExecuteTime": {
     "end_time": "2023-11-02T20:45:02.719974Z",
     "start_time": "2023-11-02T20:45:02.647045Z"
    }
   },
   "outputs": [],
   "source": [
    "import numpy as np"
   ]
  },
  {
   "cell_type": "code",
   "execution_count": 10,
   "id": "fb96983f",
   "metadata": {
    "ExecuteTime": {
     "end_time": "2023-11-02T20:45:03.313164Z",
     "start_time": "2023-11-02T20:45:03.310660Z"
    }
   },
   "outputs": [
    {
     "name": "stdout",
     "output_type": "stream",
     "text": [
      "1 0.99999999999999999913\n",
      "2 1.0000000000000000859\n",
      "3 0.99999999999999141225\n",
      "4 1.000000000000858774\n",
      "5 0.9999999999141226002\n",
      "6 1.0000000085877399801\n",
      "7 0.99999914122600199167\n",
      "8 1.000085877399800832\n",
      "9 0.99141226001991679655\n",
      "10 1.8587739980083203438\n"
     ]
    }
   ],
   "source": [
    "x = 1\n",
    "y = np.float128(101)/100\n",
    "for j in range(1, 11):\n",
    "    x = (y-x)*100\n",
    "    print(j, x)"
   ]
  },
  {
   "cell_type": "code",
   "execution_count": 11,
   "id": "1b32548c",
   "metadata": {
    "ExecuteTime": {
     "end_time": "2023-11-02T20:45:03.932775Z",
     "start_time": "2023-11-02T20:45:03.927757Z"
    }
   },
   "outputs": [
    {
     "data": {
      "text/plain": [
       "1.0100000000000000089"
      ]
     },
     "execution_count": 11,
     "metadata": {},
     "output_type": "execute_result"
    }
   ],
   "source": [
    "np.float128(1.01)"
   ]
  },
  {
   "cell_type": "code",
   "execution_count": 12,
   "id": "1bcc0646",
   "metadata": {
    "ExecuteTime": {
     "end_time": "2023-11-02T20:45:04.621982Z",
     "start_time": "2023-11-02T20:45:04.575938Z"
    }
   },
   "outputs": [
    {
     "name": "stdout",
     "output_type": "stream",
     "text": [
      "1 0.99999999999999999999999999999998\n",
      "2 1.0000000000000000000000000000018\n",
      "3 0.99999999999999999999999999981694\n",
      "4 1.0000000000000000000000000183059\n",
      "5 0.99999999999999999999999816941312\n",
      "6 1.0000000000000000000001830586878\n",
      "7 0.99999999999999999998169413122167\n",
      "8 1.0000000000000000018305868778334\n",
      "9 0.99999999999999981694131221665877\n",
      "10 1.000000000000018305868778334123\n"
     ]
    }
   ],
   "source": [
    "from mpmath import mp\n",
    "mp.dps = 32 # pracujeme na 32 desetinnych mist\n",
    "x = 1\n",
    "y = mp.mpf(\"1.01\")\n",
    "for j in range(1, 11):\n",
    "    x = (y-x)*100\n",
    "    print(j, x)"
   ]
  },
  {
   "cell_type": "markdown",
   "id": "75360447",
   "metadata": {},
   "source": [
    "show improvement with higher precision floats..."
   ]
  },
  {
   "cell_type": "markdown",
   "id": "d0a603a5",
   "metadata": {},
   "source": [
    "## Series summation\n",
    "Calculate \n",
    "\n",
    "$$y = \\sum_{i=0}^{1000} \\frac{1}{10^{-6} + i}$$\n",
    "\n",
    " - in order\n",
    " - in reverse order\n",
    " - using the builtin `sum` and `math.fsum`\n",
    "\n",
    "and compare the results"
   ]
  },
  {
   "cell_type": "code",
   "execution_count": 13,
   "id": "dac09cdf",
   "metadata": {
    "ExecuteTime": {
     "end_time": "2023-11-02T20:45:07.319971Z",
     "start_time": "2023-11-02T20:45:07.317842Z"
    }
   },
   "outputs": [],
   "source": [
    "x = np.arange(1001)\n",
    "y = 1/(1e-6 + x)"
   ]
  },
  {
   "cell_type": "code",
   "execution_count": 14,
   "id": "dfb30092",
   "metadata": {
    "ExecuteTime": {
     "end_time": "2023-11-02T20:45:13.377604Z",
     "start_time": "2023-11-02T20:45:13.368921Z"
    }
   },
   "outputs": [
    {
     "data": {
      "text/plain": [
       "1000007.4854692194"
      ]
     },
     "execution_count": 14,
     "metadata": {},
     "output_type": "execute_result"
    }
   ],
   "source": [
    "s = 0\n",
    "for i in y: s += i\n",
    "s"
   ]
  },
  {
   "cell_type": "code",
   "execution_count": 15,
   "id": "39b65292",
   "metadata": {
    "ExecuteTime": {
     "end_time": "2023-11-02T20:45:14.019877Z",
     "start_time": "2023-11-02T20:45:14.012530Z"
    }
   },
   "outputs": [
    {
     "data": {
      "text/plain": [
       "1000007.4854692166"
      ]
     },
     "execution_count": 15,
     "metadata": {},
     "output_type": "execute_result"
    }
   ],
   "source": [
    "s = 0\n",
    "for i in y[::-1]: s += i\n",
    "s"
   ]
  },
  {
   "cell_type": "code",
   "execution_count": 16,
   "id": "f35962fc",
   "metadata": {
    "ExecuteTime": {
     "end_time": "2023-11-02T20:45:14.740337Z",
     "start_time": "2023-11-02T20:45:14.734602Z"
    }
   },
   "outputs": [
    {
     "data": {
      "text/plain": [
       "1000007.4854692194"
      ]
     },
     "execution_count": 16,
     "metadata": {},
     "output_type": "execute_result"
    }
   ],
   "source": [
    "sum(y)"
   ]
  },
  {
   "cell_type": "code",
   "execution_count": 17,
   "id": "be11642a",
   "metadata": {
    "ExecuteTime": {
     "end_time": "2023-11-02T20:45:15.386391Z",
     "start_time": "2023-11-02T20:45:15.378699Z"
    }
   },
   "outputs": [
    {
     "data": {
      "text/plain": [
       "1000007.4854692166"
      ]
     },
     "execution_count": 17,
     "metadata": {},
     "output_type": "execute_result"
    }
   ],
   "source": [
    "import math\n",
    "math.fsum(y)"
   ]
  },
  {
   "cell_type": "code",
   "execution_count": 18,
   "id": "0dbc7df7",
   "metadata": {
    "ExecuteTime": {
     "end_time": "2023-11-02T20:45:18.609899Z",
     "start_time": "2023-11-02T20:45:18.604395Z"
    }
   },
   "outputs": [
    {
     "data": {
      "text/plain": [
       "1000007.4854692165"
      ]
     },
     "execution_count": 18,
     "metadata": {},
     "output_type": "execute_result"
    }
   ],
   "source": [
    "np.sum(y)"
   ]
  },
  {
   "cell_type": "code",
   "execution_count": 19,
   "id": "0c6b9e55",
   "metadata": {
    "ExecuteTime": {
     "end_time": "2023-11-02T20:45:19.646898Z",
     "start_time": "2023-11-02T20:45:19.113514Z"
    }
   },
   "outputs": [
    {
     "data": {
      "text/latex": [
       "$\\displaystyle \\sum_{si=0}^{1000} \\frac{1}{si + \\frac{1}{1000000}}$"
      ],
      "text/plain": [
       "Sum(1/(si + 1/1000000), (si, 0, 1000))"
      ]
     },
     "execution_count": 19,
     "metadata": {},
     "output_type": "execute_result"
    }
   ],
   "source": [
    "import sympy as sp\n",
    "si = sp.Symbol(\"si\")\n",
    "series = sp.Sum(1/(sp.S(10)**(-6) + si), (si, 0, 1000))\n",
    "series"
   ]
  },
  {
   "cell_type": "code",
   "execution_count": 20,
   "id": "b4e69451",
   "metadata": {
    "ExecuteTime": {
     "end_time": "2023-11-02T20:45:20.870190Z",
     "start_time": "2023-11-02T20:45:20.740806Z"
    }
   },
   "outputs": [
    {
     "data": {
      "text/latex": [
       "$\\displaystyle 1000007.48546921661698028641805$"
      ],
      "text/plain": [
       "1000007.48546921661698028641805"
      ]
     },
     "execution_count": 20,
     "metadata": {},
     "output_type": "execute_result"
    }
   ],
   "source": [
    "series.evalf(30)"
   ]
  },
  {
   "cell_type": "markdown",
   "id": "a1bf5553",
   "metadata": {},
   "source": [
    "Which answer is correct? Check with Sympy"
   ]
  },
  {
   "cell_type": "markdown",
   "id": "5593006c",
   "metadata": {},
   "source": [
    "Which an"
   ]
  },
  {
   "cell_type": "markdown",
   "id": "0f917a2b",
   "metadata": {},
   "source": [
    "Number comparison: check equality of:\n",
    "\n",
    "$1+ 10^{-16}$ and $1$;\n",
    "\n",
    "$(1.01-1)\\cdot100$ and $1$"
   ]
  },
  {
   "cell_type": "code",
   "execution_count": 21,
   "id": "eb4db6d8",
   "metadata": {
    "ExecuteTime": {
     "end_time": "2023-11-02T20:45:26.324771Z",
     "start_time": "2023-11-02T20:45:26.321442Z"
    }
   },
   "outputs": [
    {
     "data": {
      "text/plain": [
       "True"
      ]
     },
     "execution_count": 21,
     "metadata": {},
     "output_type": "execute_result"
    }
   ],
   "source": [
    "1+1e-16 == 1"
   ]
  },
  {
   "cell_type": "code",
   "execution_count": 22,
   "id": "599013b8",
   "metadata": {
    "ExecuteTime": {
     "end_time": "2023-11-02T20:45:27.669982Z",
     "start_time": "2023-11-02T20:45:27.666677Z"
    }
   },
   "outputs": [
    {
     "data": {
      "text/plain": [
       "False"
      ]
     },
     "execution_count": 22,
     "metadata": {},
     "output_type": "execute_result"
    }
   ],
   "source": [
    "1 == (1.01 - 1)*100"
   ]
  },
  {
   "cell_type": "markdown",
   "id": "d479742d",
   "metadata": {},
   "source": [
    "Due to roundoff error, equality comparisons are complicated. Better to check equality with limited relative and absolute error, e.g., `isclose`"
   ]
  },
  {
   "cell_type": "code",
   "execution_count": 23,
   "id": "11eefe8c",
   "metadata": {
    "ExecuteTime": {
     "end_time": "2023-11-02T20:50:40.514482Z",
     "start_time": "2023-11-02T20:50:40.511282Z"
    }
   },
   "outputs": [],
   "source": [
    "def isclose(a, b, rel_tol=1e-9, abs_tol=0.0):\n",
    "    return abs(a-b) <= max(rel_tol * max(abs(a), abs(b)), abs_tol)"
   ]
  },
  {
   "cell_type": "code",
   "execution_count": 24,
   "id": "b1adea4d",
   "metadata": {
    "ExecuteTime": {
     "end_time": "2023-11-02T20:50:40.802805Z",
     "start_time": "2023-11-02T20:50:40.799659Z"
    }
   },
   "outputs": [
    {
     "data": {
      "text/plain": [
       "True"
      ]
     },
     "execution_count": 24,
     "metadata": {},
     "output_type": "execute_result"
    }
   ],
   "source": [
    "isclose(1, (1.01 - 1)*100)"
   ]
  },
  {
   "cell_type": "markdown",
   "id": "0a6dc9cc",
   "metadata": {},
   "source": [
    "Or better use the library functions `np.isclose` or `math.isclose`, that guarrantee correct behavior with inf or NaN..."
   ]
  },
  {
   "cell_type": "code",
   "execution_count": 25,
   "id": "f45e6eeb",
   "metadata": {
    "ExecuteTime": {
     "end_time": "2023-11-02T20:50:44.440358Z",
     "start_time": "2023-11-02T20:50:44.429951Z"
    }
   },
   "outputs": [
    {
     "data": {
      "text/plain": [
       "True"
      ]
     },
     "execution_count": 25,
     "metadata": {},
     "output_type": "execute_result"
    }
   ],
   "source": [
    "np.isclose(1, (1.01 - 1)*100)"
   ]
  },
  {
   "cell_type": "markdown",
   "id": "274e59d3",
   "metadata": {},
   "source": [
    "#### \"Special\" numbers: zero, infinity, NaN"
   ]
  },
  {
   "cell_type": "markdown",
   "id": "06b43f2c",
   "metadata": {},
   "source": [
    "Python is dynamically typed - name is not bound to a data type, like in C/C++. The variable type can be queried with `type` function."
   ]
  },
  {
   "cell_type": "code",
   "execution_count": 26,
   "id": "67a52ba9",
   "metadata": {
    "ExecuteTime": {
     "end_time": "2023-11-02T20:52:29.766852Z",
     "start_time": "2023-11-02T20:52:29.764181Z"
    }
   },
   "outputs": [
    {
     "data": {
      "text/plain": [
       "int"
      ]
     },
     "execution_count": 26,
     "metadata": {},
     "output_type": "execute_result"
    }
   ],
   "source": [
    "x = 0\n",
    "type(x)"
   ]
  },
  {
   "cell_type": "code",
   "execution_count": 27,
   "id": "ff6ffd6d",
   "metadata": {
    "ExecuteTime": {
     "end_time": "2023-11-02T20:52:31.358772Z",
     "start_time": "2023-11-02T20:52:31.356089Z"
    }
   },
   "outputs": [
    {
     "data": {
      "text/plain": [
       "float"
      ]
     },
     "execution_count": 27,
     "metadata": {},
     "output_type": "execute_result"
    }
   ],
   "source": [
    "x = 0.0\n",
    "type(x)"
   ]
  },
  {
   "cell_type": "markdown",
   "id": "ba9b6609",
   "metadata": {},
   "source": [
    "A note about number types in Python: calculate `1/0`, `1/0.0` and `1/np.sin(0)`. Why do the results differ?"
   ]
  },
  {
   "cell_type": "code",
   "execution_count": 28,
   "id": "ff2902a8",
   "metadata": {
    "ExecuteTime": {
     "end_time": "2023-11-02T20:52:34.299243Z",
     "start_time": "2023-11-02T20:52:34.022720Z"
    }
   },
   "outputs": [
    {
     "ename": "ZeroDivisionError",
     "evalue": "division by zero",
     "output_type": "error",
     "traceback": [
      "\u001b[0;31m---------------------------------------------------------------------------\u001b[0m",
      "\u001b[0;31mZeroDivisionError\u001b[0m                         Traceback (most recent call last)",
      "Cell \u001b[0;32mIn [28], line 1\u001b[0m\n\u001b[0;32m----> 1\u001b[0m \u001b[38;5;241;43m1\u001b[39;49m\u001b[38;5;241;43m/\u001b[39;49m\u001b[38;5;241;43m0\u001b[39;49m\n",
      "\u001b[0;31mZeroDivisionError\u001b[0m: division by zero"
     ]
    }
   ],
   "source": [
    "1/0"
   ]
  },
  {
   "cell_type": "code",
   "execution_count": 29,
   "id": "d1cb18b2",
   "metadata": {
    "ExecuteTime": {
     "end_time": "2023-11-02T20:52:40.924071Z",
     "start_time": "2023-11-02T20:52:40.912083Z"
    }
   },
   "outputs": [
    {
     "ename": "ZeroDivisionError",
     "evalue": "float division by zero",
     "output_type": "error",
     "traceback": [
      "\u001b[0;31m---------------------------------------------------------------------------\u001b[0m",
      "\u001b[0;31mZeroDivisionError\u001b[0m                         Traceback (most recent call last)",
      "Cell \u001b[0;32mIn [29], line 1\u001b[0m\n\u001b[0;32m----> 1\u001b[0m \u001b[38;5;241;43m1\u001b[39;49m\u001b[38;5;241;43m/\u001b[39;49m\u001b[38;5;241;43m0.0\u001b[39;49m\n",
      "\u001b[0;31mZeroDivisionError\u001b[0m: float division by zero"
     ]
    }
   ],
   "source": [
    "1/0.0"
   ]
  },
  {
   "cell_type": "code",
   "execution_count": 30,
   "id": "ac7a92e0",
   "metadata": {
    "ExecuteTime": {
     "end_time": "2023-11-02T20:52:41.820588Z",
     "start_time": "2023-11-02T20:52:41.816797Z"
    }
   },
   "outputs": [
    {
     "name": "stderr",
     "output_type": "stream",
     "text": [
      "/tmp/ipykernel_170860/3785197131.py:1: RuntimeWarning: divide by zero encountered in double_scalars\n",
      "  1/np.float64(0)\n"
     ]
    },
    {
     "data": {
      "text/plain": [
       "inf"
      ]
     },
     "execution_count": 30,
     "metadata": {},
     "output_type": "execute_result"
    }
   ],
   "source": [
    "1/np.float64(0)"
   ]
  },
  {
   "cell_type": "markdown",
   "id": "a3a34bca",
   "metadata": {},
   "source": [
    "The problem lies in different floating point number types. Numpy float allows division by zero - it will just emit warning and correctly return inf. This numpy behavior can be modified."
   ]
  },
  {
   "cell_type": "markdown",
   "id": "82129e36",
   "metadata": {},
   "source": [
    "64-bit numpy zero float is created as `np.float64(0)`. This data type can also represent Nan (not a number, undefined expression), +inf, -inf (infinities), +0, -0 (signed zero)."
   ]
  },
  {
   "cell_type": "code",
   "execution_count": 31,
   "id": "d32b427f",
   "metadata": {
    "ExecuteTime": {
     "end_time": "2023-11-02T20:52:44.642898Z",
     "start_time": "2023-11-02T20:52:44.635886Z"
    }
   },
   "outputs": [
    {
     "data": {
      "text/plain": [
       "(-0.0, nan, -inf, inf)"
      ]
     },
     "execution_count": 31,
     "metadata": {},
     "output_type": "execute_result"
    }
   ],
   "source": [
    "-np.float64(0), np.nan, -np.inf, np.inf"
   ]
  },
  {
   "cell_type": "markdown",
   "id": "6e92adeb",
   "metadata": {},
   "source": [
    "Some sample NaN calculations:"
   ]
  },
  {
   "cell_type": "code",
   "execution_count": 32,
   "id": "0546c178",
   "metadata": {
    "ExecuteTime": {
     "end_time": "2023-11-02T20:52:45.393316Z",
     "start_time": "2023-11-02T20:52:45.389004Z"
    }
   },
   "outputs": [
    {
     "name": "stderr",
     "output_type": "stream",
     "text": [
      "/tmp/ipykernel_170860/1809416172.py:1: RuntimeWarning: divide by zero encountered in double_scalars\n",
      "  1/np.float64(0), -1/np.float64(0)\n"
     ]
    },
    {
     "data": {
      "text/plain": [
       "(inf, -inf)"
      ]
     },
     "execution_count": 32,
     "metadata": {},
     "output_type": "execute_result"
    }
   ],
   "source": [
    "1/np.float64(0), -1/np.float64(0)"
   ]
  },
  {
   "cell_type": "code",
   "execution_count": 33,
   "id": "208e1dfc",
   "metadata": {
    "ExecuteTime": {
     "end_time": "2023-11-02T20:52:45.922976Z",
     "start_time": "2023-11-02T20:52:45.915870Z"
    }
   },
   "outputs": [
    {
     "name": "stderr",
     "output_type": "stream",
     "text": [
      "/tmp/ipykernel_170860/608735182.py:1: RuntimeWarning: invalid value encountered in double_scalars\n",
      "  0/np.float64(0)\n"
     ]
    },
    {
     "data": {
      "text/plain": [
       "nan"
      ]
     },
     "execution_count": 33,
     "metadata": {},
     "output_type": "execute_result"
    }
   ],
   "source": [
    "0/np.float64(0)"
   ]
  },
  {
   "cell_type": "markdown",
   "id": "8e5ae0d6",
   "metadata": {},
   "source": [
    "All comparisons with NaN are false."
   ]
  },
  {
   "cell_type": "code",
   "execution_count": 34,
   "id": "e0679d39",
   "metadata": {
    "ExecuteTime": {
     "end_time": "2023-11-02T20:52:46.637111Z",
     "start_time": "2023-11-02T20:52:46.627283Z"
    }
   },
   "outputs": [
    {
     "data": {
      "text/plain": [
       "(False, False, False)"
      ]
     },
     "execution_count": 34,
     "metadata": {},
     "output_type": "execute_result"
    }
   ],
   "source": [
    "np.nan > 3, np.nan <= 3, np.nan == np.nan"
   ]
  },
  {
   "cell_type": "code",
   "execution_count": 35,
   "id": "2e6d03f6",
   "metadata": {
    "ExecuteTime": {
     "end_time": "2023-11-02T20:52:46.825493Z",
     "start_time": "2023-11-02T20:52:46.819651Z"
    }
   },
   "outputs": [
    {
     "data": {
      "text/plain": [
       "True"
      ]
     },
     "execution_count": 35,
     "metadata": {},
     "output_type": "execute_result"
    }
   ],
   "source": [
    "np.inf == np.inf"
   ]
  },
  {
   "cell_type": "code",
   "execution_count": 36,
   "id": "32dd8b26",
   "metadata": {
    "ExecuteTime": {
     "end_time": "2023-11-02T20:52:47.201334Z",
     "start_time": "2023-11-02T20:52:47.191961Z"
    }
   },
   "outputs": [
    {
     "data": {
      "text/plain": [
       "True"
      ]
     },
     "execution_count": 36,
     "metadata": {},
     "output_type": "execute_result"
    }
   ],
   "source": [
    "-np.float64(0) == np.float64(0)"
   ]
  },
  {
   "cell_type": "code",
   "execution_count": 37,
   "id": "4bca5a43",
   "metadata": {
    "ExecuteTime": {
     "end_time": "2023-11-02T20:52:47.420200Z",
     "start_time": "2023-11-02T20:52:47.413045Z"
    }
   },
   "outputs": [
    {
     "data": {
      "text/plain": [
       "0.5"
      ]
     },
     "execution_count": 37,
     "metadata": {},
     "output_type": "execute_result"
    }
   ],
   "source": [
    "np.arctan(np.inf)/np.pi"
   ]
  },
  {
   "cell_type": "code",
   "execution_count": 38,
   "id": "5c3d10a6",
   "metadata": {
    "ExecuteTime": {
     "end_time": "2023-11-02T20:52:48.330740Z",
     "start_time": "2023-11-02T20:52:48.320981Z"
    }
   },
   "outputs": [
    {
     "data": {
      "text/plain": [
       "False"
      ]
     },
     "execution_count": 38,
     "metadata": {},
     "output_type": "execute_result"
    }
   ],
   "source": [
    "np.inf > -np.nan"
   ]
  }
 ],
 "metadata": {
  "kernelspec": {
   "display_name": "Python 3 (ipykernel)",
   "language": "python",
   "name": "python3"
  },
  "language_info": {
   "codemirror_mode": {
    "name": "ipython",
    "version": 3
   },
   "file_extension": ".py",
   "mimetype": "text/x-python",
   "name": "python",
   "nbconvert_exporter": "python",
   "pygments_lexer": "ipython3",
   "version": "3.10.12"
  }
 },
 "nbformat": 4,
 "nbformat_minor": 5
}
