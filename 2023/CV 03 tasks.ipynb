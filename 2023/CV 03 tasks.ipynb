{
 "cells": [
  {
   "cell_type": "markdown",
   "metadata": {},
   "source": [
    "### Integration of ordinary differential equations\n",
    "#### Euler method and its stability"
   ]
  },
  {
   "cell_type": "code",
   "execution_count": 1,
   "metadata": {
    "ExecuteTime": {
     "end_time": "2022-11-01T12:01:17.752403Z",
     "start_time": "2022-11-01T12:01:17.143802Z"
    }
   },
   "outputs": [],
   "source": [
    "import numpy as np\n",
    "import matplotlib.pyplot as plt"
   ]
  },
  {
   "cell_type": "markdown",
   "metadata": {},
   "source": [
    "Solve the differential equation\n",
    "$$y' = \\alpha y$$\n",
    "By the Euler method for $x\\in [0, 6]$, $y(0) = 1$, $\\alpha=-1$. Try different step sizes $\\Delta x = 0.1, 1, 2, 2.5$. The analytic solution converges towards zero. Does it hold for the numerical solution as well?"
   ]
  },
  {
   "cell_type": "code",
   "execution_count": 2,
   "metadata": {
    "ExecuteTime": {
     "end_time": "2022-11-01T12:01:18.597330Z",
     "start_time": "2022-11-01T12:01:18.588358Z"
    }
   },
   "outputs": [],
   "source": [
    "def euler(f, y0, x0, xmax, dx, args=()):\n",
    "    # task 1\n",
    "    ....\n",
    "    return x, y"
   ]
  },
  {
   "cell_type": "code",
   "execution_count": 3,
   "metadata": {
    "ExecuteTime": {
     "end_time": "2022-11-01T12:01:40.289311Z",
     "start_time": "2022-11-01T12:01:40.286575Z"
    }
   },
   "outputs": [],
   "source": [
    "def f(x, y, alpha=-1):\n",
    "    return alpha*y"
   ]
  },
  {
   "cell_type": "code",
   "execution_count": 4,
   "metadata": {
    "ExecuteTime": {
     "end_time": "2022-11-01T12:01:44.464901Z",
     "start_time": "2022-11-01T12:01:44.333160Z"
    }
   },
   "outputs": [
    {
     "data": {
      "image/png": "[encoded data removed]",
      "text/plain": [
       "<Figure size 432x288 with 1 Axes>"
      ]
     },
     "metadata": {
      "needs_background": "light"
     },
     "output_type": "display_data"
    }
   ],
   "source": [
    "for dx in [0.1, 1, 2, 2.5]:\n",
    "    x, y = euler(f, y0=[1], x0=0, xmax=6, dx=dx)\n",
    "    plt.plot(x, y)"
   ]
  },
  {
   "cell_type": "markdown",
   "metadata": {},
   "source": [
    "### Bonus task:\n",
    "The analytic solution converges towards zero if $\\Re(\\alpha) < 0$. If we integrate with time step $\\Delta x=1$, for which values of the complex parameter $\\alpha$ does the Euler method converge? Solve the previous task for real and imaginary values of $\\alpha$ in the range $\\Re(\\alpha)\\in[-2.2, 2.2]$, $\\Im(\\alpha)\\in[-2.2, 2.2]$ and draw the last integrated value in a 2D color map."
   ]
  },
  {
   "cell_type": "code",
   "execution_count": 5,
   "metadata": {
    "ExecuteTime": {
     "end_time": "2022-11-01T12:01:59.761351Z",
     "start_time": "2022-11-01T12:01:58.763898Z"
    }
   },
   "outputs": [],
   "source": [
    "sampl_im = 80\n",
    "sampl_re = 80\n",
    "\n",
    "ylast = np.zeros((sampl_im, sampl_re), dtype=np.complex128)\n",
    "alpha_im = np.linspace(-2.2, 2.2, sampl_im)\n",
    "alpha_re = np.linspace(-2.2, 2.2, sampl_re)\n",
    "for i_re in range(sampl_re):\n",
    "    for i_im in range(sampl_im):\n",
    "        alpha = alpha_re[i_re] + alpha_im[i_im]*1j\n",
    "        x, y = euler(f, y0=[1+0j], x0=0, xmax=40, dx=1, args=(alpha,))\n",
    "        ylast[i_im, i_re] = y[-1]"
   ]
  },
  {
   "cell_type": "code",
   "execution_count": 6,
   "metadata": {
    "ExecuteTime": {
     "end_time": "2022-11-01T12:02:00.588729Z",
     "start_time": "2022-11-01T12:02:00.504144Z"
    }
   },
   "outputs": [
    {
     "data": {
      "image/png": "[encoded data removed]",
      "text/plain": [
       "<Figure size 432x288 with 1 Axes>"
      ]
     },
     "metadata": {
      "needs_background": "light"
     },
     "output_type": "display_data"
    }
   ],
   "source": [
    "plt.imshow(np.abs(ylast[::-1, :]), vmin=0, vmax=10, extent=(-2.2, 2.2, -2.2, 2.2), aspect=\"equal\")\n",
    "plt.gca().set_yticks([-2, -1, 0, 1, 2])\n",
    "plt.grid()"
   ]
  },
  {
   "cell_type": "markdown",
   "metadata": {},
   "source": [
    "### Chemical kinetics\n",
    "Consider the chemical reactions of ions\n",
    "$$\\rm NH^+ + H_2 \\xrightarrow{r_1} NH_2^+ + H$$\n",
    "$$\\rm NH_2^+ + H_2 \\xrightarrow{r_2} NH_3^+ + H$$\n",
    "Ion number densities are described by equations (see the law of mass action, simplifying and treating $[\\rm H_2]$ as a constant...).\n",
    "$$\n",
    "\\frac{\\rm d[NH^+]}{{\\rm d}t} = -r_1[{\\rm NH^+}]\n",
    "$$\n",
    "$$\n",
    "\\frac{\\rm d[NH_2^+]}{{\\rm d}t} = -r_2[{\\rm NH_2^+}] + r_1[{\\rm NH^+}]\n",
    "$$\n",
    "$$\n",
    "\\frac{\\rm d[NH_3^+]}{{\\rm d}t} = r_2[{\\rm NH_2^+}]\n",
    "$$\n",
    "Assume that $r_1 = 200\\,\\rm s^{-1}$  and $r_2 = 100\\,\\rm s^{-1}$. Calculate the evolution of ion number densities for the initial value of $\\rm [NH_2^+] = 10^3\\,\\rm cm^{-3}$.\n",
    "\n",
    "Note: the right-hand side can also be written as\n",
    "$$\n",
    "\\frac{\\rm d}{{\\rm d}t}\n",
    "\\left(\\begin{matrix}{}\n",
    "           {\\rm [NH^+]}\\\\\\\n",
    "           {\\rm [NH_2^+]}\\\\\\\n",
    "           {\\rm [NH_3^+]}\n",
    "    \\end{matrix}\\right) =\n",
    "\\left(\\begin{matrix}{}\n",
    "           -r_1 & 0    & 0\\\\\\\n",
    "            r_1 & -r_2 & 0\\\\\\\n",
    "              0 &  r_2 & 0\n",
    "    \\end{matrix}\\right)\\cdot\n",
    "    \\left(\\begin{matrix}{}\n",
    "           {\\rm [NH^+]}\\\\\\\n",
    "           {\\rm [NH_2^+]}\\\\\\\n",
    "           {\\rm [NH_3^+]}\n",
    "    \\end{matrix}\\right)\n",
    "    $$"
   ]
  },
  {
   "cell_type": "code",
   "execution_count": 7,
   "metadata": {
    "ExecuteTime": {
     "end_time": "2022-11-08T10:15:15.924384Z",
     "start_time": "2022-11-08T10:15:15.916952Z"
    }
   },
   "outputs": [],
   "source": [
    "# implement the right hand side\n",
    "# f(x:float, y:array[float], r:array/matrix[float]) -> array[float]\n",
    "def f(x, y, r):\n",
    "    # task 2"
   ]
  },
  {
   "cell_type": "code",
   "execution_count": null,
   "metadata": {
    "ExecuteTime": {
     "end_time": "2022-11-08T10:15:27.943416Z",
     "start_time": "2022-11-08T10:15:27.772277Z"
    }
   },
   "outputs": [],
   "source": [
    "r = [200, 100]\n",
    "N0 = [1, 0, 0]\n",
    "t, y = euler(f, N0, 0, 0.06, 0.001, args=(r,))\n",
    "plt.plot(t, y);"
   ]
  },
  {
   "cell_type": "markdown",
   "metadata": {},
   "source": [
    "#### Example of stiff system\n",
    "Assume\n",
    "$$\n",
    "\\frac{{\\rm d} A_1}{{\\rm d}t} = -r_1 A_1 + r_2 A_2\n",
    "$$\n",
    "$$\n",
    "\\frac{{\\rm d} A_2}{{\\rm d}t} = +r_1 A_1 - r_2 A_2 - r_3 A_2\n",
    "$$\n",
    "$$\n",
    "\\frac{{\\rm d} B}{{\\rm d}t} = +r_3 A_2\n",
    "$$\n",
    "or\n",
    "$$\n",
    "\\frac{\\rm d}{{\\rm d}t}\n",
    "\\left(\\begin{matrix}{}\n",
    "           {\\rm A_1}\\\\\\\n",
    "           {\\rm A_2}\\\\\\\n",
    "           {\\rm B}\n",
    "    \\end{matrix}\\right) =\n",
    "\\left(\\begin{matrix}{}\n",
    "           -r_1 &  r_2 & 0\\\\\\\n",
    "            r_1 & -r_2-r_3 & 0\\\\\\\n",
    "              0 &  r_3 & 0\n",
    "    \\end{matrix}\\right)\\cdot\n",
    "    \\left(\\begin{matrix}{}\n",
    "           {\\rm A_1}\\\\\\\n",
    "           {\\rm A_2}\\\\\\\n",
    "           {\\rm B}\n",
    "    \\end{matrix}\\right)\n",
    "    $$\n",
    "where $r_1\\approx r_2 \\gg r_3$. Processes $r_1$ and $r_2$ can represent, e.g., fast relaxation of internal states of $A$. Take, for example $r_1 = r_2 = 20000; r_3 = 100$.\n",
    "\n",
    "### Task 03 Solve with Euler and implicit Euler methods"
   ]
  }
 ],
 "metadata": {
  "kernelspec": {
   "display_name": "Python 3 (ipykernel)",
   "language": "python",
   "name": "python3"
  },
  "language_info": {
   "codemirror_mode": {
    "name": "ipython",
    "version": 3
   },
   "file_extension": ".py",
   "mimetype": "text/x-python",
   "name": "python",
   "nbconvert_exporter": "python",
   "pygments_lexer": "ipython3",
   "version": "3.10.12"
  }
 },
 "nbformat": 4,
 "nbformat_minor": 4
}
