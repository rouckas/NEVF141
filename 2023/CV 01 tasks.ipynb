{
 "cells": [
  {
   "cell_type": "markdown",
   "metadata": {},
   "source": [
    "# Exercise 01 tasks"
   ]
  },
  {
   "cell_type": "code",
   "execution_count": null,
   "metadata": {
    "ExecuteTime": {
     "end_time": "2022-11-01T10:06:33.484188Z",
     "start_time": "2022-11-01T10:06:32.881138Z"
    }
   },
   "outputs": [],
   "source": [
    "import numpy as np\n",
    "import matplotlib.pyplot as plt"
   ]
  },
  {
   "cell_type": "markdown",
   "metadata": {},
   "source": [
    "### Differentiation\n",
    "Calculate the derivative of `sin(x)` at `x=1` using forward differences\n",
    "$$\n",
    "\\frac{{\\rm d}f}{{\\rm d}x}\\approx {\\rm D_{FD}}(f, h)(x) = \\frac{f(x+h) - f(x)}{h}\n",
    "$$\n",
    "Compare with analytic calculation. How does the relative error depend on $h$ (in range $10^{-16} - 10^0$, draw the results in log-log graph). Can you explain the observed behavior?"
   ]
  },
  {
   "cell_type": "code",
   "execution_count": null,
   "metadata": {
    "ExecuteTime": {
     "end_time": "2022-11-01T10:06:33.693435Z",
     "start_time": "2022-11-01T10:06:33.690355Z"
    }
   },
   "outputs": [],
   "source": [
    "def f(x): return np.sin(x)\n",
    "def dfdx(x): return np.cos(x)"
   ]
  },
  {
   "cell_type": "code",
   "execution_count": null,
   "metadata": {
    "ExecuteTime": {
     "end_time": "2022-11-01T10:06:52.712281Z",
     "start_time": "2022-11-01T10:06:52.709242Z"
    }
   },
   "outputs": [],
   "source": [
    "# (forward differences)\n",
    "# task 1\n",
    "def diff_FD(f, x, h):"
   ]
  },
  {
   "cell_type": "code",
   "execution_count": null,
   "metadata": {
    "ExecuteTime": {
     "end_time": "2022-11-01T10:06:55.156453Z",
     "start_time": "2022-11-01T10:06:55.153418Z"
    }
   },
   "outputs": [],
   "source": [
    "# calculate derivative at x0=1. for dx in the range:\n",
    "x0 = 1.0\n",
    "h = np.logspace(-16, 0, 500)"
   ]
  },
  {
   "cell_type": "markdown",
   "metadata": {},
   "source": [
    "Compare with centered differences"
   ]
  },
  {
   "cell_type": "code",
   "execution_count": null,
   "metadata": {
    "ExecuteTime": {
     "end_time": "2022-11-01T10:14:08.126239Z",
     "start_time": "2022-11-01T10:14:08.123872Z"
    }
   },
   "outputs": [],
   "source": [
    "# (central differences)\n",
    "# task 2\n",
    "def diff_CD(f, x, h):"
   ]
  },
  {
   "cell_type": "markdown",
   "metadata": {},
   "source": [
    "## Integration\n",
    "Integrate `4/(1+x**2)` on interval `[0,1]` by rectangle method (RM) - splitting to 100 interals, $n=100$:\n",
    "$$\n",
    "I^{\\rm OP} = \\sum_{i=0}^{n-1} f(x_i + \\xi h)h\n",
    "$$\n",
    "$$\n",
    "x_i = a + ih;\\quad h=\\frac{b-a}{n}\n",
    "$$\n",
    "Calculate for $\\xi = 0$"
   ]
  },
  {
   "cell_type": "code",
   "execution_count": null,
   "metadata": {
    "ExecuteTime": {
     "end_time": "2022-11-01T10:50:41.825453Z",
     "start_time": "2022-11-01T10:50:41.822232Z"
    }
   },
   "outputs": [],
   "source": [
    "def quad_rectangle(f, a, b, N, xi=0.):\n",
    "    # task 3\n"
   ]
  },
  {
   "cell_type": "code",
   "execution_count": null,
   "metadata": {
    "ExecuteTime": {
     "end_time": "2022-11-01T10:50:45.049776Z",
     "start_time": "2022-11-01T10:50:45.047405Z"
    }
   },
   "outputs": [],
   "source": [
    "def f(x): return 4/(1+x**2)"
   ]
  },
  {
   "cell_type": "code",
   "execution_count": null,
   "metadata": {
    "ExecuteTime": {
     "end_time": "2022-11-01T10:51:18.017896Z",
     "start_time": "2022-11-01T10:51:18.013143Z"
    }
   },
   "outputs": [],
   "source": [
    "print(quad_rectangle(f, 0, 1, 100, xi=0.) - np.pi)"
   ]
  }
 ],
 "metadata": {
  "kernelspec": {
   "display_name": "Python 3 (ipykernel)",
   "language": "python",
   "name": "python3"
  },
  "language_info": {
   "codemirror_mode": {
    "name": "ipython",
    "version": 3
   },
   "file_extension": ".py",
   "mimetype": "text/x-python",
   "name": "python",
   "nbconvert_exporter": "python",
   "pygments_lexer": "ipython3",
   "version": "3.10.12"
  }
 },
 "nbformat": 4,
 "nbformat_minor": 4
}
