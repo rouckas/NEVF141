{
 "cells": [
  {
   "cell_type": "code",
   "execution_count": 1,
   "metadata": {
    "ExecuteTime": {
     "end_time": "2021-12-06T16:20:26.929628Z",
     "start_time": "2021-12-06T16:20:26.473614Z"
    }
   },
   "outputs": [],
   "source": [
    "import numpy as np\n",
    "import matplotlib.pyplot as plt"
   ]
  },
  {
   "cell_type": "markdown",
   "metadata": {},
   "source": [
    "### Integration of equations of motion"
   ]
  },
  {
   "cell_type": "markdown",
   "metadata": {},
   "source": [
    "#### Linear Harmonic Oscillator\n",
    "\n",
    "Calculate the trajectory of a linear harmonic oscillator where the force is\n",
    "$$F = -kx$$\n",
    "and use the following parameters:"
   ]
  },
  {
   "cell_type": "code",
   "execution_count": 2,
   "metadata": {
    "ExecuteTime": {
     "end_time": "2021-12-06T16:20:28.236581Z",
     "start_time": "2021-12-06T16:20:28.232907Z"
    }
   },
   "outputs": [],
   "source": [
    "k = 1.\n",
    "tmax = 20\n",
    "dt = 0.1\n",
    "v0 = 0\n",
    "x0 = 1\n",
    "m = 1"
   ]
  },
  {
   "cell_type": "code",
   "execution_count": 3,
   "metadata": {
    "ExecuteTime": {
     "end_time": "2021-12-06T16:20:29.723722Z",
     "start_time": "2021-12-06T16:20:29.721058Z"
    }
   },
   "outputs": [],
   "source": [
    "# Síla a potenciál LHO\n",
    "def F(x, v, t, k=1):\n",
    "    return -k*x\n",
    "def U(x, v, t, k=1):\n",
    "    return 0.5*k*x**2"
   ]
  },
  {
   "cell_type": "markdown",
   "metadata": {},
   "source": [
    " - Plot the result in a phase diagram $x$-$v$\n",
    " - Verify the law of conservation of energy\n",
    " \n",
    " - Do the same calculation using the Euler Cromer method and compare"
   ]
  },
  {
   "cell_type": "markdown",
   "metadata": {},
   "source": [
    "We may define functions for the Euler and Euler-Cromer methods (a bit more general than necessary, for calculations in 1D, 2D,...)"
   ]
  },
  {
   "cell_type": "code",
   "execution_count": 4,
   "metadata": {
    "ExecuteTime": {
     "end_time": "2021-12-06T16:22:31.055783Z",
     "start_time": "2021-12-06T16:22:31.013083Z"
    }
   },
   "outputs": [],
   "source": [
    "def euler_motion(F, m, x0, v0, tmax, dt):\n",
    "    nstep = int(np.ceil(tmax/dt))\n",
    "    x = np.zeros((nstep+1, len(x0)))\n",
    "    v = np.zeros((nstep+1, len(x0)))\n",
    "    t = np.arange(nstep+1)*dt\n",
    "    \n",
    "    # task 1\n",
    "        \n",
    "    return v, x, t"
   ]
  },
  {
   "cell_type": "code",
   "execution_count": 5,
   "metadata": {
    "ExecuteTime": {
     "end_time": "2021-12-06T16:22:31.983865Z",
     "start_time": "2021-12-06T16:22:31.976834Z"
    }
   },
   "outputs": [],
   "source": [
    "def euler_cromer_motion(F, m, x0, v0, tmax, dt):\n",
    "    nstep = int(np.ceil(tmax/dt))\n",
    "    x = np.zeros((nstep+1, len(x0)))\n",
    "    v = np.zeros((nstep+1, len(x0)))\n",
    "    t = np.arange(nstep+1)*dt\n",
    "    \n",
    "    # task 2\n",
    "        \n",
    "    return v, x, t"
   ]
  },
  {
   "cell_type": "code",
   "execution_count": 6,
   "metadata": {
    "ExecuteTime": {
     "end_time": "2021-12-06T16:25:33.360856Z",
     "start_time": "2021-12-06T16:25:33.351954Z"
    }
   },
   "outputs": [],
   "source": [
    "v_e, x_e, t_e = euler_motion(F, m, [x0], [v0], tmax, dt)\n",
    "v_ec, x_ec, t_ec = euler_cromer_motion(F, m, [x0], [v0], tmax, dt)"
   ]
  }
 ],
 "metadata": {
  "kernelspec": {
   "display_name": "Python 3 (ipykernel)",
   "language": "python",
   "name": "python3"
  },
  "language_info": {
   "codemirror_mode": {
    "name": "ipython",
    "version": 3
   },
   "file_extension": ".py",
   "mimetype": "text/x-python",
   "name": "python",
   "nbconvert_exporter": "python",
   "pygments_lexer": "ipython3",
   "version": "3.10.12"
  }
 },
 "nbformat": 4,
 "nbformat_minor": 4
}
