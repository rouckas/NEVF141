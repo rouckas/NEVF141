{
 "cells": [
  {
   "cell_type": "markdown",
   "metadata": {},
   "source": [
    "# MC model of particle movement on the crystal surface"
   ]
  },
  {
   "cell_type": "code",
   "execution_count": 3,
   "metadata": {
    "ExecuteTime": {
     "end_time": "2021-12-14T09:50:27.524435Z",
     "start_time": "2021-12-14T09:50:27.062967Z"
    },
    "execution": {
     "iopub.execute_input": "2024-01-22T10:10:52.208748Z",
     "iopub.status.busy": "2024-01-22T10:10:52.208613Z",
     "iopub.status.idle": "2024-01-22T10:10:52.210598Z",
     "shell.execute_reply": "2024-01-22T10:10:52.210346Z",
     "shell.execute_reply.started": "2024-01-22T10:10:52.208735Z"
    }
   },
   "outputs": [],
   "source": [
    "import numpy as np\n",
    "import matplotlib.pyplot as plt"
   ]
  },
  {
   "cell_type": "markdown",
   "metadata": {},
   "source": [
    "Simulate the motion of a particle on a 100x100 grid with periodic boundary conditions. Simulate the position of the particle as a \"value\" in a 2D field. Allowed jumps are left, right, up and down with equal probability. Calculate the state after 100000 steps. Choose a random starting position.\n",
    "\n",
    "Also calculate the probability of occupation of individual grid points - so you need to have one more grid for statistics, in which you will accumulate the number of steps when the cell was occupied. Plot the density map.\n",
    "\n",
    "\n",
    "How many steps did the particle spend at most and at least in one cell? Does it fit the Poisson distribution?"
   ]
  },
  {
   "cell_type": "code",
   "execution_count": 4,
   "metadata": {
    "ExecuteTime": {
     "end_time": "2021-12-14T09:50:27.675950Z",
     "start_time": "2021-12-14T09:50:27.671573Z"
    },
    "execution": {
     "iopub.execute_input": "2024-01-22T10:10:54.031066Z",
     "iopub.status.busy": "2024-01-22T10:10:54.030834Z",
     "iopub.status.idle": "2024-01-22T10:10:54.033464Z",
     "shell.execute_reply": "2024-01-22T10:10:54.033123Z",
     "shell.execute_reply.started": "2024-01-22T10:10:54.031047Z"
    }
   },
   "outputs": [],
   "source": [
    "# suggested data structures\n",
    "FREE = 0\n",
    "PARTICLE = 1\n",
    "\n",
    "N = 100\n",
    "grid = np.full((N, N), FREE, dtype=np.int8)\n"
   ]
  },
  {
   "cell_type": "code",
   "execution_count": 7,
   "metadata": {
    "execution": {
     "iopub.execute_input": "2024-01-22T10:12:19.028450Z",
     "iopub.status.busy": "2024-01-22T10:12:19.028284Z",
     "iopub.status.idle": "2024-01-22T10:12:19.031162Z",
     "shell.execute_reply": "2024-01-22T10:12:19.030766Z",
     "shell.execute_reply.started": "2024-01-22T10:12:19.028439Z"
    }
   },
   "outputs": [
    {
     "name": "stdout",
     "output_type": "stream",
     "text": [
      "[99] [99]\n"
     ]
    }
   ],
   "source": [
    "## some hints:\n",
    "# add particle in the corner:\n",
    "grid[N-1, N-1] = PARTICLE\n",
    "\n",
    "# get positions of all particles\n",
    "iis, jjs = np.where(grid==PARTICLE)\n",
    "print(iis, jjs)"
   ]
  },
  {
   "cell_type": "markdown",
   "metadata": {
    "ExecuteTime": {
     "end_time": "2021-12-14T10:46:22.012776Z",
     "start_time": "2021-12-14T10:46:22.007527Z"
    }
   },
   "source": [
    "## Credit task II\n",
    "\n",
    "Simulate \"crystallization\". If a particle has at least 1 neighbor, it can no longer move. Add a new particle at random position every 100 steps. Simulate 100000 steps in total.\n",
    "\n",
    "Alternatively, you can simulate growth from a fixed crystallization core in the middle of the work area.\n",
    "\n",
    "Possible further experiments: alternative definitions of neighbors (eg diagonally); non-zero probability of movement of a \"crystallized\" particle (e.g. depending on the number of neighbors)"
   ]
  }
 ],
 "metadata": {
  "kernelspec": {
   "display_name": "Python 3 (ipykernel)",
   "language": "python",
   "name": "python3"
  },
  "language_info": {
   "codemirror_mode": {
    "name": "ipython",
    "version": 3
   },
   "file_extension": ".py",
   "mimetype": "text/x-python",
   "name": "python",
   "nbconvert_exporter": "python",
   "pygments_lexer": "ipython3",
   "version": "3.11.4"
  }
 },
 "nbformat": 4,
 "nbformat_minor": 4
}
