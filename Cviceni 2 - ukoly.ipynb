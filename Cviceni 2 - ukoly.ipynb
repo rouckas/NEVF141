{
 "cells": [
  {
   "cell_type": "code",
   "execution_count": 1,
   "metadata": {},
   "outputs": [],
   "source": [
    "import numpy as np\n",
    "import matplotlib.pyplot as plt"
   ]
  },
  {
   "cell_type": "markdown",
   "metadata": {},
   "source": [
    "### Minimalizace"
   ]
  },
  {
   "cell_type": "markdown",
   "metadata": {},
   "source": [
    "Ukázka Newtonovy metody\n"
   ]
  },
  {
   "cell_type": "code",
   "execution_count": 2,
   "metadata": {},
   "outputs": [],
   "source": [
    "def newton_min(f, df, ddf, a):\n",
    "    for i in range(10):\n",
    "        a_new = a - df(a)/ddf(a)\n",
    "        if a_new == a:\n",
    "            if ddf(a) > 0:\n",
    "                return a\n",
    "            else:\n",
    "                raise(RuntimeError(\"Method did not converge to minimum\"))\n",
    "        a = a_new"
   ]
  },
  {
   "cell_type": "code",
   "execution_count": 3,
   "metadata": {},
   "outputs": [],
   "source": [
    "def f(x): return x**2 + x\n",
    "def df(x): return 2*x + 1\n",
    "def ddf(x): return 2"
   ]
  },
  {
   "cell_type": "code",
   "execution_count": 4,
   "metadata": {},
   "outputs": [
    {
     "data": {
      "text/plain": [
       "-0.5"
      ]
     },
     "execution_count": 4,
     "metadata": {},
     "output_type": "execute_result"
    }
   ],
   "source": [
    "newton_min(f, df, ddf, 1)"
   ]
  },
  {
   "cell_type": "code",
   "execution_count": 5,
   "metadata": {},
   "outputs": [
    {
     "data": {
      "image/png": "[encoded data removed]",
      "text/plain": [
       "<Figure size 432x288 with 1 Axes>"
      ]
     },
     "metadata": {
      "needs_background": "light"
     },
     "output_type": "display_data"
    }
   ],
   "source": [
    "x = np.linspace(-2, 2)\n",
    "plt.plot(x, f(x))\n",
    "plt.ylim(ymax=2)\n",
    "plt.grid()"
   ]
  },
  {
   "cell_type": "markdown",
   "metadata": {},
   "source": [
    "Úkol č. 1: naprogramujte hledání minima metoda zlatého řezu (dělení intervalu).\n",
    "\n",
    "Najděte minimum funkce `cos(x)` v intervalu `[2, 4]`. Sledujte rychlost konvergence - tedy přesnost určení polohy minima `xmin` a funkční hodnoty `cos(xmin)` v minimu v závislosti na počtu iterací. S jakou přesností lze tyto parametry určit?"
   ]
  },
  {
   "cell_type": "code",
   "execution_count": 6,
   "metadata": {},
   "outputs": [],
   "source": [
    "def golden_min(f, a, b, tol=1e-5):\n",
    "    # ukol 1\n",
    "    "
   ]
  },
  {
   "cell_type": "code",
   "execution_count": 9,
   "metadata": {},
   "outputs": [],
   "source": [
    "f = np.cos\n",
    "true_min = np.pi"
   ]
  },
  {
   "cell_type": "markdown",
   "metadata": {},
   "source": [
    "Poté najděte minimum funkce `1 + (x-0.1)**4` na intervalu `[-1, 1]` a obdobným způsobem zhodnoťte přenost určení minima."
   ]
  },
  {
   "cell_type": "code",
   "execution_count": 10,
   "metadata": {},
   "outputs": [],
   "source": [
    "f = lambda x: 1 + (x-0.1)**4\n",
    "true_min = 0.1\n"
   ]
  },
  {
   "cell_type": "markdown",
   "metadata": {},
   "source": [
    "## Řešení Poissonovy rovnice"
   ]
  },
  {
   "cell_type": "markdown",
   "metadata": {},
   "source": [
    "Vypočtěte teplotní profil uvnitř polystyrenové desky s tepelnou vodivostí $k=0.03\\rm\\ W / m\\,K$ o síle $L=0.1\\rm\\ m$, kde na jedné straně desky je teplota $T_1 = 200\\rm\\ K$ a na druhé straně $T_2 = 300\\rm\\ K$.\n",
    "\n",
    "Řešte tedy Poissonovu rovnici\n",
    "$$-k\\Delta T = 0$$\n",
    "Použijte 100 mřížových bodů (včetně okrajů). Řešte nejprve Jacobiho metodou. Jako kritérium zastavení výpočtu porovnávejte sumu kvadrátů změny v poslední iteraci s epsilon=1e-5: `sum(res**2) < epsilon**2`"
   ]
  },
  {
   "cell_type": "code",
   "execution_count": 138,
   "metadata": {},
   "outputs": [],
   "source": [
    "xmax = 0.1\n",
    "k = 0.03\n",
    "T1, T2 = 200., 300."
   ]
  },
  {
   "cell_type": "code",
   "execution_count": 139,
   "metadata": {},
   "outputs": [],
   "source": [
    "Nx = 100\n",
    "dx = xmax/(Nx-1)"
   ]
  },
  {
   "cell_type": "markdown",
   "metadata": {},
   "source": [
    "Definujeme pole neznámých a zapíšeme okrajové podmínky"
   ]
  },
  {
   "cell_type": "code",
   "execution_count": 140,
   "metadata": {},
   "outputs": [],
   "source": [
    "U0 = np.zeros(Nx)\n",
    "U0[0] = T1\n",
    "U0[-1] = T2"
   ]
  },
  {
   "cell_type": "code",
   "execution_count": 141,
   "metadata": {},
   "outputs": [],
   "source": [
    "U = U0.copy()\n",
    "maxiter = 100000\n",
    "for it in range(maxiter):\n",
    "    # ukol 2 doplnit jadro Jacobiho metody\n",
    "    \n",
    "    \n",
    "    if sum(res**2) < epsilon**2: break"
   ]
  },
  {
   "cell_type": "markdown",
   "metadata": {},
   "source": [
    "Řešte stejný problém Gauss-Seidelovou metodou a porovnejte potřebný počet iterací"
   ]
  },
  {
   "cell_type": "code",
   "execution_count": null,
   "metadata": {
    "scrolled": true
   },
   "outputs": [],
   "source": [
    "U = U0.copy()\n",
    "for it in range(maxiter):\n",
    "    # ukol 3 doplnit jadro Gauss-Seidelovy metody\n",
    "    \n",
    "    \n",
    "    \n",
    "    \n",
    "    if err < epsilon**2: break"
   ]
  },
  {
   "cell_type": "markdown",
   "metadata": {},
   "source": [
    "Aplikujte superrelaxaci v řešiči s Gauss-Seidelovou metodou. Studujte závislost počtu iterací na parametru `omega` v intervalu `[1, 2]`."
   ]
  },
  {
   "cell_type": "code",
   "execution_count": 147,
   "metadata": {},
   "outputs": [],
   "source": [
    "def solve_poisson_SOR(U0, Nx, omega, maxiter=10**5):\n",
    "    U = U0.copy()\n",
    "    for it in range(maxiter):\n",
    "        # ukol 4 jadro Gauss-Seidelovy metody doplnene\n",
    "        # o superrelaxaci\n",
    "        \n",
    "        \n",
    "        \n",
    "        \n",
    "    return it"
   ]
  },
  {
   "cell_type": "code",
   "execution_count": null,
   "metadata": {},
   "outputs": [],
   "source": [
    "omega = np.linspace(1, 2, 100)\n",
    "iters = [solve_poisson_SOR(U0, Nx, o) for o in omega]"
   ]
  },
  {
   "cell_type": "code",
   "execution_count": null,
   "metadata": {},
   "outputs": [],
   "source": [
    "plt.plot(omega, iters)\n",
    "omega_theory = 2/(1+np.sqrt(1 - np.cos(np.pi/(Nx-2))**2))\n",
    "plt.axvline(omega_theory, c=\"r\")\n",
    "plt.grid()\n",
    "plt.ylim(0, 13000)"
   ]
  },
  {
   "cell_type": "code",
   "execution_count": null,
   "metadata": {},
   "outputs": [],
   "source": []
  }
 ],
 "metadata": {
  "kernelspec": {
   "display_name": "Python 3",
   "language": "python",
   "name": "python3"
  },
  "language_info": {
   "codemirror_mode": {
    "name": "ipython",
    "version": 3
   },
   "file_extension": ".py",
   "mimetype": "text/x-python",
   "name": "python",
   "nbconvert_exporter": "python",
   "pygments_lexer": "ipython3",
   "version": "3.8.5"
  }
 },
 "nbformat": 4,
 "nbformat_minor": 4
}
